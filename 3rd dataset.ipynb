{
  "nbformat": 4,
  "nbformat_minor": 0,
  "metadata": {
    "colab": {
      "provenance": [],
      "include_colab_link": true
    },
    "kernelspec": {
      "name": "python3",
      "display_name": "Python 3"
    },
    "language_info": {
      "name": "python"
    }
  },
  "cells": [
    {
      "cell_type": "markdown",
      "metadata": {
        "id": "view-in-github",
        "colab_type": "text"
      },
      "source": [
        "<a href=\"https://colab.research.google.com/github/FathimaNazarudeen/medical/blob/main/3rd%20dataset.ipynb\" target=\"_parent\"><img src=\"https://colab.research.google.com/assets/colab-badge.svg\" alt=\"Open In Colab\"/></a>"
      ]
    },
    {
      "cell_type": "code",
      "execution_count": 1015,
      "metadata": {
        "id": "nvSzPb7CQl_T"
      },
      "outputs": [],
      "source": [
        "import pandas as pd \n",
        "import numpy as np"
      ]
    },
    {
      "cell_type": "code",
      "source": [
        "data=pd.read_csv(\"/content/thirddatasetdata3lung1.csv\")"
      ],
      "metadata": {
        "id": "xAxdXsuAQnjF"
      },
      "execution_count": 1016,
      "outputs": []
    },
    {
      "cell_type": "code",
      "source": [
        "data['Label'].value_counts()"
      ],
      "metadata": {
        "colab": {
          "base_uri": "https://localhost:8080/"
        },
        "id": "rLu6oK0zQ-xj",
        "outputId": "89a607cd-c207-4031-eb1e-b94c7fb81f2d"
      },
      "execution_count": 1017,
      "outputs": [
        {
          "output_type": "execute_result",
          "data": {
            "text/plain": [
              "squamous cell carcinoma    83\n",
              "large cell                 71\n",
              "others                     70\n",
              "adenocarcinoma             23\n",
              "Name: Label, dtype: int64"
            ]
          },
          "metadata": {},
          "execution_count": 1017
        }
      ]
    },
    {
      "cell_type": "code",
      "source": [
        "data.columns"
      ],
      "metadata": {
        "colab": {
          "base_uri": "https://localhost:8080/"
        },
        "id": "RChi7Z1iREq3",
        "outputId": "1d89fcaa-7b0e-4e14-b34a-cbe25765e06c"
      },
      "execution_count": 1018,
      "outputs": [
        {
          "output_type": "execute_result",
          "data": {
            "text/plain": [
              "Index(['patient', 'original_shape_Elongation', 'original_shape_Flatness',\n",
              "       'original_shape_LeastAxisLength', 'original_shape_MajorAxisLength',\n",
              "       'original_shape_Maximum2DDiameterColumn',\n",
              "       'original_shape_Maximum2DDiameterRow',\n",
              "       'original_shape_Maximum2DDiameterSlice',\n",
              "       'original_shape_Maximum3DDiameter', 'original_shape_MeshVolume',\n",
              "       ...\n",
              "       'wavelet-LLL_gldm_LowGrayLevelEmphasis',\n",
              "       'wavelet-LLL_gldm_SmallDependenceEmphasis',\n",
              "       'wavelet-LLL_gldm_SmallDependenceHighGrayLevelEmphasis',\n",
              "       'wavelet-LLL_gldm_SmallDependenceLowGrayLevelEmphasis',\n",
              "       'wavelet-LLL_ngtdm_Busyness', 'wavelet-LLL_ngtdm_Coarseness',\n",
              "       'wavelet-LLL_ngtdm_Complexity', 'wavelet-LLL_ngtdm_Contrast',\n",
              "       'wavelet-LLL_ngtdm_Strength', 'Label'],\n",
              "      dtype='object', length=1095)"
            ]
          },
          "metadata": {},
          "execution_count": 1018
        }
      ]
    },
    {
      "cell_type": "markdown",
      "source": [
        "**DATA PREPROCESSING**"
      ],
      "metadata": {
        "id": "sLqdVTM9dv9F"
      }
    },
    {
      "cell_type": "code",
      "source": [
        "data_real = data.replace(np.inf, np.nan)"
      ],
      "metadata": {
        "id": "g7ChMepFRHsr"
      },
      "execution_count": 1019,
      "outputs": []
    },
    {
      "cell_type": "code",
      "source": [
        "data_real.isnull().sum().sum()"
      ],
      "metadata": {
        "colab": {
          "base_uri": "https://localhost:8080/"
        },
        "id": "h4sEgrHtRBJ2",
        "outputId": "c0ca75fc-b659-4baa-ff71-67378f567cd0"
      },
      "execution_count": 1020,
      "outputs": [
        {
          "output_type": "execute_result",
          "data": {
            "text/plain": [
              "0"
            ]
          },
          "metadata": {},
          "execution_count": 1020
        }
      ]
    },
    {
      "cell_type": "code",
      "source": [
        "data_df = data_real.dropna(axis=0)"
      ],
      "metadata": {
        "id": "xxMvZgRvRobm"
      },
      "execution_count": 1021,
      "outputs": []
    },
    {
      "cell_type": "code",
      "source": [
        "data_df.isnull().sum().sum()"
      ],
      "metadata": {
        "colab": {
          "base_uri": "https://localhost:8080/"
        },
        "id": "azORVdTuRtHX",
        "outputId": "7f610bd1-44b5-47f8-debd-9503e0684c4e"
      },
      "execution_count": 1022,
      "outputs": [
        {
          "output_type": "execute_result",
          "data": {
            "text/plain": [
              "0"
            ]
          },
          "metadata": {},
          "execution_count": 1022
        }
      ]
    },
    {
      "cell_type": "code",
      "source": [
        "data_df"
      ],
      "metadata": {
        "colab": {
          "base_uri": "https://localhost:8080/",
          "height": 678
        },
        "id": "-kSZ5EHHRtJ1",
        "outputId": "14e0f7e7-088c-471f-86cb-9c1c2204da3f"
      },
      "execution_count": 1023,
      "outputs": [
        {
          "output_type": "execute_result",
          "data": {
            "text/plain": [
              "       patient  original_shape_Elongation  original_shape_Flatness  \\\n",
              "0    LUNG1-001                   0.725056                 0.542669   \n",
              "1    LUNG1-002                   0.879932                 0.754730   \n",
              "2    LUNG1-003                   0.362974                 0.249876   \n",
              "3    LUNG1-003                   0.795795                 0.755102   \n",
              "4    LUNG1-003                   0.523305                 0.329181   \n",
              "..         ...                        ...                      ...   \n",
              "242  LUNG1-378                   0.858946                 0.629041   \n",
              "243  LUNG1-388                   0.661093                 0.434015   \n",
              "244  LUNG1-392                   0.816302                 0.481091   \n",
              "245  LUNG1-393                   0.661763                 0.356202   \n",
              "246  LUNG1-393                   0.721736                 0.677310   \n",
              "\n",
              "     original_shape_LeastAxisLength  original_shape_MajorAxisLength  \\\n",
              "0                         45.889741                       84.562987   \n",
              "1                         69.809269                       92.495665   \n",
              "2                         17.215103                       68.894569   \n",
              "3                         34.321101                       45.452273   \n",
              "4                         24.436223                       74.233328   \n",
              "..                              ...                             ...   \n",
              "242                       22.559131                       35.862723   \n",
              "243                       13.310877                       30.669187   \n",
              "244                       25.611396                       53.236098   \n",
              "245                       15.229367                       42.754858   \n",
              "246                       55.020041                       81.233185   \n",
              "\n",
              "     original_shape_Maximum2DDiameterColumn  \\\n",
              "0                                 94.339811   \n",
              "1                                114.769334   \n",
              "2                                 53.366656   \n",
              "3                                 46.173586   \n",
              "4                                 55.317267   \n",
              "..                                      ...   \n",
              "242                               41.231056   \n",
              "243                               26.000000   \n",
              "244                               60.827625   \n",
              "245                               44.407207   \n",
              "246                               92.800862   \n",
              "\n",
              "     original_shape_Maximum2DDiameterRow  \\\n",
              "0                              82.873397   \n",
              "1                             102.078401   \n",
              "2                              32.802439   \n",
              "3                              51.613952   \n",
              "4                              84.380092   \n",
              "..                                   ...   \n",
              "242                            40.199502   \n",
              "243                            34.058773   \n",
              "244                            62.769419   \n",
              "245                            44.721360   \n",
              "246                            98.488578   \n",
              "\n",
              "     original_shape_Maximum2DDiameterSlice  original_shape_Maximum3DDiameter  \\\n",
              "0                                94.339811                         95.833188   \n",
              "1                               103.247276                        124.643492   \n",
              "2                                54.589376                         55.821143   \n",
              "3                                53.141321                         54.589376   \n",
              "4                                62.609903                         84.970583   \n",
              "..                                     ...                               ...   \n",
              "242                              44.944410                         46.518813   \n",
              "243                              30.265492                         34.583233   \n",
              "244                              58.240879                         67.022384   \n",
              "245                              34.058773                         45.782093   \n",
              "246                              84.095184                         99.979998   \n",
              "\n",
              "     original_shape_MeshVolume  ...  wavelet-LLL_gldm_LowGrayLevelEmphasis  \\\n",
              "0                155537.666700  ...                               0.000100   \n",
              "1                355183.333300  ...                               0.000032   \n",
              "2                  8015.000000  ...                               0.001016   \n",
              "3                 38462.666670  ...                               0.000308   \n",
              "4                 33823.000000  ...                               0.000252   \n",
              "..                         ...  ...                                    ...   \n",
              "242               15655.333330  ...                               0.000583   \n",
              "243                4879.333333  ...                               0.001622   \n",
              "244               37239.000000  ...                               0.000271   \n",
              "245                4497.000000  ...                               0.001824   \n",
              "246              166493.000000  ...                               0.000128   \n",
              "\n",
              "     wavelet-LLL_gldm_SmallDependenceEmphasis  \\\n",
              "0                                    0.664985   \n",
              "1                                    0.562477   \n",
              "2                                    0.767127   \n",
              "3                                    0.550780   \n",
              "4                                    0.798534   \n",
              "..                                        ...   \n",
              "242                                  0.631247   \n",
              "243                                  0.882267   \n",
              "244                                  0.786842   \n",
              "245                                  0.654714   \n",
              "246                                  0.402442   \n",
              "\n",
              "     wavelet-LLL_gldm_SmallDependenceHighGrayLevelEmphasis  \\\n",
              "0                                         92655.340510       \n",
              "1                                        119165.812700       \n",
              "2                                         21200.197220       \n",
              "3                                          6792.975938       \n",
              "4                                        140103.795900       \n",
              "..                                                 ...       \n",
              "242                                       34150.674650       \n",
              "243                                      221264.310900       \n",
              "244                                       68418.062950       \n",
              "245                                        7081.034332       \n",
              "246                                       14750.052620       \n",
              "\n",
              "     wavelet-LLL_gldm_SmallDependenceLowGrayLevelEmphasis  \\\n",
              "0                                             0.000098      \n",
              "1                                             0.000030      \n",
              "2                                             0.001008      \n",
              "3                                             0.000268      \n",
              "4                                             0.000250      \n",
              "..                                                 ...      \n",
              "242                                           0.000578      \n",
              "243                                           0.001621      \n",
              "244                                           0.000269      \n",
              "245                                           0.001787      \n",
              "246                                           0.000113      \n",
              "\n",
              "     wavelet-LLL_ngtdm_Busyness  wavelet-LLL_ngtdm_Coarseness  \\\n",
              "0                      0.007656                      0.000435   \n",
              "1                      0.007018                      0.000320   \n",
              "2                      0.004728                      0.010123   \n",
              "3                      0.015010                      0.002804   \n",
              "4                      0.001681                      0.002110   \n",
              "..                          ...                           ...   \n",
              "242                    0.003251                      0.003734   \n",
              "243                    0.000530                      0.011488   \n",
              "244                    0.003429                      0.001911   \n",
              "245                    0.005967                      0.018799   \n",
              "246                    0.029053                      0.000472   \n",
              "\n",
              "     wavelet-LLL_ngtdm_Complexity  wavelet-LLL_ngtdm_Contrast  \\\n",
              "0                    2.644282e+06                    1.349031   \n",
              "1                    2.279859e+06                    0.939001   \n",
              "2                    1.003403e+05                    1.043180   \n",
              "3                    8.833958e+04                    0.242785   \n",
              "4                    3.815156e+06                    3.810951   \n",
              "..                            ...                         ...   \n",
              "242                  5.346041e+05                    1.853703   \n",
              "243                  2.815357e+06                   19.749764   \n",
              "244                  2.036892e+06                    3.771305   \n",
              "245                  2.306654e+04                    0.649522   \n",
              "246                  1.541301e+05                    0.189581   \n",
              "\n",
              "     wavelet-LLL_ngtdm_Strength                    Label  \n",
              "0                     90.448629               large cell  \n",
              "1                    110.364475  squamous cell carcinoma  \n",
              "2                     82.613853               large cell  \n",
              "3                     38.399103               large cell  \n",
              "4                    343.304223               large cell  \n",
              "..                          ...                      ...  \n",
              "242                  164.920612  squamous cell carcinoma  \n",
              "243                 1846.205741           adenocarcinoma  \n",
              "244                  157.644501           adenocarcinoma  \n",
              "245                   58.643869  squamous cell carcinoma  \n",
              "246                   25.625031  squamous cell carcinoma  \n",
              "\n",
              "[247 rows x 1095 columns]"
            ],
            "text/html": [
              "\n",
              "  <div id=\"df-77f15639-30ce-4c5b-b23b-f27f76bde415\">\n",
              "    <div class=\"colab-df-container\">\n",
              "      <div>\n",
              "<style scoped>\n",
              "    .dataframe tbody tr th:only-of-type {\n",
              "        vertical-align: middle;\n",
              "    }\n",
              "\n",
              "    .dataframe tbody tr th {\n",
              "        vertical-align: top;\n",
              "    }\n",
              "\n",
              "    .dataframe thead th {\n",
              "        text-align: right;\n",
              "    }\n",
              "</style>\n",
              "<table border=\"1\" class=\"dataframe\">\n",
              "  <thead>\n",
              "    <tr style=\"text-align: right;\">\n",
              "      <th></th>\n",
              "      <th>patient</th>\n",
              "      <th>original_shape_Elongation</th>\n",
              "      <th>original_shape_Flatness</th>\n",
              "      <th>original_shape_LeastAxisLength</th>\n",
              "      <th>original_shape_MajorAxisLength</th>\n",
              "      <th>original_shape_Maximum2DDiameterColumn</th>\n",
              "      <th>original_shape_Maximum2DDiameterRow</th>\n",
              "      <th>original_shape_Maximum2DDiameterSlice</th>\n",
              "      <th>original_shape_Maximum3DDiameter</th>\n",
              "      <th>original_shape_MeshVolume</th>\n",
              "      <th>...</th>\n",
              "      <th>wavelet-LLL_gldm_LowGrayLevelEmphasis</th>\n",
              "      <th>wavelet-LLL_gldm_SmallDependenceEmphasis</th>\n",
              "      <th>wavelet-LLL_gldm_SmallDependenceHighGrayLevelEmphasis</th>\n",
              "      <th>wavelet-LLL_gldm_SmallDependenceLowGrayLevelEmphasis</th>\n",
              "      <th>wavelet-LLL_ngtdm_Busyness</th>\n",
              "      <th>wavelet-LLL_ngtdm_Coarseness</th>\n",
              "      <th>wavelet-LLL_ngtdm_Complexity</th>\n",
              "      <th>wavelet-LLL_ngtdm_Contrast</th>\n",
              "      <th>wavelet-LLL_ngtdm_Strength</th>\n",
              "      <th>Label</th>\n",
              "    </tr>\n",
              "  </thead>\n",
              "  <tbody>\n",
              "    <tr>\n",
              "      <th>0</th>\n",
              "      <td>LUNG1-001</td>\n",
              "      <td>0.725056</td>\n",
              "      <td>0.542669</td>\n",
              "      <td>45.889741</td>\n",
              "      <td>84.562987</td>\n",
              "      <td>94.339811</td>\n",
              "      <td>82.873397</td>\n",
              "      <td>94.339811</td>\n",
              "      <td>95.833188</td>\n",
              "      <td>155537.666700</td>\n",
              "      <td>...</td>\n",
              "      <td>0.000100</td>\n",
              "      <td>0.664985</td>\n",
              "      <td>92655.340510</td>\n",
              "      <td>0.000098</td>\n",
              "      <td>0.007656</td>\n",
              "      <td>0.000435</td>\n",
              "      <td>2.644282e+06</td>\n",
              "      <td>1.349031</td>\n",
              "      <td>90.448629</td>\n",
              "      <td>large cell</td>\n",
              "    </tr>\n",
              "    <tr>\n",
              "      <th>1</th>\n",
              "      <td>LUNG1-002</td>\n",
              "      <td>0.879932</td>\n",
              "      <td>0.754730</td>\n",
              "      <td>69.809269</td>\n",
              "      <td>92.495665</td>\n",
              "      <td>114.769334</td>\n",
              "      <td>102.078401</td>\n",
              "      <td>103.247276</td>\n",
              "      <td>124.643492</td>\n",
              "      <td>355183.333300</td>\n",
              "      <td>...</td>\n",
              "      <td>0.000032</td>\n",
              "      <td>0.562477</td>\n",
              "      <td>119165.812700</td>\n",
              "      <td>0.000030</td>\n",
              "      <td>0.007018</td>\n",
              "      <td>0.000320</td>\n",
              "      <td>2.279859e+06</td>\n",
              "      <td>0.939001</td>\n",
              "      <td>110.364475</td>\n",
              "      <td>squamous cell carcinoma</td>\n",
              "    </tr>\n",
              "    <tr>\n",
              "      <th>2</th>\n",
              "      <td>LUNG1-003</td>\n",
              "      <td>0.362974</td>\n",
              "      <td>0.249876</td>\n",
              "      <td>17.215103</td>\n",
              "      <td>68.894569</td>\n",
              "      <td>53.366656</td>\n",
              "      <td>32.802439</td>\n",
              "      <td>54.589376</td>\n",
              "      <td>55.821143</td>\n",
              "      <td>8015.000000</td>\n",
              "      <td>...</td>\n",
              "      <td>0.001016</td>\n",
              "      <td>0.767127</td>\n",
              "      <td>21200.197220</td>\n",
              "      <td>0.001008</td>\n",
              "      <td>0.004728</td>\n",
              "      <td>0.010123</td>\n",
              "      <td>1.003403e+05</td>\n",
              "      <td>1.043180</td>\n",
              "      <td>82.613853</td>\n",
              "      <td>large cell</td>\n",
              "    </tr>\n",
              "    <tr>\n",
              "      <th>3</th>\n",
              "      <td>LUNG1-003</td>\n",
              "      <td>0.795795</td>\n",
              "      <td>0.755102</td>\n",
              "      <td>34.321101</td>\n",
              "      <td>45.452273</td>\n",
              "      <td>46.173586</td>\n",
              "      <td>51.613952</td>\n",
              "      <td>53.141321</td>\n",
              "      <td>54.589376</td>\n",
              "      <td>38462.666670</td>\n",
              "      <td>...</td>\n",
              "      <td>0.000308</td>\n",
              "      <td>0.550780</td>\n",
              "      <td>6792.975938</td>\n",
              "      <td>0.000268</td>\n",
              "      <td>0.015010</td>\n",
              "      <td>0.002804</td>\n",
              "      <td>8.833958e+04</td>\n",
              "      <td>0.242785</td>\n",
              "      <td>38.399103</td>\n",
              "      <td>large cell</td>\n",
              "    </tr>\n",
              "    <tr>\n",
              "      <th>4</th>\n",
              "      <td>LUNG1-003</td>\n",
              "      <td>0.523305</td>\n",
              "      <td>0.329181</td>\n",
              "      <td>24.436223</td>\n",
              "      <td>74.233328</td>\n",
              "      <td>55.317267</td>\n",
              "      <td>84.380092</td>\n",
              "      <td>62.609903</td>\n",
              "      <td>84.970583</td>\n",
              "      <td>33823.000000</td>\n",
              "      <td>...</td>\n",
              "      <td>0.000252</td>\n",
              "      <td>0.798534</td>\n",
              "      <td>140103.795900</td>\n",
              "      <td>0.000250</td>\n",
              "      <td>0.001681</td>\n",
              "      <td>0.002110</td>\n",
              "      <td>3.815156e+06</td>\n",
              "      <td>3.810951</td>\n",
              "      <td>343.304223</td>\n",
              "      <td>large cell</td>\n",
              "    </tr>\n",
              "    <tr>\n",
              "      <th>...</th>\n",
              "      <td>...</td>\n",
              "      <td>...</td>\n",
              "      <td>...</td>\n",
              "      <td>...</td>\n",
              "      <td>...</td>\n",
              "      <td>...</td>\n",
              "      <td>...</td>\n",
              "      <td>...</td>\n",
              "      <td>...</td>\n",
              "      <td>...</td>\n",
              "      <td>...</td>\n",
              "      <td>...</td>\n",
              "      <td>...</td>\n",
              "      <td>...</td>\n",
              "      <td>...</td>\n",
              "      <td>...</td>\n",
              "      <td>...</td>\n",
              "      <td>...</td>\n",
              "      <td>...</td>\n",
              "      <td>...</td>\n",
              "      <td>...</td>\n",
              "    </tr>\n",
              "    <tr>\n",
              "      <th>242</th>\n",
              "      <td>LUNG1-378</td>\n",
              "      <td>0.858946</td>\n",
              "      <td>0.629041</td>\n",
              "      <td>22.559131</td>\n",
              "      <td>35.862723</td>\n",
              "      <td>41.231056</td>\n",
              "      <td>40.199502</td>\n",
              "      <td>44.944410</td>\n",
              "      <td>46.518813</td>\n",
              "      <td>15655.333330</td>\n",
              "      <td>...</td>\n",
              "      <td>0.000583</td>\n",
              "      <td>0.631247</td>\n",
              "      <td>34150.674650</td>\n",
              "      <td>0.000578</td>\n",
              "      <td>0.003251</td>\n",
              "      <td>0.003734</td>\n",
              "      <td>5.346041e+05</td>\n",
              "      <td>1.853703</td>\n",
              "      <td>164.920612</td>\n",
              "      <td>squamous cell carcinoma</td>\n",
              "    </tr>\n",
              "    <tr>\n",
              "      <th>243</th>\n",
              "      <td>LUNG1-388</td>\n",
              "      <td>0.661093</td>\n",
              "      <td>0.434015</td>\n",
              "      <td>13.310877</td>\n",
              "      <td>30.669187</td>\n",
              "      <td>26.000000</td>\n",
              "      <td>34.058773</td>\n",
              "      <td>30.265492</td>\n",
              "      <td>34.583233</td>\n",
              "      <td>4879.333333</td>\n",
              "      <td>...</td>\n",
              "      <td>0.001622</td>\n",
              "      <td>0.882267</td>\n",
              "      <td>221264.310900</td>\n",
              "      <td>0.001621</td>\n",
              "      <td>0.000530</td>\n",
              "      <td>0.011488</td>\n",
              "      <td>2.815357e+06</td>\n",
              "      <td>19.749764</td>\n",
              "      <td>1846.205741</td>\n",
              "      <td>adenocarcinoma</td>\n",
              "    </tr>\n",
              "    <tr>\n",
              "      <th>244</th>\n",
              "      <td>LUNG1-392</td>\n",
              "      <td>0.816302</td>\n",
              "      <td>0.481091</td>\n",
              "      <td>25.611396</td>\n",
              "      <td>53.236098</td>\n",
              "      <td>60.827625</td>\n",
              "      <td>62.769419</td>\n",
              "      <td>58.240879</td>\n",
              "      <td>67.022384</td>\n",
              "      <td>37239.000000</td>\n",
              "      <td>...</td>\n",
              "      <td>0.000271</td>\n",
              "      <td>0.786842</td>\n",
              "      <td>68418.062950</td>\n",
              "      <td>0.000269</td>\n",
              "      <td>0.003429</td>\n",
              "      <td>0.001911</td>\n",
              "      <td>2.036892e+06</td>\n",
              "      <td>3.771305</td>\n",
              "      <td>157.644501</td>\n",
              "      <td>adenocarcinoma</td>\n",
              "    </tr>\n",
              "    <tr>\n",
              "      <th>245</th>\n",
              "      <td>LUNG1-393</td>\n",
              "      <td>0.661763</td>\n",
              "      <td>0.356202</td>\n",
              "      <td>15.229367</td>\n",
              "      <td>42.754858</td>\n",
              "      <td>44.407207</td>\n",
              "      <td>44.721360</td>\n",
              "      <td>34.058773</td>\n",
              "      <td>45.782093</td>\n",
              "      <td>4497.000000</td>\n",
              "      <td>...</td>\n",
              "      <td>0.001824</td>\n",
              "      <td>0.654714</td>\n",
              "      <td>7081.034332</td>\n",
              "      <td>0.001787</td>\n",
              "      <td>0.005967</td>\n",
              "      <td>0.018799</td>\n",
              "      <td>2.306654e+04</td>\n",
              "      <td>0.649522</td>\n",
              "      <td>58.643869</td>\n",
              "      <td>squamous cell carcinoma</td>\n",
              "    </tr>\n",
              "    <tr>\n",
              "      <th>246</th>\n",
              "      <td>LUNG1-393</td>\n",
              "      <td>0.721736</td>\n",
              "      <td>0.677310</td>\n",
              "      <td>55.020041</td>\n",
              "      <td>81.233185</td>\n",
              "      <td>92.800862</td>\n",
              "      <td>98.488578</td>\n",
              "      <td>84.095184</td>\n",
              "      <td>99.979998</td>\n",
              "      <td>166493.000000</td>\n",
              "      <td>...</td>\n",
              "      <td>0.000128</td>\n",
              "      <td>0.402442</td>\n",
              "      <td>14750.052620</td>\n",
              "      <td>0.000113</td>\n",
              "      <td>0.029053</td>\n",
              "      <td>0.000472</td>\n",
              "      <td>1.541301e+05</td>\n",
              "      <td>0.189581</td>\n",
              "      <td>25.625031</td>\n",
              "      <td>squamous cell carcinoma</td>\n",
              "    </tr>\n",
              "  </tbody>\n",
              "</table>\n",
              "<p>247 rows × 1095 columns</p>\n",
              "</div>\n",
              "      <button class=\"colab-df-convert\" onclick=\"convertToInteractive('df-77f15639-30ce-4c5b-b23b-f27f76bde415')\"\n",
              "              title=\"Convert this dataframe to an interactive table.\"\n",
              "              style=\"display:none;\">\n",
              "        \n",
              "  <svg xmlns=\"http://www.w3.org/2000/svg\" height=\"24px\"viewBox=\"0 0 24 24\"\n",
              "       width=\"24px\">\n",
              "    <path d=\"M0 0h24v24H0V0z\" fill=\"none\"/>\n",
              "    <path d=\"M18.56 5.44l.94 2.06.94-2.06 2.06-.94-2.06-.94-.94-2.06-.94 2.06-2.06.94zm-11 1L8.5 8.5l.94-2.06 2.06-.94-2.06-.94L8.5 2.5l-.94 2.06-2.06.94zm10 10l.94 2.06.94-2.06 2.06-.94-2.06-.94-.94-2.06-.94 2.06-2.06.94z\"/><path d=\"M17.41 7.96l-1.37-1.37c-.4-.4-.92-.59-1.43-.59-.52 0-1.04.2-1.43.59L10.3 9.45l-7.72 7.72c-.78.78-.78 2.05 0 2.83L4 21.41c.39.39.9.59 1.41.59.51 0 1.02-.2 1.41-.59l7.78-7.78 2.81-2.81c.8-.78.8-2.07 0-2.86zM5.41 20L4 18.59l7.72-7.72 1.47 1.35L5.41 20z\"/>\n",
              "  </svg>\n",
              "      </button>\n",
              "      \n",
              "  <style>\n",
              "    .colab-df-container {\n",
              "      display:flex;\n",
              "      flex-wrap:wrap;\n",
              "      gap: 12px;\n",
              "    }\n",
              "\n",
              "    .colab-df-convert {\n",
              "      background-color: #E8F0FE;\n",
              "      border: none;\n",
              "      border-radius: 50%;\n",
              "      cursor: pointer;\n",
              "      display: none;\n",
              "      fill: #1967D2;\n",
              "      height: 32px;\n",
              "      padding: 0 0 0 0;\n",
              "      width: 32px;\n",
              "    }\n",
              "\n",
              "    .colab-df-convert:hover {\n",
              "      background-color: #E2EBFA;\n",
              "      box-shadow: 0px 1px 2px rgba(60, 64, 67, 0.3), 0px 1px 3px 1px rgba(60, 64, 67, 0.15);\n",
              "      fill: #174EA6;\n",
              "    }\n",
              "\n",
              "    [theme=dark] .colab-df-convert {\n",
              "      background-color: #3B4455;\n",
              "      fill: #D2E3FC;\n",
              "    }\n",
              "\n",
              "    [theme=dark] .colab-df-convert:hover {\n",
              "      background-color: #434B5C;\n",
              "      box-shadow: 0px 1px 3px 1px rgba(0, 0, 0, 0.15);\n",
              "      filter: drop-shadow(0px 1px 2px rgba(0, 0, 0, 0.3));\n",
              "      fill: #FFFFFF;\n",
              "    }\n",
              "  </style>\n",
              "\n",
              "      <script>\n",
              "        const buttonEl =\n",
              "          document.querySelector('#df-77f15639-30ce-4c5b-b23b-f27f76bde415 button.colab-df-convert');\n",
              "        buttonEl.style.display =\n",
              "          google.colab.kernel.accessAllowed ? 'block' : 'none';\n",
              "\n",
              "        async function convertToInteractive(key) {\n",
              "          const element = document.querySelector('#df-77f15639-30ce-4c5b-b23b-f27f76bde415');\n",
              "          const dataTable =\n",
              "            await google.colab.kernel.invokeFunction('convertToInteractive',\n",
              "                                                     [key], {});\n",
              "          if (!dataTable) return;\n",
              "\n",
              "          const docLinkHtml = 'Like what you see? Visit the ' +\n",
              "            '<a target=\"_blank\" href=https://colab.research.google.com/notebooks/data_table.ipynb>data table notebook</a>'\n",
              "            + ' to learn more about interactive tables.';\n",
              "          element.innerHTML = '';\n",
              "          dataTable['output_type'] = 'display_data';\n",
              "          await google.colab.output.renderOutput(dataTable, element);\n",
              "          const docLink = document.createElement('div');\n",
              "          docLink.innerHTML = docLinkHtml;\n",
              "          element.appendChild(docLink);\n",
              "        }\n",
              "      </script>\n",
              "    </div>\n",
              "  </div>\n",
              "  "
            ]
          },
          "metadata": {},
          "execution_count": 1023
        }
      ]
    },
    {
      "cell_type": "code",
      "source": [
        "data_X = data_df.drop(['Label'], axis = 1)"
      ],
      "metadata": {
        "id": "lXIrC3tQR_LL"
      },
      "execution_count": 1024,
      "outputs": []
    },
    {
      "cell_type": "code",
      "source": [
        "data_X.columns "
      ],
      "metadata": {
        "colab": {
          "base_uri": "https://localhost:8080/"
        },
        "id": "gOC53qh3SdXN",
        "outputId": "1c16b559-aff5-4c21-956f-37004c1c7659"
      },
      "execution_count": 1025,
      "outputs": [
        {
          "output_type": "execute_result",
          "data": {
            "text/plain": [
              "Index(['patient', 'original_shape_Elongation', 'original_shape_Flatness',\n",
              "       'original_shape_LeastAxisLength', 'original_shape_MajorAxisLength',\n",
              "       'original_shape_Maximum2DDiameterColumn',\n",
              "       'original_shape_Maximum2DDiameterRow',\n",
              "       'original_shape_Maximum2DDiameterSlice',\n",
              "       'original_shape_Maximum3DDiameter', 'original_shape_MeshVolume',\n",
              "       ...\n",
              "       'wavelet-LLL_gldm_LargeDependenceLowGrayLevelEmphasis',\n",
              "       'wavelet-LLL_gldm_LowGrayLevelEmphasis',\n",
              "       'wavelet-LLL_gldm_SmallDependenceEmphasis',\n",
              "       'wavelet-LLL_gldm_SmallDependenceHighGrayLevelEmphasis',\n",
              "       'wavelet-LLL_gldm_SmallDependenceLowGrayLevelEmphasis',\n",
              "       'wavelet-LLL_ngtdm_Busyness', 'wavelet-LLL_ngtdm_Coarseness',\n",
              "       'wavelet-LLL_ngtdm_Complexity', 'wavelet-LLL_ngtdm_Contrast',\n",
              "       'wavelet-LLL_ngtdm_Strength'],\n",
              "      dtype='object', length=1094)"
            ]
          },
          "metadata": {},
          "execution_count": 1025
        }
      ]
    },
    {
      "cell_type": "code",
      "source": [
        "data_df.isnull().sum().sum()"
      ],
      "metadata": {
        "colab": {
          "base_uri": "https://localhost:8080/"
        },
        "id": "nC2McO9GSf5c",
        "outputId": "ff26e7b8-230e-408d-882d-49c7a4730a3a"
      },
      "execution_count": 1026,
      "outputs": [
        {
          "output_type": "execute_result",
          "data": {
            "text/plain": [
              "0"
            ]
          },
          "metadata": {},
          "execution_count": 1026
        }
      ]
    },
    {
      "cell_type": "code",
      "source": [
        "data_y = data_df['Label']"
      ],
      "metadata": {
        "id": "1Uafw9VQS94z"
      },
      "execution_count": 1027,
      "outputs": []
    },
    {
      "cell_type": "markdown",
      "source": [
        "**Label Encoding**"
      ],
      "metadata": {
        "id": "pcXMVMMNS-r_"
      }
    },
    {
      "cell_type": "code",
      "source": [
        "from sklearn.preprocessing import LabelEncoder "
      ],
      "metadata": {
        "id": "k9e4KR8RTBWW"
      },
      "execution_count": 1028,
      "outputs": []
    },
    {
      "cell_type": "code",
      "source": [
        "le = LabelEncoder()"
      ],
      "metadata": {
        "id": "CP3oH25bTC5L"
      },
      "execution_count": 1029,
      "outputs": []
    },
    {
      "cell_type": "code",
      "source": [
        "data_y_trans = le.fit_transform(data_y)\n",
        "le_fid = LabelEncoder()"
      ],
      "metadata": {
        "id": "r58uwHAeTE8t"
      },
      "execution_count": 1030,
      "outputs": []
    },
    {
      "cell_type": "code",
      "source": [
        "le_fid.fit(data_X['patient'])\n",
        "data_X['patient'] = le_fid.fit_transform(data_X['patient'])"
      ],
      "metadata": {
        "id": "MWPvYM7D-vWB"
      },
      "execution_count": 1031,
      "outputs": []
    },
    {
      "cell_type": "markdown",
      "source": [
        "**Train Test Split**"
      ],
      "metadata": {
        "id": "LwuG-Rr4d-2L"
      }
    },
    {
      "cell_type": "code",
      "source": [
        "from sklearn.model_selection import train_test_split\n",
        "X_train, X_test,y_train, y_test = train_test_split(data_X, data_y, train_size = 0.7)"
      ],
      "metadata": {
        "id": "o_3Qnz6QSuA1"
      },
      "execution_count": 1032,
      "outputs": []
    },
    {
      "cell_type": "markdown",
      "source": [
        "**Standardization**"
      ],
      "metadata": {
        "id": "Hh4qOmI7eDhC"
      }
    },
    {
      "cell_type": "code",
      "source": [
        "from sklearn.preprocessing import StandardScaler \n",
        "ss = StandardScaler()\n",
        "X_train_std = ss.fit_transform(X_train)\n",
        "X_test_std = ss.fit_transform(X_test)"
      ],
      "metadata": {
        "id": "scFoZhCmTP7z"
      },
      "execution_count": 1033,
      "outputs": []
    },
    {
      "cell_type": "markdown",
      "source": [
        "**Feature Selection**"
      ],
      "metadata": {
        "id": "p00W2_XReMSp"
      }
    },
    {
      "cell_type": "code",
      "source": [
        "from sklearn.ensemble import ExtraTreesClassifier"
      ],
      "metadata": {
        "id": "PgNYDI6tTUIX"
      },
      "execution_count": 1034,
      "outputs": []
    },
    {
      "cell_type": "code",
      "source": [
        "model = ExtraTreesClassifier(bootstrap=False, ccp_alpha=0.0, class_weight=None,\n",
        "                     criterion='gini', max_depth=None, max_features='auto',\n",
        "                     max_leaf_nodes=None, max_samples=None,\n",
        "                     min_impurity_decrease=0.0, \n",
        "                     min_samples_leaf=1, min_samples_split=2,\n",
        "                     min_weight_fraction_leaf=0.0, n_estimators=20,\n",
        "                     n_jobs=None, oob_score=False, random_state=42, verbose=0,\n",
        "                     warm_start=False)\n",
        "\n",
        "model.fit(data_X, data_y_trans)"
      ],
      "metadata": {
        "colab": {
          "base_uri": "https://localhost:8080/"
        },
        "id": "UVehTngSTb9K",
        "outputId": "a246554c-799c-4f35-965d-c1bb9bd2d0ba"
      },
      "execution_count": 1035,
      "outputs": [
        {
          "output_type": "execute_result",
          "data": {
            "text/plain": [
              "ExtraTreesClassifier(n_estimators=20, random_state=42)"
            ]
          },
          "metadata": {},
          "execution_count": 1035
        }
      ]
    },
    {
      "cell_type": "code",
      "source": [
        "model.feature_importances_"
      ],
      "metadata": {
        "colab": {
          "base_uri": "https://localhost:8080/"
        },
        "id": "gqIIlAc8TUPk",
        "outputId": "23e5299c-8f90-45ab-e026-ec53cc334a75"
      },
      "execution_count": 1036,
      "outputs": [
        {
          "output_type": "execute_result",
          "data": {
            "text/plain": [
              "array([0.00381047, 0.        , 0.0016221 , ..., 0.00044798, 0.00169619,\n",
              "       0.00054345])"
            ]
          },
          "metadata": {},
          "execution_count": 1036
        }
      ]
    },
    {
      "cell_type": "code",
      "source": [
        "feature_importance_std = pd.Series(model.feature_importances_, index=data_X.columns)\n",
        "feature_importance_std.nlargest(20).plot(kind='bar', title='Standardised Dataset Feature Selection using ExtraTreesClassifier')"
      ],
      "metadata": {
        "colab": {
          "base_uri": "https://localhost:8080/",
          "height": 577
        },
        "id": "_YfFwVLeTl6A",
        "outputId": "ef3e8f4c-aace-46a6-ef65-325da61f39e7"
      },
      "execution_count": 1037,
      "outputs": [
        {
          "output_type": "execute_result",
          "data": {
            "text/plain": [
              "<matplotlib.axes._subplots.AxesSubplot at 0x7f8b2e813410>"
            ]
          },
          "metadata": {},
          "execution_count": 1037
        },
        {
          "output_type": "display_data",
          "data": {
            "text/plain": [
              "<Figure size 432x288 with 1 Axes>"
            ],
            "image/png": "[encoded data removed]"
          },
          "metadata": {
            "needs_background": "light"
          }
        }
      ]
    },
    {
      "cell_type": "code",
      "source": [
        "feature_importance_std.nlargest(20)"
      ],
      "metadata": {
        "id": "qg2NwXrrMUdu",
        "outputId": "ed0dcb11-8994-4e29-e4d4-12ef1fc29d1a",
        "colab": {
          "base_uri": "https://localhost:8080/"
        }
      },
      "execution_count": 1038,
      "outputs": [
        {
          "output_type": "execute_result",
          "data": {
            "text/plain": [
              "wavelet-HHL_firstorder_Kurtosis                       0.004208\n",
              "wavelet-LLH_firstorder_RootMeanSquared                0.004006\n",
              "wavelet-LHL_firstorder_Median                         0.003846\n",
              "patient                                               0.003810\n",
              "wavelet-LHH_firstorder_Mean                           0.003647\n",
              "original_firstorder_90Percentile                      0.003512\n",
              "wavelet-LHH_firstorder_MeanAbsoluteDeviation          0.003510\n",
              "wavelet-LLL_ngtdm_Busyness                            0.003479\n",
              "wavelet-LLL_firstorder_RootMeanSquared                0.003464\n",
              "wavelet-HLH_glcm_Imc1                                 0.003359\n",
              "wavelet-HLH_firstorder_RootMeanSquared                0.003257\n",
              "wavelet-LHL_glcm_Correlation                          0.003069\n",
              "wavelet-LLH_gldm_DependenceVariance                   0.003034\n",
              "wavelet-HHL_glcm_SumSquares                           0.003014\n",
              "original_gldm_HighGrayLevelEmphasis                   0.002976\n",
              "log-sigma-1-0-mm-3D_glcm_Correlation                  0.002953\n",
              "wavelet-HLL_glszm_SizeZoneNonUniformityNormalized     0.002936\n",
              "wavelet-HHL_ngtdm_Coarseness                          0.002912\n",
              "wavelet-LLL_gldm_LowGrayLevelEmphasis                 0.002895\n",
              "wavelet-HLL_gldm_DependenceNonUniformityNormalized    0.002857\n",
              "dtype: float64"
            ]
          },
          "metadata": {},
          "execution_count": 1038
        }
      ]
    },
    {
      "cell_type": "code",
      "source": [
        "data_new_20features_X = data_X[['wavelet-HHL_firstorder_Kurtosis','wavelet-LLH_firstorder_RootMeanSquared','wavelet-LHL_firstorder_Median','patient','wavelet-LHH_firstorder_Mean','original_firstorder_90Percentile','wavelet-LHH_firstorder_MeanAbsoluteDeviation','wavelet-LLL_ngtdm_Busyness','wavelet-LLL_firstorder_RootMeanSquared','wavelet-HLH_glcm_Imc1','wavelet-HLH_firstorder_RootMeanSquared','wavelet-LHL_glcm_Correlation','wavelet-LLH_gldm_DependenceVariance','wavelet-HHL_glcm_SumSquares','original_gldm_HighGrayLevelEmphasis','log-sigma-1-0-mm-3D_glcm_Correlation','wavelet-HLL_glszm_SizeZoneNonUniformityNormalized','wavelet-HHL_ngtdm_Coarseness','wavelet-LLL_gldm_LowGrayLevelEmphasis','wavelet-HLL_gldm_DependenceNonUniformityNormalized']]"
      ],
      "metadata": {
        "id": "FB66tnrIT-oM"
      },
      "execution_count": 1039,
      "outputs": []
    },
    {
      "cell_type": "code",
      "source": [
        "data_new_20features_X"
      ],
      "metadata": {
        "colab": {
          "base_uri": "https://localhost:8080/",
          "height": 505
        },
        "id": "6f65KMdNWbLX",
        "outputId": "49c11a9d-b19d-448a-a993-db995d253d19"
      },
      "execution_count": 1040,
      "outputs": [
        {
          "output_type": "execute_result",
          "data": {
            "text/plain": [
              "     wavelet-HHL_firstorder_Kurtosis  wavelet-LLH_firstorder_RootMeanSquared  \\\n",
              "0                           7.915006                              982.103315   \n",
              "1                          13.753936                              999.192937   \n",
              "2                          15.248906                              994.590728   \n",
              "3                          65.354358                              987.598116   \n",
              "4                           6.431950                              989.980445   \n",
              "..                               ...                                     ...   \n",
              "242                         8.654580                              979.593600   \n",
              "243                         7.764825                             1000.063615   \n",
              "244                         5.366552                              979.980571   \n",
              "245                        11.545969                              999.508458   \n",
              "246                        18.318204                              992.884028   \n",
              "\n",
              "     wavelet-LHL_firstorder_Median  patient  wavelet-LHH_firstorder_Mean  \\\n",
              "0                        -7.762204        0                     1.201824   \n",
              "1                        -2.230539        1                     0.457392   \n",
              "2                        -8.937909        2                    -0.537058   \n",
              "3                        -0.298334        2                     0.121915   \n",
              "4                        -8.209150        2                     0.433143   \n",
              "..                             ...      ...                          ...   \n",
              "242                      -7.512969      134                     1.189369   \n",
              "243                      -1.010575      135                    -1.041321   \n",
              "244                     -29.367862      136                     1.638895   \n",
              "245                      -6.440864      137                     0.561272   \n",
              "246                      -2.817928      137                     0.314413   \n",
              "\n",
              "     original_firstorder_90Percentile  \\\n",
              "0                           58.312960   \n",
              "1                           92.769604   \n",
              "2                          113.819070   \n",
              "3                           82.692553   \n",
              "4                          101.827495   \n",
              "..                                ...   \n",
              "242                         59.427517   \n",
              "243                        113.297597   \n",
              "244                         45.757856   \n",
              "245                         59.946450   \n",
              "246                         47.438734   \n",
              "\n",
              "     wavelet-LHH_firstorder_MeanAbsoluteDeviation  wavelet-LLL_ngtdm_Busyness  \\\n",
              "0                                       29.834827                    0.007656   \n",
              "1                                       18.933420                    0.007018   \n",
              "2                                       16.504980                    0.004728   \n",
              "3                                       10.108349                    0.015010   \n",
              "4                                       30.522930                    0.001681   \n",
              "..                                            ...                         ...   \n",
              "242                                     20.885370                    0.003251   \n",
              "243                                     28.298195                    0.000530   \n",
              "244                                     29.495995                    0.003429   \n",
              "245                                     15.279272                    0.005967   \n",
              "246                                     12.166356                    0.029053   \n",
              "\n",
              "     wavelet-LLL_firstorder_RootMeanSquared  wavelet-HLH_glcm_Imc1  \\\n",
              "0                                962.191510              -0.052848   \n",
              "1                               1065.510430              -0.056076   \n",
              "2                               1113.909562              -0.138583   \n",
              "3                               1114.941316              -0.131292   \n",
              "4                                956.541790              -0.106515   \n",
              "..                                      ...                    ...   \n",
              "242                             1018.490380              -0.115319   \n",
              "243                             1029.886087              -0.322611   \n",
              "244                              816.615775              -0.063097   \n",
              "245                             1054.404700              -0.084990   \n",
              "246                             1047.323785              -0.062529   \n",
              "\n",
              "     wavelet-HLH_firstorder_RootMeanSquared  wavelet-LHL_glcm_Correlation  \\\n",
              "0                               1000.876442                      0.194501   \n",
              "1                               1000.601090                      0.201207   \n",
              "2                               1000.014498                      0.268111   \n",
              "3                               1001.455985                      0.102110   \n",
              "4                               1001.888173                      0.278142   \n",
              "..                                      ...                           ...   \n",
              "242                             1000.703621                      0.226745   \n",
              "243                             1002.970828                      0.302605   \n",
              "244                             1001.712780                      0.251922   \n",
              "245                              999.158723                      0.219259   \n",
              "246                             1000.497405                      0.120886   \n",
              "\n",
              "     wavelet-LLH_gldm_DependenceVariance  wavelet-HHL_glcm_SumSquares  \\\n",
              "0                               3.219333                   137.279111   \n",
              "1                               5.676894                   120.936598   \n",
              "2                               1.670095                   177.912700   \n",
              "3                               4.215735                    51.375705   \n",
              "4                               1.172241                   442.575898   \n",
              "..                                   ...                          ...   \n",
              "242                             7.583906                   161.826154   \n",
              "243                             0.709802                   199.496371   \n",
              "244                             1.730116                   203.698170   \n",
              "245                             3.006635                    27.036660   \n",
              "246                            10.690202                    47.343869   \n",
              "\n",
              "     original_gldm_HighGrayLevelEmphasis  \\\n",
              "0                           1.755190e+06   \n",
              "1                           2.216965e+06   \n",
              "2                           1.600159e+05   \n",
              "3                           1.116881e+05   \n",
              "4                           2.278356e+06   \n",
              "..                                   ...   \n",
              "242                         5.766776e+05   \n",
              "243                         3.399511e+06   \n",
              "244                         1.435388e+06   \n",
              "245                         5.502566e+04   \n",
              "246                         2.699747e+05   \n",
              "\n",
              "     log-sigma-1-0-mm-3D_glcm_Correlation  \\\n",
              "0                                0.150259   \n",
              "1                                0.130673   \n",
              "2                                0.149277   \n",
              "3                                0.311002   \n",
              "4                                0.112057   \n",
              "..                                    ...   \n",
              "242                              0.403385   \n",
              "243                              0.239883   \n",
              "244                              0.143729   \n",
              "245                              0.267097   \n",
              "246                              0.212680   \n",
              "\n",
              "     wavelet-HLL_glszm_SizeZoneNonUniformityNormalized  \\\n",
              "0                                             0.632874   \n",
              "1                                             0.582702   \n",
              "2                                             0.620988   \n",
              "3                                             0.521992   \n",
              "4                                             0.777320   \n",
              "..                                                 ...   \n",
              "242                                           0.657582   \n",
              "243                                           0.727027   \n",
              "244                                           0.656154   \n",
              "245                                           0.507872   \n",
              "246                                           0.560521   \n",
              "\n",
              "     wavelet-HHL_ngtdm_Coarseness  wavelet-LLL_gldm_LowGrayLevelEmphasis  \\\n",
              "0                        0.000387                               0.000100   \n",
              "1                        0.000177                               0.000032   \n",
              "2                        0.006218                               0.001016   \n",
              "3                        0.001324                               0.000308   \n",
              "4                        0.001720                               0.000252   \n",
              "..                            ...                                    ...   \n",
              "242                      0.004226                               0.000583   \n",
              "243                      0.011188                               0.001622   \n",
              "244                      0.001419                               0.000271   \n",
              "245                      0.010292                               0.001824   \n",
              "246                      0.000350                               0.000128   \n",
              "\n",
              "     wavelet-HLL_gldm_DependenceNonUniformityNormalized  \n",
              "0                                             0.329466   \n",
              "1                                             0.249234   \n",
              "2                                             0.415342   \n",
              "3                                             0.263028   \n",
              "4                                             0.562668   \n",
              "..                                                 ...   \n",
              "242                                           0.300817   \n",
              "243                                           0.459895   \n",
              "244                                           0.420090   \n",
              "245                                           0.281159   \n",
              "246                                           0.186679   \n",
              "\n",
              "[247 rows x 20 columns]"
            ],
            "text/html": [
              "\n",
              "  <div id=\"df-9e7140ff-831d-4b99-a249-0fd889134fa3\">\n",
              "    <div class=\"colab-df-container\">\n",
              "      <div>\n",
              "<style scoped>\n",
              "    .dataframe tbody tr th:only-of-type {\n",
              "        vertical-align: middle;\n",
              "    }\n",
              "\n",
              "    .dataframe tbody tr th {\n",
              "        vertical-align: top;\n",
              "    }\n",
              "\n",
              "    .dataframe thead th {\n",
              "        text-align: right;\n",
              "    }\n",
              "</style>\n",
              "<table border=\"1\" class=\"dataframe\">\n",
              "  <thead>\n",
              "    <tr style=\"text-align: right;\">\n",
              "      <th></th>\n",
              "      <th>wavelet-HHL_firstorder_Kurtosis</th>\n",
              "      <th>wavelet-LLH_firstorder_RootMeanSquared</th>\n",
              "      <th>wavelet-LHL_firstorder_Median</th>\n",
              "      <th>patient</th>\n",
              "      <th>wavelet-LHH_firstorder_Mean</th>\n",
              "      <th>original_firstorder_90Percentile</th>\n",
              "      <th>wavelet-LHH_firstorder_MeanAbsoluteDeviation</th>\n",
              "      <th>wavelet-LLL_ngtdm_Busyness</th>\n",
              "      <th>wavelet-LLL_firstorder_RootMeanSquared</th>\n",
              "      <th>wavelet-HLH_glcm_Imc1</th>\n",
              "      <th>wavelet-HLH_firstorder_RootMeanSquared</th>\n",
              "      <th>wavelet-LHL_glcm_Correlation</th>\n",
              "      <th>wavelet-LLH_gldm_DependenceVariance</th>\n",
              "      <th>wavelet-HHL_glcm_SumSquares</th>\n",
              "      <th>original_gldm_HighGrayLevelEmphasis</th>\n",
              "      <th>log-sigma-1-0-mm-3D_glcm_Correlation</th>\n",
              "      <th>wavelet-HLL_glszm_SizeZoneNonUniformityNormalized</th>\n",
              "      <th>wavelet-HHL_ngtdm_Coarseness</th>\n",
              "      <th>wavelet-LLL_gldm_LowGrayLevelEmphasis</th>\n",
              "      <th>wavelet-HLL_gldm_DependenceNonUniformityNormalized</th>\n",
              "    </tr>\n",
              "  </thead>\n",
              "  <tbody>\n",
              "    <tr>\n",
              "      <th>0</th>\n",
              "      <td>7.915006</td>\n",
              "      <td>982.103315</td>\n",
              "      <td>-7.762204</td>\n",
              "      <td>0</td>\n",
              "      <td>1.201824</td>\n",
              "      <td>58.312960</td>\n",
              "      <td>29.834827</td>\n",
              "      <td>0.007656</td>\n",
              "      <td>962.191510</td>\n",
              "      <td>-0.052848</td>\n",
              "      <td>1000.876442</td>\n",
              "      <td>0.194501</td>\n",
              "      <td>3.219333</td>\n",
              "      <td>137.279111</td>\n",
              "      <td>1.755190e+06</td>\n",
              "      <td>0.150259</td>\n",
              "      <td>0.632874</td>\n",
              "      <td>0.000387</td>\n",
              "      <td>0.000100</td>\n",
              "      <td>0.329466</td>\n",
              "    </tr>\n",
              "    <tr>\n",
              "      <th>1</th>\n",
              "      <td>13.753936</td>\n",
              "      <td>999.192937</td>\n",
              "      <td>-2.230539</td>\n",
              "      <td>1</td>\n",
              "      <td>0.457392</td>\n",
              "      <td>92.769604</td>\n",
              "      <td>18.933420</td>\n",
              "      <td>0.007018</td>\n",
              "      <td>1065.510430</td>\n",
              "      <td>-0.056076</td>\n",
              "      <td>1000.601090</td>\n",
              "      <td>0.201207</td>\n",
              "      <td>5.676894</td>\n",
              "      <td>120.936598</td>\n",
              "      <td>2.216965e+06</td>\n",
              "      <td>0.130673</td>\n",
              "      <td>0.582702</td>\n",
              "      <td>0.000177</td>\n",
              "      <td>0.000032</td>\n",
              "      <td>0.249234</td>\n",
              "    </tr>\n",
              "    <tr>\n",
              "      <th>2</th>\n",
              "      <td>15.248906</td>\n",
              "      <td>994.590728</td>\n",
              "      <td>-8.937909</td>\n",
              "      <td>2</td>\n",
              "      <td>-0.537058</td>\n",
              "      <td>113.819070</td>\n",
              "      <td>16.504980</td>\n",
              "      <td>0.004728</td>\n",
              "      <td>1113.909562</td>\n",
              "      <td>-0.138583</td>\n",
              "      <td>1000.014498</td>\n",
              "      <td>0.268111</td>\n",
              "      <td>1.670095</td>\n",
              "      <td>177.912700</td>\n",
              "      <td>1.600159e+05</td>\n",
              "      <td>0.149277</td>\n",
              "      <td>0.620988</td>\n",
              "      <td>0.006218</td>\n",
              "      <td>0.001016</td>\n",
              "      <td>0.415342</td>\n",
              "    </tr>\n",
              "    <tr>\n",
              "      <th>3</th>\n",
              "      <td>65.354358</td>\n",
              "      <td>987.598116</td>\n",
              "      <td>-0.298334</td>\n",
              "      <td>2</td>\n",
              "      <td>0.121915</td>\n",
              "      <td>82.692553</td>\n",
              "      <td>10.108349</td>\n",
              "      <td>0.015010</td>\n",
              "      <td>1114.941316</td>\n",
              "      <td>-0.131292</td>\n",
              "      <td>1001.455985</td>\n",
              "      <td>0.102110</td>\n",
              "      <td>4.215735</td>\n",
              "      <td>51.375705</td>\n",
              "      <td>1.116881e+05</td>\n",
              "      <td>0.311002</td>\n",
              "      <td>0.521992</td>\n",
              "      <td>0.001324</td>\n",
              "      <td>0.000308</td>\n",
              "      <td>0.263028</td>\n",
              "    </tr>\n",
              "    <tr>\n",
              "      <th>4</th>\n",
              "      <td>6.431950</td>\n",
              "      <td>989.980445</td>\n",
              "      <td>-8.209150</td>\n",
              "      <td>2</td>\n",
              "      <td>0.433143</td>\n",
              "      <td>101.827495</td>\n",
              "      <td>30.522930</td>\n",
              "      <td>0.001681</td>\n",
              "      <td>956.541790</td>\n",
              "      <td>-0.106515</td>\n",
              "      <td>1001.888173</td>\n",
              "      <td>0.278142</td>\n",
              "      <td>1.172241</td>\n",
              "      <td>442.575898</td>\n",
              "      <td>2.278356e+06</td>\n",
              "      <td>0.112057</td>\n",
              "      <td>0.777320</td>\n",
              "      <td>0.001720</td>\n",
              "      <td>0.000252</td>\n",
              "      <td>0.562668</td>\n",
              "    </tr>\n",
              "    <tr>\n",
              "      <th>...</th>\n",
              "      <td>...</td>\n",
              "      <td>...</td>\n",
              "      <td>...</td>\n",
              "      <td>...</td>\n",
              "      <td>...</td>\n",
              "      <td>...</td>\n",
              "      <td>...</td>\n",
              "      <td>...</td>\n",
              "      <td>...</td>\n",
              "      <td>...</td>\n",
              "      <td>...</td>\n",
              "      <td>...</td>\n",
              "      <td>...</td>\n",
              "      <td>...</td>\n",
              "      <td>...</td>\n",
              "      <td>...</td>\n",
              "      <td>...</td>\n",
              "      <td>...</td>\n",
              "      <td>...</td>\n",
              "      <td>...</td>\n",
              "    </tr>\n",
              "    <tr>\n",
              "      <th>242</th>\n",
              "      <td>8.654580</td>\n",
              "      <td>979.593600</td>\n",
              "      <td>-7.512969</td>\n",
              "      <td>134</td>\n",
              "      <td>1.189369</td>\n",
              "      <td>59.427517</td>\n",
              "      <td>20.885370</td>\n",
              "      <td>0.003251</td>\n",
              "      <td>1018.490380</td>\n",
              "      <td>-0.115319</td>\n",
              "      <td>1000.703621</td>\n",
              "      <td>0.226745</td>\n",
              "      <td>7.583906</td>\n",
              "      <td>161.826154</td>\n",
              "      <td>5.766776e+05</td>\n",
              "      <td>0.403385</td>\n",
              "      <td>0.657582</td>\n",
              "      <td>0.004226</td>\n",
              "      <td>0.000583</td>\n",
              "      <td>0.300817</td>\n",
              "    </tr>\n",
              "    <tr>\n",
              "      <th>243</th>\n",
              "      <td>7.764825</td>\n",
              "      <td>1000.063615</td>\n",
              "      <td>-1.010575</td>\n",
              "      <td>135</td>\n",
              "      <td>-1.041321</td>\n",
              "      <td>113.297597</td>\n",
              "      <td>28.298195</td>\n",
              "      <td>0.000530</td>\n",
              "      <td>1029.886087</td>\n",
              "      <td>-0.322611</td>\n",
              "      <td>1002.970828</td>\n",
              "      <td>0.302605</td>\n",
              "      <td>0.709802</td>\n",
              "      <td>199.496371</td>\n",
              "      <td>3.399511e+06</td>\n",
              "      <td>0.239883</td>\n",
              "      <td>0.727027</td>\n",
              "      <td>0.011188</td>\n",
              "      <td>0.001622</td>\n",
              "      <td>0.459895</td>\n",
              "    </tr>\n",
              "    <tr>\n",
              "      <th>244</th>\n",
              "      <td>5.366552</td>\n",
              "      <td>979.980571</td>\n",
              "      <td>-29.367862</td>\n",
              "      <td>136</td>\n",
              "      <td>1.638895</td>\n",
              "      <td>45.757856</td>\n",
              "      <td>29.495995</td>\n",
              "      <td>0.003429</td>\n",
              "      <td>816.615775</td>\n",
              "      <td>-0.063097</td>\n",
              "      <td>1001.712780</td>\n",
              "      <td>0.251922</td>\n",
              "      <td>1.730116</td>\n",
              "      <td>203.698170</td>\n",
              "      <td>1.435388e+06</td>\n",
              "      <td>0.143729</td>\n",
              "      <td>0.656154</td>\n",
              "      <td>0.001419</td>\n",
              "      <td>0.000271</td>\n",
              "      <td>0.420090</td>\n",
              "    </tr>\n",
              "    <tr>\n",
              "      <th>245</th>\n",
              "      <td>11.545969</td>\n",
              "      <td>999.508458</td>\n",
              "      <td>-6.440864</td>\n",
              "      <td>137</td>\n",
              "      <td>0.561272</td>\n",
              "      <td>59.946450</td>\n",
              "      <td>15.279272</td>\n",
              "      <td>0.005967</td>\n",
              "      <td>1054.404700</td>\n",
              "      <td>-0.084990</td>\n",
              "      <td>999.158723</td>\n",
              "      <td>0.219259</td>\n",
              "      <td>3.006635</td>\n",
              "      <td>27.036660</td>\n",
              "      <td>5.502566e+04</td>\n",
              "      <td>0.267097</td>\n",
              "      <td>0.507872</td>\n",
              "      <td>0.010292</td>\n",
              "      <td>0.001824</td>\n",
              "      <td>0.281159</td>\n",
              "    </tr>\n",
              "    <tr>\n",
              "      <th>246</th>\n",
              "      <td>18.318204</td>\n",
              "      <td>992.884028</td>\n",
              "      <td>-2.817928</td>\n",
              "      <td>137</td>\n",
              "      <td>0.314413</td>\n",
              "      <td>47.438734</td>\n",
              "      <td>12.166356</td>\n",
              "      <td>0.029053</td>\n",
              "      <td>1047.323785</td>\n",
              "      <td>-0.062529</td>\n",
              "      <td>1000.497405</td>\n",
              "      <td>0.120886</td>\n",
              "      <td>10.690202</td>\n",
              "      <td>47.343869</td>\n",
              "      <td>2.699747e+05</td>\n",
              "      <td>0.212680</td>\n",
              "      <td>0.560521</td>\n",
              "      <td>0.000350</td>\n",
              "      <td>0.000128</td>\n",
              "      <td>0.186679</td>\n",
              "    </tr>\n",
              "  </tbody>\n",
              "</table>\n",
              "<p>247 rows × 20 columns</p>\n",
              "</div>\n",
              "      <button class=\"colab-df-convert\" onclick=\"convertToInteractive('df-9e7140ff-831d-4b99-a249-0fd889134fa3')\"\n",
              "              title=\"Convert this dataframe to an interactive table.\"\n",
              "              style=\"display:none;\">\n",
              "        \n",
              "  <svg xmlns=\"http://www.w3.org/2000/svg\" height=\"24px\"viewBox=\"0 0 24 24\"\n",
              "       width=\"24px\">\n",
              "    <path d=\"M0 0h24v24H0V0z\" fill=\"none\"/>\n",
              "    <path d=\"M18.56 5.44l.94 2.06.94-2.06 2.06-.94-2.06-.94-.94-2.06-.94 2.06-2.06.94zm-11 1L8.5 8.5l.94-2.06 2.06-.94-2.06-.94L8.5 2.5l-.94 2.06-2.06.94zm10 10l.94 2.06.94-2.06 2.06-.94-2.06-.94-.94-2.06-.94 2.06-2.06.94z\"/><path d=\"M17.41 7.96l-1.37-1.37c-.4-.4-.92-.59-1.43-.59-.52 0-1.04.2-1.43.59L10.3 9.45l-7.72 7.72c-.78.78-.78 2.05 0 2.83L4 21.41c.39.39.9.59 1.41.59.51 0 1.02-.2 1.41-.59l7.78-7.78 2.81-2.81c.8-.78.8-2.07 0-2.86zM5.41 20L4 18.59l7.72-7.72 1.47 1.35L5.41 20z\"/>\n",
              "  </svg>\n",
              "      </button>\n",
              "      \n",
              "  <style>\n",
              "    .colab-df-container {\n",
              "      display:flex;\n",
              "      flex-wrap:wrap;\n",
              "      gap: 12px;\n",
              "    }\n",
              "\n",
              "    .colab-df-convert {\n",
              "      background-color: #E8F0FE;\n",
              "      border: none;\n",
              "      border-radius: 50%;\n",
              "      cursor: pointer;\n",
              "      display: none;\n",
              "      fill: #1967D2;\n",
              "      height: 32px;\n",
              "      padding: 0 0 0 0;\n",
              "      width: 32px;\n",
              "    }\n",
              "\n",
              "    .colab-df-convert:hover {\n",
              "      background-color: #E2EBFA;\n",
              "      box-shadow: 0px 1px 2px rgba(60, 64, 67, 0.3), 0px 1px 3px 1px rgba(60, 64, 67, 0.15);\n",
              "      fill: #174EA6;\n",
              "    }\n",
              "\n",
              "    [theme=dark] .colab-df-convert {\n",
              "      background-color: #3B4455;\n",
              "      fill: #D2E3FC;\n",
              "    }\n",
              "\n",
              "    [theme=dark] .colab-df-convert:hover {\n",
              "      background-color: #434B5C;\n",
              "      box-shadow: 0px 1px 3px 1px rgba(0, 0, 0, 0.15);\n",
              "      filter: drop-shadow(0px 1px 2px rgba(0, 0, 0, 0.3));\n",
              "      fill: #FFFFFF;\n",
              "    }\n",
              "  </style>\n",
              "\n",
              "      <script>\n",
              "        const buttonEl =\n",
              "          document.querySelector('#df-9e7140ff-831d-4b99-a249-0fd889134fa3 button.colab-df-convert');\n",
              "        buttonEl.style.display =\n",
              "          google.colab.kernel.accessAllowed ? 'block' : 'none';\n",
              "\n",
              "        async function convertToInteractive(key) {\n",
              "          const element = document.querySelector('#df-9e7140ff-831d-4b99-a249-0fd889134fa3');\n",
              "          const dataTable =\n",
              "            await google.colab.kernel.invokeFunction('convertToInteractive',\n",
              "                                                     [key], {});\n",
              "          if (!dataTable) return;\n",
              "\n",
              "          const docLinkHtml = 'Like what you see? Visit the ' +\n",
              "            '<a target=\"_blank\" href=https://colab.research.google.com/notebooks/data_table.ipynb>data table notebook</a>'\n",
              "            + ' to learn more about interactive tables.';\n",
              "          element.innerHTML = '';\n",
              "          dataTable['output_type'] = 'display_data';\n",
              "          await google.colab.output.renderOutput(dataTable, element);\n",
              "          const docLink = document.createElement('div');\n",
              "          docLink.innerHTML = docLinkHtml;\n",
              "          element.appendChild(docLink);\n",
              "        }\n",
              "      </script>\n",
              "    </div>\n",
              "  </div>\n",
              "  "
            ]
          },
          "metadata": {},
          "execution_count": 1040
        }
      ]
    },
    {
      "cell_type": "markdown",
      "source": [
        "**Train Test Split 20 Feature Dataset**"
      ],
      "metadata": {
        "id": "pPo9R0M4eXbZ"
      }
    },
    {
      "cell_type": "code",
      "source": [
        "from sklearn.model_selection import train_test_split\n",
        "X_train_20, X_test_20, y_train_20, y_test_20 = train_test_split(data_new_20features_X, data_y_trans, train_size = 0.85,random_state=42)"
      ],
      "metadata": {
        "id": "QucBOM6OWd9k"
      },
      "execution_count": 1041,
      "outputs": []
    },
    {
      "cell_type": "markdown",
      "source": [
        "**Standardization of the 20 Feature Dataset**"
      ],
      "metadata": {
        "id": "IDQpWUGeeiUJ"
      }
    },
    {
      "cell_type": "code",
      "source": [
        "from sklearn.preprocessing import StandardScaler \n",
        "ss_20 = StandardScaler()\n",
        "X_train_std_20 = ss_20.fit_transform(X_train_20)\n",
        "X_test_std_20 = ss_20.fit_transform(X_test_20)"
      ],
      "metadata": {
        "id": "iUlTx0ZXWpeQ"
      },
      "execution_count": 1042,
      "outputs": []
    },
    {
      "cell_type": "markdown",
      "source": [
        "**CLASSIFICATION**"
      ],
      "metadata": {
        "id": "r0lYHceferiF"
      }
    },
    {
      "cell_type": "markdown",
      "source": [
        "**Random forest**"
      ],
      "metadata": {
        "id": "Vynz9IKtXsC6"
      }
    },
    {
      "cell_type": "code",
      "source": [
        "from sklearn.ensemble import RandomForestClassifier\n",
        "rf = RandomForestClassifier(random_state=31, n_estimators=100, max_depth=None)\n",
        "rf.fit(X_train_std_20, y_train_20)"
      ],
      "metadata": {
        "colab": {
          "base_uri": "https://localhost:8080/"
        },
        "id": "2Pi0bqiIW7xY",
        "outputId": "9ee0f5a5-2103-41c3-9d43-823d7eb710ee"
      },
      "execution_count": 1043,
      "outputs": [
        {
          "output_type": "execute_result",
          "data": {
            "text/plain": [
              "RandomForestClassifier(random_state=31)"
            ]
          },
          "metadata": {},
          "execution_count": 1043
        }
      ]
    },
    {
      "cell_type": "code",
      "source": [
        "rf_y_pred = rf.predict(X_test_std_20)"
      ],
      "metadata": {
        "id": "Ib7MG-cpXAfc"
      },
      "execution_count": 1044,
      "outputs": []
    },
    {
      "cell_type": "code",
      "source": [
        "from sklearn.metrics import accuracy_score "
      ],
      "metadata": {
        "id": "T4LN617ZXGzI"
      },
      "execution_count": 1045,
      "outputs": []
    },
    {
      "cell_type": "code",
      "source": [
        "acc_score = accuracy_score(y_test_20, rf_y_pred)\n",
        "print(\"Accuracy Score for Random_Forest: \\n\", acc_score*100)"
      ],
      "metadata": {
        "colab": {
          "base_uri": "https://localhost:8080/"
        },
        "id": "KskOgKH3XI4h",
        "outputId": "73fbd7c3-11c3-445a-88ad-e044662cd2a6"
      },
      "execution_count": 1046,
      "outputs": [
        {
          "output_type": "stream",
          "name": "stdout",
          "text": [
            "Accuracy Score for Random_Forest: \n",
            " 52.63157894736842\n"
          ]
        }
      ]
    },
    {
      "cell_type": "code",
      "source": [
        "from sklearn.metrics import classification_report \n",
        "from sklearn.metrics import confusion_matrix "
      ],
      "metadata": {
        "id": "HfautD51Vp-R"
      },
      "execution_count": 1047,
      "outputs": []
    },
    {
      "cell_type": "code",
      "source": [
        "print(\"Classification Report for Random Forest: \\n\", classification_report(y_test_20,rf_y_pred))"
      ],
      "metadata": {
        "colab": {
          "base_uri": "https://localhost:8080/"
        },
        "id": "zupRbm-7VvHS",
        "outputId": "e59907a3-e72b-4edd-f38e-197a5c24f32a"
      },
      "execution_count": 1048,
      "outputs": [
        {
          "output_type": "stream",
          "name": "stdout",
          "text": [
            "Classification Report for Random Forest: \n",
            "               precision    recall  f1-score   support\n",
            "\n",
            "           0       0.00      0.00      0.00         2\n",
            "           1       0.38      0.75      0.50         8\n",
            "           2       0.70      0.50      0.58        14\n",
            "           3       0.64      0.50      0.56        14\n",
            "\n",
            "    accuracy                           0.53        38\n",
            "   macro avg       0.43      0.44      0.41        38\n",
            "weighted avg       0.57      0.53      0.53        38\n",
            "\n"
          ]
        }
      ]
    },
    {
      "cell_type": "code",
      "source": [
        "rf_conf_mat = confusion_matrix(y_test_20, rf_y_pred)\n",
        "print(\"Random Forest Confusion: \\n\", rf_conf_mat)"
      ],
      "metadata": {
        "colab": {
          "base_uri": "https://localhost:8080/"
        },
        "id": "vP9QnYqYV0ec",
        "outputId": "f71d8749-9330-4b74-91e5-3611b6d2101d"
      },
      "execution_count": 1049,
      "outputs": [
        {
          "output_type": "stream",
          "name": "stdout",
          "text": [
            "Random Forest Confusion: \n",
            " [[0 1 0 1]\n",
            " [0 6 2 0]\n",
            " [0 4 7 3]\n",
            " [1 5 1 7]]\n"
          ]
        }
      ]
    },
    {
      "cell_type": "markdown",
      "source": [
        "cross validation"
      ],
      "metadata": {
        "id": "TaPFUbTDHMwa"
      }
    },
    {
      "cell_type": "code",
      "source": [
        "from sklearn.model_selection import KFold\n",
        "kfold_validation=KFold(5)\n",
        "import numpy as np\n",
        "from sklearn.model_selection import cross_val_score\n",
        "results=cross_val_score(rf,data_new_20features_X, data_y_trans,cv=kfold_validation)\n",
        "print(results)\n",
        "print(np.mean(results))"
      ],
      "metadata": {
        "colab": {
          "base_uri": "https://localhost:8080/"
        },
        "id": "uRX0pBAcHR6T",
        "outputId": "244e85d7-ce31-45fd-9f89-281ead229d8b"
      },
      "execution_count": 1050,
      "outputs": [
        {
          "output_type": "stream",
          "name": "stdout",
          "text": [
            "[0.24       0.34       0.42857143 0.42857143 0.24489796]\n",
            "0.33640816326530615\n"
          ]
        }
      ]
    },
    {
      "cell_type": "markdown",
      "source": [
        "RoC curve Function"
      ],
      "metadata": {
        "id": "e_MTwSMiV6l_"
      }
    },
    {
      "cell_type": "code",
      "source": [
        "def RoC_Curve(classifier, X_val, y_val, title): \n",
        "        \"\"\" RoC Curve for Classifier \n",
        "        Parameters: \n",
        "        ------------\n",
        "        classifier: Machine Learning Classifier to be Evaluated\n",
        "        X_val: Validation Dataset\n",
        "        y_val: Label/Target of Validation Dataset\n",
        "\n",
        "        Attributes:\n",
        "        Plots the Graph    \n",
        "        \n",
        "        Note: Some part of this Method code is taken \n",
        "            from Sklearn Website\n",
        "        \"\"\"\n",
        "\n",
        "        lw = 2\n",
        "        n_classes = 3\n",
        "        y_test1 = to_categorical(y_val)\n",
        "        pred_RFC_proba = classifier.predict_proba(X_val)\n",
        "        y_score = pred_RFC_proba\n",
        "\n",
        "        # Compute ROC curve and ROC area for each class\n",
        "        fpr = dict()\n",
        "        tpr = dict()\n",
        "        roc_auc = dict()\n",
        "        for i in range(n_classes):\n",
        "            fpr[i], tpr[i], _ = roc_curve(y_test1[:, i], y_score[:, i])\n",
        "            roc_auc[i] = auc(fpr[i], tpr[i])\n",
        "\n",
        "        # Compute micro-average ROC curve and ROC area\n",
        "        fpr[\"micro\"], tpr[\"micro\"], _ = roc_curve(y_test1.ravel(), y_score.ravel())\n",
        "        roc_auc[\"micro\"] = auc(fpr[\"micro\"], tpr[\"micro\"])\n",
        "\n",
        "        # First aggregate all false positive rates\n",
        "        all_fpr = np.unique(np.concatenate([fpr[i] for i in range(n_classes)]))\n",
        "\n",
        "        # Then interpolate all ROC curves at this points\n",
        "        mean_tpr = np.zeros_like(all_fpr)\n",
        "        for i in range(n_classes):\n",
        "            mean_tpr += interp(all_fpr, fpr[i], tpr[i])\n",
        "\n",
        "        # Finally average it and compute AUC\n",
        "        mean_tpr /= n_classes\n",
        "\n",
        "        fpr[\"macro\"] = all_fpr\n",
        "        tpr[\"macro\"] = mean_tpr\n",
        "        roc_auc[\"macro\"] = auc(fpr[\"macro\"], tpr[\"macro\"])\n",
        "\n",
        "        # Plot all ROC curves\n",
        "        plt.figure(figsize=(20,10))\n",
        "        plt.plot(fpr[\"micro\"], tpr[\"micro\"],\n",
        "                label='micro-average ROC curve (area = {0:0.2f})'\n",
        "                    ''.format(roc_auc[\"micro\"]),\n",
        "                color='deeppink', linestyle=':', linewidth=4)\n",
        "\n",
        "        plt.plot(fpr[\"macro\"], tpr[\"macro\"],\n",
        "                label='macro-average ROC curve (area = {0:0.2f})'\n",
        "                    ''.format(roc_auc[\"macro\"]),\n",
        "                color='navy', linestyle=':', linewidth=4)\n",
        "\n",
        "        list_class = ['adeno','squamous','other']\n",
        "        for i in range(n_classes):\n",
        "            plt.plot(fpr[i], tpr[i], lw=lw,\n",
        "                    label='ROC curve of class {0} (area = {1:0.2f})'\n",
        "                    ''.format(list_class[i], roc_auc[i]))\n",
        "\n",
        "        plt.plot([0, 1], [0, 1], 'k--', lw=lw)\n",
        "        plt.xlim([0.0, 1.0])\n",
        "        plt.ylim([0.0, 1.05])\n",
        "        plt.xlabel('False Positive Rate')\n",
        "        plt.ylabel('True Positive Rate')\n",
        "        plt.title(title) \n",
        "        plt.legend(loc=\"lower right\")\n",
        "        plt.show()"
      ],
      "metadata": {
        "id": "aym3FOW5V8bY"
      },
      "execution_count": 1051,
      "outputs": []
    },
    {
      "cell_type": "code",
      "source": [
        "from keras.utils.np_utils import to_categorical\n",
        "from sklearn.metrics import roc_curve, auc\n",
        "from scipy import interp\n",
        "from sklearn.metrics import roc_auc_score\n",
        "import matplotlib.pyplot as plt"
      ],
      "metadata": {
        "id": "kqfhjcUaWDEL"
      },
      "execution_count": 1052,
      "outputs": []
    },
    {
      "cell_type": "code",
      "source": [
        "title = 'Receiver operating characteristic of Random Forest'\n",
        "RoC_Curve(rf, X_test_std_20, y_test_20, title)"
      ],
      "metadata": {
        "colab": {
          "base_uri": "https://localhost:8080/",
          "height": 533
        },
        "id": "vr2FcYYZWFfB",
        "outputId": "a8a0466e-4e61-497c-9c8f-6608a11e7155"
      },
      "execution_count": 1053,
      "outputs": [
        {
          "output_type": "stream",
          "name": "stderr",
          "text": [
            "/usr/local/lib/python3.7/dist-packages/ipykernel_launcher.py:40: DeprecationWarning: scipy.interp is deprecated and will be removed in SciPy 2.0.0, use numpy.interp instead\n"
          ]
        },
        {
          "output_type": "display_data",
          "data": {
            "text/plain": [
              "<Figure size 1440x720 with 1 Axes>"
            ],
            "image/png": "[encoded data removed]"
          },
          "metadata": {
            "needs_background": "light"
          }
        }
      ]
    },
    {
      "cell_type": "markdown",
      "source": [
        "**Decision tree**"
      ],
      "metadata": {
        "id": "r1otUpm9Xw5M"
      }
    },
    {
      "cell_type": "code",
      "source": [
        "from sklearn.tree import DecisionTreeClassifier\n",
        "ml_dec = DecisionTreeClassifier()"
      ],
      "metadata": {
        "id": "bT8LrISQX1Fi"
      },
      "execution_count": 1054,
      "outputs": []
    },
    {
      "cell_type": "code",
      "source": [
        "ml_dec.fit(X_train_std_20, y_train_20)"
      ],
      "metadata": {
        "colab": {
          "base_uri": "https://localhost:8080/"
        },
        "id": "VGxqz2_AX35E",
        "outputId": "37c4ae21-36fc-4164-bc95-c63813cef1eb"
      },
      "execution_count": 1055,
      "outputs": [
        {
          "output_type": "execute_result",
          "data": {
            "text/plain": [
              "DecisionTreeClassifier()"
            ]
          },
          "metadata": {},
          "execution_count": 1055
        }
      ]
    },
    {
      "cell_type": "code",
      "source": [
        "res_dec=ml_dec.predict(X_test_std_20)"
      ],
      "metadata": {
        "id": "vqyolgCTX7v8"
      },
      "execution_count": 1056,
      "outputs": []
    },
    {
      "cell_type": "code",
      "source": [
        "accuracy_1=accuracy_score(y_test_20,res_dec)\n",
        "print(\"Decision tree :\",accuracy_1*100)"
      ],
      "metadata": {
        "colab": {
          "base_uri": "https://localhost:8080/"
        },
        "id": "QAJ_NZ2XX-SK",
        "outputId": "ccc3367a-68a1-471e-ea59-0ead1e83ad63"
      },
      "execution_count": 1057,
      "outputs": [
        {
          "output_type": "stream",
          "name": "stdout",
          "text": [
            "Decision tree : 39.473684210526315\n"
          ]
        }
      ]
    },
    {
      "cell_type": "markdown",
      "source": [
        "**XG Boost**"
      ],
      "metadata": {
        "id": "ZRpn4Z1KYB6D"
      }
    },
    {
      "cell_type": "code",
      "source": [
        "from sklearn.ensemble import GradientBoostingClassifier"
      ],
      "metadata": {
        "id": "zyd8Kkh7YEoL"
      },
      "execution_count": 1058,
      "outputs": []
    },
    {
      "cell_type": "code",
      "source": [
        "gradient_boost = GradientBoostingClassifier()\n",
        "gradient_boost.fit(X_train_std_20, y_train_20)"
      ],
      "metadata": {
        "colab": {
          "base_uri": "https://localhost:8080/"
        },
        "id": "TDTYJM99YHH5",
        "outputId": "bcd45e27-8961-411d-99f5-fe35cf982c98"
      },
      "execution_count": 1059,
      "outputs": [
        {
          "output_type": "execute_result",
          "data": {
            "text/plain": [
              "GradientBoostingClassifier()"
            ]
          },
          "metadata": {},
          "execution_count": 1059
        }
      ]
    },
    {
      "cell_type": "code",
      "source": [
        "res_xg=gradient_boost.predict(X_test_std_20)"
      ],
      "metadata": {
        "id": "Vm6WlDmiYK8w"
      },
      "execution_count": 1060,
      "outputs": []
    },
    {
      "cell_type": "code",
      "source": [
        "acc_score_xg = accuracy_score(y_test_20, res_xg)\n",
        "print(\"Accuracy Score for GradientBoosting: \\n\", acc_score_xg*100)"
      ],
      "metadata": {
        "colab": {
          "base_uri": "https://localhost:8080/"
        },
        "id": "DOlORhcgYN2G",
        "outputId": "dce39400-115c-4734-bca7-65d59560012b"
      },
      "execution_count": 1061,
      "outputs": [
        {
          "output_type": "stream",
          "name": "stdout",
          "text": [
            "Accuracy Score for GradientBoosting: \n",
            " 39.473684210526315\n"
          ]
        }
      ]
    },
    {
      "cell_type": "markdown",
      "source": [
        "**Naive Bayes**"
      ],
      "metadata": {
        "id": "kWxVBps4iStD"
      }
    },
    {
      "cell_type": "code",
      "source": [
        "from sklearn.naive_bayes import GaussianNB "
      ],
      "metadata": {
        "id": "tBIMYgzpiVo9"
      },
      "execution_count": 1062,
      "outputs": []
    },
    {
      "cell_type": "code",
      "source": [
        "gnb = GaussianNB()\n",
        "gnb.fit(X_train_std_20, y_train_20)\n",
        "gnb_y_pred = gnb.predict(X_test_std_20)"
      ],
      "metadata": {
        "id": "kKiOkn2WiX6f"
      },
      "execution_count": 1063,
      "outputs": []
    },
    {
      "cell_type": "code",
      "source": [
        "acc_score_gnb = accuracy_score(y_test_20, gnb_y_pred)\n",
        "print(\"Accuracy Score for Naive: \\n\", acc_score_gnb*100)"
      ],
      "metadata": {
        "colab": {
          "base_uri": "https://localhost:8080/"
        },
        "id": "d8g0Dxzkij_X",
        "outputId": "0f0a4ac9-461d-4047-8416-c5dd5ce71205"
      },
      "execution_count": 1064,
      "outputs": [
        {
          "output_type": "stream",
          "name": "stdout",
          "text": [
            "Accuracy Score for Naive: \n",
            " 39.473684210526315\n"
          ]
        }
      ]
    }
  ]
}