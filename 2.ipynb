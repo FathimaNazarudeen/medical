{
  "nbformat": 4,
  "nbformat_minor": 0,
  "metadata": {
    "colab": {
      "provenance": [],
      "authorship_tag": "ABX9TyNuY6ujlEVbvTcMG8VELiqJ",
      "include_colab_link": true
    },
    "kernelspec": {
      "name": "python3",
      "display_name": "Python 3"
    },
    "language_info": {
      "name": "python"
    }
  },
  "cells": [
    {
      "cell_type": "markdown",
      "metadata": {
        "id": "view-in-github",
        "colab_type": "text"
      },
      "source": [
        "<a href=\"https://colab.research.google.com/github/FathimaNazarudeen/medical/blob/main/2.ipynb\" target=\"_parent\"><img src=\"https://colab.research.google.com/assets/colab-badge.svg\" alt=\"Open In Colab\"/></a>"
      ]
    },
    {
      "cell_type": "code",
      "execution_count": 137,
      "metadata": {
        "id": "nvSzPb7CQl_T"
      },
      "outputs": [],
      "source": [
        "import pandas as pd \n",
        "import numpy as np"
      ]
    },
    {
      "cell_type": "code",
      "source": [
        "data=pd.read_csv(\"/content/thirddatasetdata2.csv\")"
      ],
      "metadata": {
        "id": "xAxdXsuAQnjF"
      },
      "execution_count": 138,
      "outputs": []
    },
    {
      "cell_type": "code",
      "source": [
        "data['Label'].value_counts()"
      ],
      "metadata": {
        "colab": {
          "base_uri": "https://localhost:8080/"
        },
        "id": "rLu6oK0zQ-xj",
        "outputId": "cb6fbda9-bd77-4488-e43b-2c379a839219"
      },
      "execution_count": 139,
      "outputs": [
        {
          "output_type": "execute_result",
          "data": {
            "text/plain": [
              "adeno       42\n",
              "squamous    35\n",
              "other       12\n",
              "Name: Label, dtype: int64"
            ]
          },
          "metadata": {},
          "execution_count": 139
        }
      ]
    },
    {
      "cell_type": "code",
      "source": [
        "data.columns"
      ],
      "metadata": {
        "colab": {
          "base_uri": "https://localhost:8080/"
        },
        "id": "RChi7Z1iREq3",
        "outputId": "147d6ab8-0001-4cee-d7c4-1b882747f591"
      },
      "execution_count": 140,
      "outputs": [
        {
          "output_type": "execute_result",
          "data": {
            "text/plain": [
              "Index(['ID', 'imaging.radiomics.GLCM_autocorr',\n",
              "       'imaging.radiomics.GLCM_clusProm', 'imaging.radiomics.GLCM_clusShade',\n",
              "       'imaging.radiomics.GLCM_clusTend', 'imaging.radiomics.GLCM_contrast',\n",
              "       'imaging.radiomics.GLCM_correl1', 'imaging.radiomics.GLCM_diffEntro',\n",
              "       'imaging.radiomics.GLCM_dissimilar', 'imaging.radiomics.GLCM_energy',\n",
              "       ...\n",
              "       'imaging.radiomics.Wavelet_LLL_stats_median',\n",
              "       'imaging.radiomics.Wavelet_LLL_stats_min',\n",
              "       'imaging.radiomics.Wavelet_LLL_stats_range',\n",
              "       'imaging.radiomics.Wavelet_LLL_stats_rms',\n",
              "       'imaging.radiomics.Wavelet_LLL_stats_skewness',\n",
              "       'imaging.radiomics.Wavelet_LLL_stats_std',\n",
              "       'imaging.radiomics.Wavelet_LLL_stats_totalenergy',\n",
              "       'imaging.radiomics.Wavelet_LLL_stats_uniformity',\n",
              "       'imaging.radiomics.Wavelet_LLL_stats_var', 'Label'],\n",
              "      dtype='object', length=652)"
            ]
          },
          "metadata": {},
          "execution_count": 140
        }
      ]
    },
    {
      "cell_type": "code",
      "source": [
        "data_real = data.replace(np.inf, np.nan)"
      ],
      "metadata": {
        "id": "g7ChMepFRHsr"
      },
      "execution_count": 141,
      "outputs": []
    },
    {
      "cell_type": "code",
      "source": [
        "data_real.isnull().sum().sum()"
      ],
      "metadata": {
        "colab": {
          "base_uri": "https://localhost:8080/"
        },
        "id": "h4sEgrHtRBJ2",
        "outputId": "2e49b96a-857e-4997-c5ee-77534406be2f"
      },
      "execution_count": 142,
      "outputs": [
        {
          "output_type": "execute_result",
          "data": {
            "text/plain": [
              "0"
            ]
          },
          "metadata": {},
          "execution_count": 142
        }
      ]
    },
    {
      "cell_type": "code",
      "source": [
        "data_df = data_real.dropna(axis=0)"
      ],
      "metadata": {
        "id": "xxMvZgRvRobm"
      },
      "execution_count": 143,
      "outputs": []
    },
    {
      "cell_type": "code",
      "source": [
        "data_df.isnull().sum().sum()"
      ],
      "metadata": {
        "colab": {
          "base_uri": "https://localhost:8080/"
        },
        "id": "azORVdTuRtHX",
        "outputId": "0282de73-fe1b-47d2-885d-89cbdd943ea2"
      },
      "execution_count": 144,
      "outputs": [
        {
          "output_type": "execute_result",
          "data": {
            "text/plain": [
              "0"
            ]
          },
          "metadata": {},
          "execution_count": 144
        }
      ]
    },
    {
      "cell_type": "code",
      "source": [
        "data_df"
      ],
      "metadata": {
        "colab": {
          "base_uri": "https://localhost:8080/",
          "height": 488
        },
        "id": "-kSZ5EHHRtJ1",
        "outputId": "27708aab-b84a-47c3-d9b7-6f4a89f4e37d"
      },
      "execution_count": 145,
      "outputs": [
        {
          "output_type": "execute_result",
          "data": {
            "text/plain": [
              "    ID  imaging.radiomics.GLCM_autocorr  imaging.radiomics.GLCM_clusProm  \\\n",
              "0    1                      1015.604377                     1.728441e+06   \n",
              "1    2                       921.867862                     6.464357e+04   \n",
              "2    3                       632.293653                     2.927069e+04   \n",
              "3    4                       768.887796                     1.016742e+04   \n",
              "4    5                       131.834572                     3.611580e+01   \n",
              "..  ..                              ...                              ...   \n",
              "84  85                       603.054548                     3.314669e+05   \n",
              "85  86                      1726.367922                     4.040858e+04   \n",
              "86  87                       473.814975                     2.669862e+04   \n",
              "87  88                       404.275573                     2.867433e+04   \n",
              "88  89                       681.259465                     6.136644e+04   \n",
              "\n",
              "    imaging.radiomics.GLCM_clusShade  imaging.radiomics.GLCM_clusTend  \\\n",
              "0                      -16203.786420                       995.351478   \n",
              "1                       -1855.872326                       111.303433   \n",
              "2                       -1068.132061                        84.292617   \n",
              "3                        -348.622125                        29.055416   \n",
              "4                          -2.013109                         2.503468   \n",
              "..                               ...                              ...   \n",
              "84                       1834.022542                       488.061895   \n",
              "85                       -874.026124                        31.988221   \n",
              "86                       -868.125572                        98.751127   \n",
              "87                       -707.032249                        93.849341   \n",
              "88                      -1530.954192                       134.468888   \n",
              "\n",
              "    imaging.radiomics.GLCM_contrast  imaging.radiomics.GLCM_correl1  \\\n",
              "0                         22.221434                        0.957409   \n",
              "1                         24.812007                        0.630987   \n",
              "2                          7.278293                        0.839872   \n",
              "3                          6.021883                        0.658310   \n",
              "4                          1.033765                        0.411724   \n",
              "..                              ...                             ...   \n",
              "84                         9.442247                        0.967033   \n",
              "85                         7.225593                        0.632259   \n",
              "86                         5.111226                        0.902248   \n",
              "87                        22.308018                        0.618446   \n",
              "88                        21.364108                        0.725157   \n",
              "\n",
              "    imaging.radiomics.GLCM_diffEntro  imaging.radiomics.GLCM_dissimilar  \\\n",
              "0                           2.037688                           3.085783   \n",
              "1                           2.203000                           3.070020   \n",
              "2                           1.714220                           1.639064   \n",
              "3                           1.641467                           1.628996   \n",
              "4                           1.005289                           0.695758   \n",
              "..                               ...                                ...   \n",
              "84                          1.807970                           1.934324   \n",
              "85                          1.551758                           1.450927   \n",
              "86                          1.633828                           1.522530   \n",
              "87                          2.266238                           3.473518   \n",
              "88                          2.253468                           3.234712   \n",
              "\n",
              "    imaging.radiomics.GLCM_energy  ...  \\\n",
              "0                        0.017533  ...   \n",
              "1                        0.026890  ...   \n",
              "2                        0.054382  ...   \n",
              "3                        0.029925  ...   \n",
              "4                        0.118367  ...   \n",
              "..                            ...  ...   \n",
              "84                       0.024847  ...   \n",
              "85                       0.053324  ...   \n",
              "86                       0.027358  ...   \n",
              "87                       0.008502  ...   \n",
              "88                       0.007381  ...   \n",
              "\n",
              "    imaging.radiomics.Wavelet_LLL_stats_median  \\\n",
              "0                                  1415.663637   \n",
              "1                                  2761.175191   \n",
              "2                                  2860.668702   \n",
              "3                                  2931.331097   \n",
              "4                                  3033.154546   \n",
              "..                                         ...   \n",
              "84                                 4460.909095   \n",
              "85                                 5894.908307   \n",
              "86                                 2636.621869   \n",
              "87                                 2825.492940   \n",
              "88                                 2771.040671   \n",
              "\n",
              "    imaging.radiomics.Wavelet_LLL_stats_min  \\\n",
              "0                               -363.889654   \n",
              "1                                627.327497   \n",
              "2                               1064.846734   \n",
              "3                               1090.306774   \n",
              "4                               2305.169603   \n",
              "..                                      ...   \n",
              "84                              3251.188474   \n",
              "85                              3004.315216   \n",
              "86                              1108.310171   \n",
              "87                              1492.839890   \n",
              "88                               988.253227   \n",
              "\n",
              "    imaging.radiomics.Wavelet_LLL_stats_range  \\\n",
              "0                                 3646.793034   \n",
              "1                                 2591.028927   \n",
              "2                                 2858.450410   \n",
              "3                                 4341.408441   \n",
              "4                                 1481.835287   \n",
              "..                                        ...   \n",
              "84                                2664.350676   \n",
              "85                                3444.537968   \n",
              "86                                2736.174517   \n",
              "87                                1983.158830   \n",
              "88                                2592.351205   \n",
              "\n",
              "    imaging.radiomics.Wavelet_LLL_stats_rms  \\\n",
              "0                               1928.917633   \n",
              "1                               2583.771232   \n",
              "2                               2695.236066   \n",
              "3                               2900.917177   \n",
              "4                               3025.285718   \n",
              "..                                      ...   \n",
              "84                              4833.234698   \n",
              "85                              5846.312571   \n",
              "86                              2525.870412   \n",
              "87                              2777.899166   \n",
              "88                              2666.177912   \n",
              "\n",
              "    imaging.radiomics.Wavelet_LLL_stats_skewness  \\\n",
              "0                                       0.031798   \n",
              "1                                      -1.232774   \n",
              "2                                      -1.243821   \n",
              "3                                      -2.325833   \n",
              "4                                      -1.020618   \n",
              "..                                           ...   \n",
              "84                                      0.147291   \n",
              "85                                     -4.068370   \n",
              "86                                     -0.821885   \n",
              "87                                     -0.622212   \n",
              "88                                     -0.904100   \n",
              "\n",
              "    imaging.radiomics.Wavelet_LLL_stats_std  \\\n",
              "0                               1304.624058   \n",
              "1                                497.655023   \n",
              "2                                359.149777   \n",
              "3                                218.932372   \n",
              "4                                 69.813296   \n",
              "..                                      ...   \n",
              "84                               792.489235   \n",
              "85                               267.867124   \n",
              "86                               373.004255   \n",
              "87                               429.690726   \n",
              "88                               465.168673   \n",
              "\n",
              "    imaging.radiomics.Wavelet_LLL_stats_totalenergy  \\\n",
              "0                                      2.093502e+08   \n",
              "1                                      2.372606e+07   \n",
              "2                                      3.164909e+08   \n",
              "3                                      7.121297e+08   \n",
              "4                                      1.908266e+08   \n",
              "..                                              ...   \n",
              "84                                     2.985662e+08   \n",
              "85                                     4.396834e+08   \n",
              "86                                     3.136865e+08   \n",
              "87                                     5.023587e+09   \n",
              "88                                     8.361023e+07   \n",
              "\n",
              "    imaging.radiomics.Wavelet_LLL_stats_uniformity  \\\n",
              "0                                         0.047220   \n",
              "1                                         0.091541   \n",
              "2                                         0.144030   \n",
              "3                                         0.240815   \n",
              "4                                         0.360381   \n",
              "..                                             ...   \n",
              "84                                        0.091199   \n",
              "85                                        0.189860   \n",
              "86                                        0.095700   \n",
              "87                                        0.049898   \n",
              "88                                        0.056554   \n",
              "\n",
              "    imaging.radiomics.Wavelet_LLL_stats_var     Label  \n",
              "0                              1.702044e+09  squamous  \n",
              "1                              2.476605e+08  squamous  \n",
              "2                              1.289886e+05     adeno  \n",
              "3                              4.793138e+04  squamous  \n",
              "4                              4.873896e+03     adeno  \n",
              "..                                      ...       ...  \n",
              "84                             6.280392e+05  squamous  \n",
              "85                             7.175280e+04  squamous  \n",
              "86                             1.391322e+05  squamous  \n",
              "87                             1.846341e+05     other  \n",
              "88                             2.163819e+05     adeno  \n",
              "\n",
              "[89 rows x 652 columns]"
            ],
            "text/html": [
              "\n",
              "  <div id=\"df-99419bc4-7d6b-4243-9773-1d3d5da6529f\">\n",
              "    <div class=\"colab-df-container\">\n",
              "      <div>\n",
              "<style scoped>\n",
              "    .dataframe tbody tr th:only-of-type {\n",
              "        vertical-align: middle;\n",
              "    }\n",
              "\n",
              "    .dataframe tbody tr th {\n",
              "        vertical-align: top;\n",
              "    }\n",
              "\n",
              "    .dataframe thead th {\n",
              "        text-align: right;\n",
              "    }\n",
              "</style>\n",
              "<table border=\"1\" class=\"dataframe\">\n",
              "  <thead>\n",
              "    <tr style=\"text-align: right;\">\n",
              "      <th></th>\n",
              "      <th>ID</th>\n",
              "      <th>imaging.radiomics.GLCM_autocorr</th>\n",
              "      <th>imaging.radiomics.GLCM_clusProm</th>\n",
              "      <th>imaging.radiomics.GLCM_clusShade</th>\n",
              "      <th>imaging.radiomics.GLCM_clusTend</th>\n",
              "      <th>imaging.radiomics.GLCM_contrast</th>\n",
              "      <th>imaging.radiomics.GLCM_correl1</th>\n",
              "      <th>imaging.radiomics.GLCM_diffEntro</th>\n",
              "      <th>imaging.radiomics.GLCM_dissimilar</th>\n",
              "      <th>imaging.radiomics.GLCM_energy</th>\n",
              "      <th>...</th>\n",
              "      <th>imaging.radiomics.Wavelet_LLL_stats_median</th>\n",
              "      <th>imaging.radiomics.Wavelet_LLL_stats_min</th>\n",
              "      <th>imaging.radiomics.Wavelet_LLL_stats_range</th>\n",
              "      <th>imaging.radiomics.Wavelet_LLL_stats_rms</th>\n",
              "      <th>imaging.radiomics.Wavelet_LLL_stats_skewness</th>\n",
              "      <th>imaging.radiomics.Wavelet_LLL_stats_std</th>\n",
              "      <th>imaging.radiomics.Wavelet_LLL_stats_totalenergy</th>\n",
              "      <th>imaging.radiomics.Wavelet_LLL_stats_uniformity</th>\n",
              "      <th>imaging.radiomics.Wavelet_LLL_stats_var</th>\n",
              "      <th>Label</th>\n",
              "    </tr>\n",
              "  </thead>\n",
              "  <tbody>\n",
              "    <tr>\n",
              "      <th>0</th>\n",
              "      <td>1</td>\n",
              "      <td>1015.604377</td>\n",
              "      <td>1.728441e+06</td>\n",
              "      <td>-16203.786420</td>\n",
              "      <td>995.351478</td>\n",
              "      <td>22.221434</td>\n",
              "      <td>0.957409</td>\n",
              "      <td>2.037688</td>\n",
              "      <td>3.085783</td>\n",
              "      <td>0.017533</td>\n",
              "      <td>...</td>\n",
              "      <td>1415.663637</td>\n",
              "      <td>-363.889654</td>\n",
              "      <td>3646.793034</td>\n",
              "      <td>1928.917633</td>\n",
              "      <td>0.031798</td>\n",
              "      <td>1304.624058</td>\n",
              "      <td>2.093502e+08</td>\n",
              "      <td>0.047220</td>\n",
              "      <td>1.702044e+09</td>\n",
              "      <td>squamous</td>\n",
              "    </tr>\n",
              "    <tr>\n",
              "      <th>1</th>\n",
              "      <td>2</td>\n",
              "      <td>921.867862</td>\n",
              "      <td>6.464357e+04</td>\n",
              "      <td>-1855.872326</td>\n",
              "      <td>111.303433</td>\n",
              "      <td>24.812007</td>\n",
              "      <td>0.630987</td>\n",
              "      <td>2.203000</td>\n",
              "      <td>3.070020</td>\n",
              "      <td>0.026890</td>\n",
              "      <td>...</td>\n",
              "      <td>2761.175191</td>\n",
              "      <td>627.327497</td>\n",
              "      <td>2591.028927</td>\n",
              "      <td>2583.771232</td>\n",
              "      <td>-1.232774</td>\n",
              "      <td>497.655023</td>\n",
              "      <td>2.372606e+07</td>\n",
              "      <td>0.091541</td>\n",
              "      <td>2.476605e+08</td>\n",
              "      <td>squamous</td>\n",
              "    </tr>\n",
              "    <tr>\n",
              "      <th>2</th>\n",
              "      <td>3</td>\n",
              "      <td>632.293653</td>\n",
              "      <td>2.927069e+04</td>\n",
              "      <td>-1068.132061</td>\n",
              "      <td>84.292617</td>\n",
              "      <td>7.278293</td>\n",
              "      <td>0.839872</td>\n",
              "      <td>1.714220</td>\n",
              "      <td>1.639064</td>\n",
              "      <td>0.054382</td>\n",
              "      <td>...</td>\n",
              "      <td>2860.668702</td>\n",
              "      <td>1064.846734</td>\n",
              "      <td>2858.450410</td>\n",
              "      <td>2695.236066</td>\n",
              "      <td>-1.243821</td>\n",
              "      <td>359.149777</td>\n",
              "      <td>3.164909e+08</td>\n",
              "      <td>0.144030</td>\n",
              "      <td>1.289886e+05</td>\n",
              "      <td>adeno</td>\n",
              "    </tr>\n",
              "    <tr>\n",
              "      <th>3</th>\n",
              "      <td>4</td>\n",
              "      <td>768.887796</td>\n",
              "      <td>1.016742e+04</td>\n",
              "      <td>-348.622125</td>\n",
              "      <td>29.055416</td>\n",
              "      <td>6.021883</td>\n",
              "      <td>0.658310</td>\n",
              "      <td>1.641467</td>\n",
              "      <td>1.628996</td>\n",
              "      <td>0.029925</td>\n",
              "      <td>...</td>\n",
              "      <td>2931.331097</td>\n",
              "      <td>1090.306774</td>\n",
              "      <td>4341.408441</td>\n",
              "      <td>2900.917177</td>\n",
              "      <td>-2.325833</td>\n",
              "      <td>218.932372</td>\n",
              "      <td>7.121297e+08</td>\n",
              "      <td>0.240815</td>\n",
              "      <td>4.793138e+04</td>\n",
              "      <td>squamous</td>\n",
              "    </tr>\n",
              "    <tr>\n",
              "      <th>4</th>\n",
              "      <td>5</td>\n",
              "      <td>131.834572</td>\n",
              "      <td>3.611580e+01</td>\n",
              "      <td>-2.013109</td>\n",
              "      <td>2.503468</td>\n",
              "      <td>1.033765</td>\n",
              "      <td>0.411724</td>\n",
              "      <td>1.005289</td>\n",
              "      <td>0.695758</td>\n",
              "      <td>0.118367</td>\n",
              "      <td>...</td>\n",
              "      <td>3033.154546</td>\n",
              "      <td>2305.169603</td>\n",
              "      <td>1481.835287</td>\n",
              "      <td>3025.285718</td>\n",
              "      <td>-1.020618</td>\n",
              "      <td>69.813296</td>\n",
              "      <td>1.908266e+08</td>\n",
              "      <td>0.360381</td>\n",
              "      <td>4.873896e+03</td>\n",
              "      <td>adeno</td>\n",
              "    </tr>\n",
              "    <tr>\n",
              "      <th>...</th>\n",
              "      <td>...</td>\n",
              "      <td>...</td>\n",
              "      <td>...</td>\n",
              "      <td>...</td>\n",
              "      <td>...</td>\n",
              "      <td>...</td>\n",
              "      <td>...</td>\n",
              "      <td>...</td>\n",
              "      <td>...</td>\n",
              "      <td>...</td>\n",
              "      <td>...</td>\n",
              "      <td>...</td>\n",
              "      <td>...</td>\n",
              "      <td>...</td>\n",
              "      <td>...</td>\n",
              "      <td>...</td>\n",
              "      <td>...</td>\n",
              "      <td>...</td>\n",
              "      <td>...</td>\n",
              "      <td>...</td>\n",
              "      <td>...</td>\n",
              "    </tr>\n",
              "    <tr>\n",
              "      <th>84</th>\n",
              "      <td>85</td>\n",
              "      <td>603.054548</td>\n",
              "      <td>3.314669e+05</td>\n",
              "      <td>1834.022542</td>\n",
              "      <td>488.061895</td>\n",
              "      <td>9.442247</td>\n",
              "      <td>0.967033</td>\n",
              "      <td>1.807970</td>\n",
              "      <td>1.934324</td>\n",
              "      <td>0.024847</td>\n",
              "      <td>...</td>\n",
              "      <td>4460.909095</td>\n",
              "      <td>3251.188474</td>\n",
              "      <td>2664.350676</td>\n",
              "      <td>4833.234698</td>\n",
              "      <td>0.147291</td>\n",
              "      <td>792.489235</td>\n",
              "      <td>2.985662e+08</td>\n",
              "      <td>0.091199</td>\n",
              "      <td>6.280392e+05</td>\n",
              "      <td>squamous</td>\n",
              "    </tr>\n",
              "    <tr>\n",
              "      <th>85</th>\n",
              "      <td>86</td>\n",
              "      <td>1726.367922</td>\n",
              "      <td>4.040858e+04</td>\n",
              "      <td>-874.026124</td>\n",
              "      <td>31.988221</td>\n",
              "      <td>7.225593</td>\n",
              "      <td>0.632259</td>\n",
              "      <td>1.551758</td>\n",
              "      <td>1.450927</td>\n",
              "      <td>0.053324</td>\n",
              "      <td>...</td>\n",
              "      <td>5894.908307</td>\n",
              "      <td>3004.315216</td>\n",
              "      <td>3444.537968</td>\n",
              "      <td>5846.312571</td>\n",
              "      <td>-4.068370</td>\n",
              "      <td>267.867124</td>\n",
              "      <td>4.396834e+08</td>\n",
              "      <td>0.189860</td>\n",
              "      <td>7.175280e+04</td>\n",
              "      <td>squamous</td>\n",
              "    </tr>\n",
              "    <tr>\n",
              "      <th>86</th>\n",
              "      <td>87</td>\n",
              "      <td>473.814975</td>\n",
              "      <td>2.669862e+04</td>\n",
              "      <td>-868.125572</td>\n",
              "      <td>98.751127</td>\n",
              "      <td>5.111226</td>\n",
              "      <td>0.902248</td>\n",
              "      <td>1.633828</td>\n",
              "      <td>1.522530</td>\n",
              "      <td>0.027358</td>\n",
              "      <td>...</td>\n",
              "      <td>2636.621869</td>\n",
              "      <td>1108.310171</td>\n",
              "      <td>2736.174517</td>\n",
              "      <td>2525.870412</td>\n",
              "      <td>-0.821885</td>\n",
              "      <td>373.004255</td>\n",
              "      <td>3.136865e+08</td>\n",
              "      <td>0.095700</td>\n",
              "      <td>1.391322e+05</td>\n",
              "      <td>squamous</td>\n",
              "    </tr>\n",
              "    <tr>\n",
              "      <th>87</th>\n",
              "      <td>88</td>\n",
              "      <td>404.275573</td>\n",
              "      <td>2.867433e+04</td>\n",
              "      <td>-707.032249</td>\n",
              "      <td>93.849341</td>\n",
              "      <td>22.308018</td>\n",
              "      <td>0.618446</td>\n",
              "      <td>2.266238</td>\n",
              "      <td>3.473518</td>\n",
              "      <td>0.008502</td>\n",
              "      <td>...</td>\n",
              "      <td>2825.492940</td>\n",
              "      <td>1492.839890</td>\n",
              "      <td>1983.158830</td>\n",
              "      <td>2777.899166</td>\n",
              "      <td>-0.622212</td>\n",
              "      <td>429.690726</td>\n",
              "      <td>5.023587e+09</td>\n",
              "      <td>0.049898</td>\n",
              "      <td>1.846341e+05</td>\n",
              "      <td>other</td>\n",
              "    </tr>\n",
              "    <tr>\n",
              "      <th>88</th>\n",
              "      <td>89</td>\n",
              "      <td>681.259465</td>\n",
              "      <td>6.136644e+04</td>\n",
              "      <td>-1530.954192</td>\n",
              "      <td>134.468888</td>\n",
              "      <td>21.364108</td>\n",
              "      <td>0.725157</td>\n",
              "      <td>2.253468</td>\n",
              "      <td>3.234712</td>\n",
              "      <td>0.007381</td>\n",
              "      <td>...</td>\n",
              "      <td>2771.040671</td>\n",
              "      <td>988.253227</td>\n",
              "      <td>2592.351205</td>\n",
              "      <td>2666.177912</td>\n",
              "      <td>-0.904100</td>\n",
              "      <td>465.168673</td>\n",
              "      <td>8.361023e+07</td>\n",
              "      <td>0.056554</td>\n",
              "      <td>2.163819e+05</td>\n",
              "      <td>adeno</td>\n",
              "    </tr>\n",
              "  </tbody>\n",
              "</table>\n",
              "<p>89 rows × 652 columns</p>\n",
              "</div>\n",
              "      <button class=\"colab-df-convert\" onclick=\"convertToInteractive('df-99419bc4-7d6b-4243-9773-1d3d5da6529f')\"\n",
              "              title=\"Convert this dataframe to an interactive table.\"\n",
              "              style=\"display:none;\">\n",
              "        \n",
              "  <svg xmlns=\"http://www.w3.org/2000/svg\" height=\"24px\"viewBox=\"0 0 24 24\"\n",
              "       width=\"24px\">\n",
              "    <path d=\"M0 0h24v24H0V0z\" fill=\"none\"/>\n",
              "    <path d=\"M18.56 5.44l.94 2.06.94-2.06 2.06-.94-2.06-.94-.94-2.06-.94 2.06-2.06.94zm-11 1L8.5 8.5l.94-2.06 2.06-.94-2.06-.94L8.5 2.5l-.94 2.06-2.06.94zm10 10l.94 2.06.94-2.06 2.06-.94-2.06-.94-.94-2.06-.94 2.06-2.06.94z\"/><path d=\"M17.41 7.96l-1.37-1.37c-.4-.4-.92-.59-1.43-.59-.52 0-1.04.2-1.43.59L10.3 9.45l-7.72 7.72c-.78.78-.78 2.05 0 2.83L4 21.41c.39.39.9.59 1.41.59.51 0 1.02-.2 1.41-.59l7.78-7.78 2.81-2.81c.8-.78.8-2.07 0-2.86zM5.41 20L4 18.59l7.72-7.72 1.47 1.35L5.41 20z\"/>\n",
              "  </svg>\n",
              "      </button>\n",
              "      \n",
              "  <style>\n",
              "    .colab-df-container {\n",
              "      display:flex;\n",
              "      flex-wrap:wrap;\n",
              "      gap: 12px;\n",
              "    }\n",
              "\n",
              "    .colab-df-convert {\n",
              "      background-color: #E8F0FE;\n",
              "      border: none;\n",
              "      border-radius: 50%;\n",
              "      cursor: pointer;\n",
              "      display: none;\n",
              "      fill: #1967D2;\n",
              "      height: 32px;\n",
              "      padding: 0 0 0 0;\n",
              "      width: 32px;\n",
              "    }\n",
              "\n",
              "    .colab-df-convert:hover {\n",
              "      background-color: #E2EBFA;\n",
              "      box-shadow: 0px 1px 2px rgba(60, 64, 67, 0.3), 0px 1px 3px 1px rgba(60, 64, 67, 0.15);\n",
              "      fill: #174EA6;\n",
              "    }\n",
              "\n",
              "    [theme=dark] .colab-df-convert {\n",
              "      background-color: #3B4455;\n",
              "      fill: #D2E3FC;\n",
              "    }\n",
              "\n",
              "    [theme=dark] .colab-df-convert:hover {\n",
              "      background-color: #434B5C;\n",
              "      box-shadow: 0px 1px 3px 1px rgba(0, 0, 0, 0.15);\n",
              "      filter: drop-shadow(0px 1px 2px rgba(0, 0, 0, 0.3));\n",
              "      fill: #FFFFFF;\n",
              "    }\n",
              "  </style>\n",
              "\n",
              "      <script>\n",
              "        const buttonEl =\n",
              "          document.querySelector('#df-99419bc4-7d6b-4243-9773-1d3d5da6529f button.colab-df-convert');\n",
              "        buttonEl.style.display =\n",
              "          google.colab.kernel.accessAllowed ? 'block' : 'none';\n",
              "\n",
              "        async function convertToInteractive(key) {\n",
              "          const element = document.querySelector('#df-99419bc4-7d6b-4243-9773-1d3d5da6529f');\n",
              "          const dataTable =\n",
              "            await google.colab.kernel.invokeFunction('convertToInteractive',\n",
              "                                                     [key], {});\n",
              "          if (!dataTable) return;\n",
              "\n",
              "          const docLinkHtml = 'Like what you see? Visit the ' +\n",
              "            '<a target=\"_blank\" href=https://colab.research.google.com/notebooks/data_table.ipynb>data table notebook</a>'\n",
              "            + ' to learn more about interactive tables.';\n",
              "          element.innerHTML = '';\n",
              "          dataTable['output_type'] = 'display_data';\n",
              "          await google.colab.output.renderOutput(dataTable, element);\n",
              "          const docLink = document.createElement('div');\n",
              "          docLink.innerHTML = docLinkHtml;\n",
              "          element.appendChild(docLink);\n",
              "        }\n",
              "      </script>\n",
              "    </div>\n",
              "  </div>\n",
              "  "
            ]
          },
          "metadata": {},
          "execution_count": 145
        }
      ]
    },
    {
      "cell_type": "code",
      "source": [
        "data_X = data_df.drop(['Label'], axis = 1)"
      ],
      "metadata": {
        "id": "lXIrC3tQR_LL"
      },
      "execution_count": 146,
      "outputs": []
    },
    {
      "cell_type": "code",
      "source": [
        "data_X.columns "
      ],
      "metadata": {
        "colab": {
          "base_uri": "https://localhost:8080/"
        },
        "id": "gOC53qh3SdXN",
        "outputId": "f0465e07-6c1a-4496-db88-804f7d3deda0"
      },
      "execution_count": 182,
      "outputs": [
        {
          "output_type": "execute_result",
          "data": {
            "text/plain": [
              "Index(['ID', 'imaging.radiomics.GLCM_autocorr',\n",
              "       'imaging.radiomics.GLCM_clusProm', 'imaging.radiomics.GLCM_clusShade',\n",
              "       'imaging.radiomics.GLCM_clusTend', 'imaging.radiomics.GLCM_contrast',\n",
              "       'imaging.radiomics.GLCM_correl1', 'imaging.radiomics.GLCM_diffEntro',\n",
              "       'imaging.radiomics.GLCM_dissimilar', 'imaging.radiomics.GLCM_energy',\n",
              "       ...\n",
              "       'imaging.radiomics.Wavelet_LLL_stats_mean',\n",
              "       'imaging.radiomics.Wavelet_LLL_stats_median',\n",
              "       'imaging.radiomics.Wavelet_LLL_stats_min',\n",
              "       'imaging.radiomics.Wavelet_LLL_stats_range',\n",
              "       'imaging.radiomics.Wavelet_LLL_stats_rms',\n",
              "       'imaging.radiomics.Wavelet_LLL_stats_skewness',\n",
              "       'imaging.radiomics.Wavelet_LLL_stats_std',\n",
              "       'imaging.radiomics.Wavelet_LLL_stats_totalenergy',\n",
              "       'imaging.radiomics.Wavelet_LLL_stats_uniformity',\n",
              "       'imaging.radiomics.Wavelet_LLL_stats_var'],\n",
              "      dtype='object', length=651)"
            ]
          },
          "metadata": {},
          "execution_count": 182
        }
      ]
    },
    {
      "cell_type": "code",
      "source": [
        "data_df.isnull().sum().sum()"
      ],
      "metadata": {
        "colab": {
          "base_uri": "https://localhost:8080/"
        },
        "id": "nC2McO9GSf5c",
        "outputId": "9789c834-2120-4810-ba67-3e4b6c795c49"
      },
      "execution_count": 148,
      "outputs": [
        {
          "output_type": "execute_result",
          "data": {
            "text/plain": [
              "0"
            ]
          },
          "metadata": {},
          "execution_count": 148
        }
      ]
    },
    {
      "cell_type": "code",
      "source": [
        "data_y = data_df['Label']"
      ],
      "metadata": {
        "id": "1Uafw9VQS94z"
      },
      "execution_count": 149,
      "outputs": []
    },
    {
      "cell_type": "markdown",
      "source": [
        "label encode"
      ],
      "metadata": {
        "id": "pcXMVMMNS-r_"
      }
    },
    {
      "cell_type": "code",
      "source": [
        "from sklearn.preprocessing import LabelEncoder "
      ],
      "metadata": {
        "id": "k9e4KR8RTBWW"
      },
      "execution_count": 150,
      "outputs": []
    },
    {
      "cell_type": "code",
      "source": [
        "le = LabelEncoder()"
      ],
      "metadata": {
        "id": "CP3oH25bTC5L"
      },
      "execution_count": 151,
      "outputs": []
    },
    {
      "cell_type": "code",
      "source": [
        "data_y_trans = le.fit_transform(data_y)\n",
        "le_fid = LabelEncoder()"
      ],
      "metadata": {
        "id": "r58uwHAeTE8t"
      },
      "execution_count": 152,
      "outputs": []
    },
    {
      "cell_type": "code",
      "source": [
        "from sklearn.model_selection import train_test_split\n",
        "X_train, X_test,y_train, y_test = train_test_split(data_X, data_y, train_size = 0.7)"
      ],
      "metadata": {
        "id": "o_3Qnz6QSuA1"
      },
      "execution_count": 153,
      "outputs": []
    },
    {
      "cell_type": "code",
      "source": [
        "from sklearn.preprocessing import StandardScaler \n",
        "ss = StandardScaler()\n",
        "X_train_std = ss.fit_transform(X_train)\n",
        "X_test_std = ss.fit_transform(X_test)"
      ],
      "metadata": {
        "id": "scFoZhCmTP7z"
      },
      "execution_count": 154,
      "outputs": []
    },
    {
      "cell_type": "code",
      "source": [
        "from sklearn.ensemble import ExtraTreesClassifier"
      ],
      "metadata": {
        "id": "PgNYDI6tTUIX"
      },
      "execution_count": 155,
      "outputs": []
    },
    {
      "cell_type": "code",
      "source": [
        "model = ExtraTreesClassifier(bootstrap=False, ccp_alpha=0.0, class_weight=None,\n",
        "                     criterion='gini', max_depth=None, max_features='auto',\n",
        "                     max_leaf_nodes=None, max_samples=None,\n",
        "                     min_impurity_decrease=0.0, \n",
        "                     min_samples_leaf=1, min_samples_split=2,\n",
        "                     min_weight_fraction_leaf=0.0, n_estimators=100,\n",
        "                     n_jobs=None, oob_score=False, random_state=42, verbose=0,\n",
        "                     warm_start=False)\n",
        "\n",
        "model.fit(data_X, data_y_trans)"
      ],
      "metadata": {
        "colab": {
          "base_uri": "https://localhost:8080/"
        },
        "id": "UVehTngSTb9K",
        "outputId": "4b493ec1-b232-429d-f4a1-523c248236fe"
      },
      "execution_count": 156,
      "outputs": [
        {
          "output_type": "execute_result",
          "data": {
            "text/plain": [
              "ExtraTreesClassifier(random_state=42)"
            ]
          },
          "metadata": {},
          "execution_count": 156
        }
      ]
    },
    {
      "cell_type": "code",
      "source": [
        "model.feature_importances_"
      ],
      "metadata": {
        "colab": {
          "base_uri": "https://localhost:8080/"
        },
        "id": "gqIIlAc8TUPk",
        "outputId": "6240221f-0ae8-4f7b-f878-a9a6c6c86251"
      },
      "execution_count": 157,
      "outputs": [
        {
          "output_type": "execute_result",
          "data": {
            "text/plain": [
              "array([0.00172647, 0.00152891, 0.00148741, 0.00130069, 0.00191458,\n",
              "       0.00113475, 0.00148723, 0.        , 0.00113109, 0.00192082,\n",
              "       0.00145721, 0.00277373, 0.00077805, 0.00253201, 0.00174685,\n",
              "       0.00105539, 0.00182645, 0.00068639, 0.00213234, 0.00129952,\n",
              "       0.00041152, 0.00296156, 0.00097221, 0.0023564 , 0.00300626,\n",
              "       0.00187504, 0.0020142 , 0.00086951, 0.0006196 , 0.00336574,\n",
              "       0.00204592, 0.00106213, 0.00221122, 0.00294086, 0.0015738 ,\n",
              "       0.00035317, 0.00175421, 0.00036645, 0.0003815 , 0.00196524,\n",
              "       0.00051286, 0.00103517, 0.00140153, 0.00147604, 0.00108077,\n",
              "       0.00159991, 0.00157967, 0.00115382, 0.00130944, 0.00085013,\n",
              "       0.00144249, 0.00147987, 0.00064858, 0.00219904, 0.00151897,\n",
              "       0.00029887, 0.001201  , 0.00210077, 0.00174629, 0.00153134,\n",
              "       0.00155395, 0.00150802, 0.00158578, 0.00367443, 0.00098456,\n",
              "       0.00104662, 0.00241048, 0.        , 0.0017836 , 0.00298733,\n",
              "       0.00169424, 0.00186835, 0.00271611, 0.00118377, 0.00100376,\n",
              "       0.00127706, 0.00178284, 0.00118464, 0.00101136, 0.00024784,\n",
              "       0.00157369, 0.00205156, 0.00164622, 0.00064073, 0.00247579,\n",
              "       0.        , 0.        , 0.00297032, 0.00076652, 0.00215715,\n",
              "       0.00203823, 0.00167628, 0.00055091, 0.00469018, 0.00068393,\n",
              "       0.00191377, 0.00155727, 0.00082002, 0.00205939, 0.00154128,\n",
              "       0.00227616, 0.00245044, 0.00182143, 0.0007869 , 0.00112289,\n",
              "       0.00132595, 0.00043372, 0.00167156, 0.00048949, 0.00121876,\n",
              "       0.0019952 , 0.0043607 , 0.00091584, 0.00178542, 0.00271038,\n",
              "       0.00073423, 0.00028692, 0.00094645, 0.00191177, 0.00130355,\n",
              "       0.00447182, 0.00078208, 0.00266721, 0.00060915, 0.00203726,\n",
              "       0.00078434, 0.00179987, 0.00235228, 0.00117775, 0.00662189,\n",
              "       0.00181741, 0.00135385, 0.00177435, 0.00066091, 0.00134742,\n",
              "       0.00253861, 0.00027882, 0.00188485, 0.00205747, 0.00086922,\n",
              "       0.00204724, 0.0002166 , 0.00108215, 0.        , 0.00177878,\n",
              "       0.00214304, 0.00119798, 0.00591642, 0.00124692, 0.00181699,\n",
              "       0.00136234, 0.00061031, 0.00252874, 0.00090908, 0.00102298,\n",
              "       0.00073762, 0.00032085, 0.0003888 , 0.00147987, 0.00065425,\n",
              "       0.00117716, 0.00071977, 0.00175704, 0.0020657 , 0.00170274,\n",
              "       0.00120183, 0.00149193, 0.0018216 , 0.00113264, 0.00021686,\n",
              "       0.00086852, 0.00282486, 0.00145969, 0.00071255, 0.        ,\n",
              "       0.00047774, 0.00093998, 0.00108415, 0.00158818, 0.00126941,\n",
              "       0.00239788, 0.00089366, 0.00133658, 0.00165613, 0.00163642,\n",
              "       0.00079684, 0.00143615, 0.00104732, 0.00126443, 0.00228924,\n",
              "       0.00138348, 0.00081681, 0.00174868, 0.00126248, 0.0007494 ,\n",
              "       0.0004813 , 0.00219771, 0.00164753, 0.00082034, 0.00074087,\n",
              "       0.00132588, 0.00135766, 0.00220662, 0.00181655, 0.00094268,\n",
              "       0.00073969, 0.00110813, 0.00213219, 0.00226588, 0.00104713,\n",
              "       0.00174058, 0.00206759, 0.00162033, 0.00328283, 0.00358643,\n",
              "       0.00208664, 0.00112864, 0.00091589, 0.00094838, 0.00244576,\n",
              "       0.00127557, 0.00141626, 0.00050966, 0.00132625, 0.00415337,\n",
              "       0.00054966, 0.00788142, 0.00140977, 0.0033205 , 0.00262302,\n",
              "       0.00466551, 0.00231742, 0.0080617 , 0.0058835 , 0.00400778,\n",
              "       0.00181378, 0.00221426, 0.00064615, 0.00245917, 0.00525856,\n",
              "       0.0015853 , 0.00208663, 0.00313132, 0.00432364, 0.00206782,\n",
              "       0.00534874, 0.00593154, 0.00197976, 0.00235122, 0.00064528,\n",
              "       0.00050915, 0.0017092 , 0.00113608, 0.00069209, 0.00111421,\n",
              "       0.00260474, 0.0004647 , 0.00267257, 0.00163909, 0.00174746,\n",
              "       0.0008335 , 0.00251684, 0.00041255, 0.00053662, 0.00051427,\n",
              "       0.00104231, 0.00027882, 0.00154109, 0.00059305, 0.0020462 ,\n",
              "       0.00099579, 0.        , 0.00209085, 0.00018588, 0.00038415,\n",
              "       0.00151801, 0.00096026, 0.00064076, 0.00112482, 0.00110389,\n",
              "       0.00068776, 0.0016814 , 0.00191914, 0.00073871, 0.00136612,\n",
              "       0.00154546, 0.        , 0.00119403, 0.00145143, 0.00243504,\n",
              "       0.00141784, 0.00074245, 0.00202097, 0.00152552, 0.00161747,\n",
              "       0.00167731, 0.00082407, 0.00054938, 0.00250247, 0.00247877,\n",
              "       0.0012205 , 0.00150408, 0.00260242, 0.00401023, 0.00125191,\n",
              "       0.        , 0.00266635, 0.00105849, 0.00110865, 0.00051486,\n",
              "       0.00301603, 0.0014253 , 0.00221386, 0.        , 0.00053183,\n",
              "       0.00095092, 0.00093559, 0.00212986, 0.00116869, 0.00105866,\n",
              "       0.00232877, 0.00072081, 0.00297589, 0.00062993, 0.00131141,\n",
              "       0.00059683, 0.00060043, 0.00098106, 0.000953  , 0.00372091,\n",
              "       0.00258721, 0.00229563, 0.00107811, 0.00074869, 0.00280122,\n",
              "       0.00207269, 0.0012006 , 0.00168312, 0.00452461, 0.00119392,\n",
              "       0.0019463 , 0.00112269, 0.00051427, 0.00160874, 0.0009239 ,\n",
              "       0.00321019, 0.00111881, 0.00150498, 0.00094916, 0.00334289,\n",
              "       0.00359149, 0.00131693, 0.00068157, 0.00071707, 0.00130707,\n",
              "       0.00079221, 0.00085441, 0.00052577, 0.00122885, 0.00087752,\n",
              "       0.00060473, 0.00199259, 0.0003098 , 0.00220963, 0.0008989 ,\n",
              "       0.00142582, 0.00109252, 0.0013909 , 0.00284805, 0.00145807,\n",
              "       0.00052666, 0.00142052, 0.00017659, 0.00203301, 0.00282969,\n",
              "       0.00088322, 0.00156419, 0.00137902, 0.00150881, 0.00111634,\n",
              "       0.00058243, 0.00150652, 0.00050011, 0.0013272 , 0.00165762,\n",
              "       0.00057623, 0.00075936, 0.00146003, 0.00126576, 0.00141727,\n",
              "       0.00058862, 0.0022064 , 0.00052578, 0.00164321, 0.00198746,\n",
              "       0.00115776, 0.00059327, 0.00137901, 0.00119054, 0.00135588,\n",
              "       0.00113808, 0.00176751, 0.00094937, 0.00154257, 0.00132905,\n",
              "       0.00161951, 0.00197339, 0.00198576, 0.00053906, 0.00037176,\n",
              "       0.00089191, 0.00193494, 0.00126361, 0.00095667, 0.        ,\n",
              "       0.00016198, 0.00089598, 0.        , 0.00083647, 0.00078823,\n",
              "       0.00027432, 0.00032041, 0.00073379, 0.00075167, 0.00105425,\n",
              "       0.00198637, 0.00252824, 0.00218976, 0.00071546, 0.00127301,\n",
              "       0.00068488, 0.00095125, 0.00269908, 0.00222115, 0.00087683,\n",
              "       0.00043063, 0.0010614 , 0.00121877, 0.00094092, 0.00092528,\n",
              "       0.00186123, 0.0003207 , 0.00129489, 0.00137015, 0.00231331,\n",
              "       0.00050594, 0.00230053, 0.00207568, 0.00022022, 0.00264684,\n",
              "       0.00217244, 0.00123349, 0.00069396, 0.00134557, 0.00300674,\n",
              "       0.00152379, 0.00137357, 0.00086751, 0.00139742, 0.00310262,\n",
              "       0.00046839, 0.00031102, 0.00126396, 0.00034333, 0.00162455,\n",
              "       0.00138639, 0.0009543 , 0.00225303, 0.00058862, 0.00071255,\n",
              "       0.00076734, 0.00037176, 0.00084089, 0.00039242, 0.0016807 ,\n",
              "       0.00138253, 0.00283893, 0.00144175, 0.00201828, 0.00296261,\n",
              "       0.00255956, 0.00178343, 0.00163177, 0.00171086, 0.00130689,\n",
              "       0.00211261, 0.00137582, 0.00138835, 0.00147867, 0.00105333,\n",
              "       0.00219035, 0.00153305, 0.00089843, 0.00178914, 0.00074036,\n",
              "       0.00206642, 0.00110181, 0.00066711, 0.00202376, 0.00064003,\n",
              "       0.00162913, 0.00181898, 0.00187901, 0.00058184, 0.00274364,\n",
              "       0.00111861, 0.00134715, 0.00087305, 0.00271799, 0.00110201,\n",
              "       0.00186659, 0.00190199, 0.00122943, 0.001338  , 0.00082942,\n",
              "       0.00091701, 0.00122291, 0.00141017, 0.00255136, 0.00149694,\n",
              "       0.00069969, 0.0033234 , 0.00064174, 0.0015467 , 0.00066293,\n",
              "       0.00201126, 0.00192567, 0.00113652, 0.00142486, 0.00190877,\n",
              "       0.00128421, 0.00125495, 0.00137836, 0.00198621, 0.0025129 ,\n",
              "       0.00089254, 0.00129932, 0.00397495, 0.00137346, 0.00309553,\n",
              "       0.00062315, 0.00380513, 0.00095452, 0.0023265 , 0.00116716,\n",
              "       0.00165725, 0.0009133 , 0.00243925, 0.0014695 , 0.000632  ,\n",
              "       0.00330638, 0.00105429, 0.00165913, 0.00058862, 0.00153131,\n",
              "       0.00137575, 0.00018588, 0.00270811, 0.00115405, 0.00114576,\n",
              "       0.0023258 , 0.00187538, 0.00179378, 0.00353959, 0.00108931,\n",
              "       0.00133005, 0.00155485, 0.00151953, 0.00057623, 0.00362418,\n",
              "       0.00040274, 0.00149514, 0.00128151, 0.00045109, 0.00248637,\n",
              "       0.00124669, 0.00102638, 0.00191022, 0.00221347, 0.00270412,\n",
              "       0.00134126, 0.00177447, 0.00131548, 0.00328431, 0.00190281,\n",
              "       0.0009644 , 0.00121487, 0.00129548, 0.        , 0.00122932,\n",
              "       0.00113559, 0.00211263, 0.00073578, 0.001174  , 0.00095228,\n",
              "       0.00159592, 0.0014541 , 0.00085505, 0.00287823, 0.0002744 ,\n",
              "       0.00145877, 0.00135288, 0.0004647 , 0.001429  , 0.00024784,\n",
              "       0.00051995, 0.00074956, 0.00091288, 0.00091557, 0.00336427,\n",
              "       0.00087029, 0.00088682, 0.00192379, 0.0006795 , 0.00352058,\n",
              "       0.00146637, 0.00116753, 0.00522943, 0.00300607, 0.00090064,\n",
              "       0.00157533, 0.00048595, 0.00112434, 0.0010761 , 0.00189299,\n",
              "       0.00376331, 0.00139423, 0.00104753, 0.00100576, 0.00040505,\n",
              "       0.00217877, 0.00183514, 0.00101946, 0.00161057, 0.0005595 ,\n",
              "       0.00151173, 0.00327687, 0.00095626, 0.00291741, 0.00348955,\n",
              "       0.00024784, 0.00283335, 0.0025672 , 0.00223478, 0.00104431,\n",
              "       0.00171554, 0.00160375, 0.00056118, 0.00097597, 0.00114981,\n",
              "       0.00089223])"
            ]
          },
          "metadata": {},
          "execution_count": 157
        }
      ]
    },
    {
      "cell_type": "code",
      "source": [
        "feature_importance_std = pd.Series(model.feature_importances_, index=data_X.columns)\n",
        "feature_importance_std.nlargest(20).plot(kind='bar', title='Standardised Dataset Feature Selection using ExtraTreesClassifier')"
      ],
      "metadata": {
        "colab": {
          "base_uri": "https://localhost:8080/",
          "height": 616
        },
        "id": "_YfFwVLeTl6A",
        "outputId": "bd7b475e-c826-4d6d-843b-a954209d0125"
      },
      "execution_count": 158,
      "outputs": [
        {
          "output_type": "execute_result",
          "data": {
            "text/plain": [
              "<matplotlib.axes._subplots.AxesSubplot at 0x7f872be90850>"
            ]
          },
          "metadata": {},
          "execution_count": 158
        },
        {
          "output_type": "display_data",
          "data": {
            "text/plain": [
              "<Figure size 432x288 with 1 Axes>"
            ],
            "image/png": "[encoded data removed]"
          },
          "metadata": {
            "needs_background": "light"
          }
        }
      ]
    },
    {
      "cell_type": "code",
      "source": [
        "data_new_10features_X = data_X[['imaging.radiomics.Shape_spherDisprop','imaging.radiomics.Shape_compactness2','imaging.radiomics.LoG_sigma_3_5_mm_2D_stats_skewness','imaging.radiomics.Shape_orig_sphericity','imaging.radiomics.LoG_sigma_3_mm_2D_stats_skewness','imaging.radiomics.Shape_sphericity','imaging.radiomics.Shape_orig_spherDisprop','imaging.radiomics.Shape_orig_compactness2','imaging.radiomics.Wavelet_LLL_glcm_invDiffmomnor','imaging.radiomics.LoG_sigma_2_5_mm_2D_stats_skewness','imaging.radiomics.Shape_maxDiameter3D','imaging.radiomics.Wavelet_HHL_rlgl_highGrayLevelRunEmphasis','imaging.radiomics.LoG_sigma_2_mm_2D_stats_skewness','imaging.radiomics.Shape_orig_maxDiameter3D','imaging.radiomics.RLGL_shortRunLowGrayLevEmpha','imaging.radiomics.Wavelet_HHH_stats_max','imaging.radiomics.Shape_surfVolRatio','imaging.radiomics.Wavelet_LHL_rlgl_shortRunEmphasis','imaging.radiomics.Wavelet_LHL_stats_entropy','imaging.radiomics.LoG_sigma_2_mm_3D_stats_skewness']]"
      ],
      "metadata": {
        "id": "FB66tnrIT-oM"
      },
      "execution_count": 208,
      "outputs": []
    },
    {
      "cell_type": "code",
      "source": [
        "data_new_10features_X"
      ],
      "metadata": {
        "colab": {
          "base_uri": "https://localhost:8080/",
          "height": 488
        },
        "id": "6f65KMdNWbLX",
        "outputId": "c0ba857b-32a3-4069-f81c-1845c1cb9f2a"
      },
      "execution_count": 209,
      "outputs": [
        {
          "output_type": "execute_result",
          "data": {
            "text/plain": [
              "    imaging.radiomics.Shape_spherDisprop  \\\n",
              "0                               1.712505   \n",
              "1                               1.467591   \n",
              "2                               1.325284   \n",
              "3                               1.479163   \n",
              "4                               2.479723   \n",
              "..                                   ...   \n",
              "84                              1.614029   \n",
              "85                              1.868664   \n",
              "86                              1.433103   \n",
              "87                              1.190747   \n",
              "88                              1.545615   \n",
              "\n",
              "    imaging.radiomics.Shape_compactness2  \\\n",
              "0                               0.199115   \n",
              "1                               0.316363   \n",
              "2                               0.429609   \n",
              "3                               0.308995   \n",
              "4                               0.065583   \n",
              "..                                   ...   \n",
              "84                              0.237830   \n",
              "85                              0.153252   \n",
              "86                              0.339756   \n",
              "87                              0.592300   \n",
              "88                              0.270830   \n",
              "\n",
              "    imaging.radiomics.LoG_sigma_3_5_mm_2D_stats_skewness  \\\n",
              "0                                            1.058955      \n",
              "1                                            0.171213      \n",
              "2                                            0.809813      \n",
              "3                                            1.004323      \n",
              "4                                           -0.062707      \n",
              "..                                                ...      \n",
              "84                                          -0.186940      \n",
              "85                                           0.512895      \n",
              "86                                           0.280741      \n",
              "87                                          -0.367213      \n",
              "88                                           0.118159      \n",
              "\n",
              "    imaging.radiomics.Shape_orig_sphericity  \\\n",
              "0                                  0.587595   \n",
              "1                                  0.731635   \n",
              "2                                  0.758821   \n",
              "3                                  0.675702   \n",
              "4                                  0.405299   \n",
              "..                                      ...   \n",
              "84                                 0.624043   \n",
              "85                                 0.511419   \n",
              "86                                 0.752705   \n",
              "87                                 0.835434   \n",
              "88                                 0.638238   \n",
              "\n",
              "    imaging.radiomics.LoG_sigma_3_mm_2D_stats_skewness  \\\n",
              "0                                            1.154539    \n",
              "1                                           -0.244770    \n",
              "2                                            1.048718    \n",
              "3                                            1.237680    \n",
              "4                                           -0.075405    \n",
              "..                                                ...    \n",
              "84                                          -0.190842    \n",
              "85                                           0.630210    \n",
              "86                                           0.307867    \n",
              "87                                          -0.360876    \n",
              "88                                           0.216279    \n",
              "\n",
              "    imaging.radiomics.Shape_sphericity  \\\n",
              "0                             0.583940   \n",
              "1                             0.681389   \n",
              "2                             0.754555   \n",
              "3                             0.676058   \n",
              "4                             0.403271   \n",
              "..                                 ...   \n",
              "84                            0.619567   \n",
              "85                            0.535142   \n",
              "86                            0.697786   \n",
              "87                            0.839809   \n",
              "88                            0.646992   \n",
              "\n",
              "    imaging.radiomics.Shape_orig_spherDisprop  \\\n",
              "0                                    1.701854   \n",
              "1                                    1.366801   \n",
              "2                                    1.317834   \n",
              "3                                    1.479943   \n",
              "4                                    2.467313   \n",
              "..                                        ...   \n",
              "84                                   1.602454   \n",
              "85                                   1.955343   \n",
              "86                                   1.328542   \n",
              "87                                   1.196983   \n",
              "88                                   1.566814   \n",
              "\n",
              "    imaging.radiomics.Shape_orig_compactness2  \\\n",
              "0                                    0.202877   \n",
              "1                                    0.391637   \n",
              "2                                    0.436937   \n",
              "3                                    0.308507   \n",
              "4                                    0.066577   \n",
              "..                                        ...   \n",
              "84                                   0.243021   \n",
              "85                                   0.133762   \n",
              "86                                   0.426456   \n",
              "87                                   0.583091   \n",
              "88                                   0.259984   \n",
              "\n",
              "    imaging.radiomics.Wavelet_LLL_glcm_invDiffmomnor  \\\n",
              "0                                           0.993989   \n",
              "1                                           0.985001   \n",
              "2                                           0.996305   \n",
              "3                                           0.998994   \n",
              "4                                           0.998544   \n",
              "..                                               ...   \n",
              "84                                          0.994801   \n",
              "85                                          0.997411   \n",
              "86                                          0.997158   \n",
              "87                                          0.975457   \n",
              "88                                          0.989540   \n",
              "\n",
              "    imaging.radiomics.LoG_sigma_2_5_mm_2D_stats_skewness  \\\n",
              "0                                            1.276214      \n",
              "1                                           -0.609303      \n",
              "2                                            1.337320      \n",
              "3                                            1.634422      \n",
              "4                                           -0.027070      \n",
              "..                                                ...      \n",
              "84                                          -0.197691      \n",
              "85                                           0.740019      \n",
              "86                                           0.284997      \n",
              "87                                          -0.333105      \n",
              "88                                           0.413424      \n",
              "\n",
              "    imaging.radiomics.Shape_maxDiameter3D  \\\n",
              "0                                8.117881   \n",
              "1                                2.692582   \n",
              "2                                6.101639   \n",
              "3                                7.301370   \n",
              "4                                5.812917   \n",
              "..                                    ...   \n",
              "84                               4.652956   \n",
              "85                               4.884670   \n",
              "86                               6.148170   \n",
              "87                               1.456022   \n",
              "88                               3.844477   \n",
              "\n",
              "    imaging.radiomics.Wavelet_HHL_rlgl_highGrayLevelRunEmphasis  \\\n",
              "0                                          528.190668             \n",
              "1                                          238.297025             \n",
              "2                                          387.293931             \n",
              "3                                          575.726922             \n",
              "4                                          141.535047             \n",
              "..                                                ...             \n",
              "84                                         292.362321             \n",
              "85                                         633.674954             \n",
              "86                                         397.716278             \n",
              "87                                         209.463314             \n",
              "88                                         391.403830             \n",
              "\n",
              "    imaging.radiomics.LoG_sigma_2_mm_2D_stats_skewness  \\\n",
              "0                                            1.377666    \n",
              "1                                           -0.261814    \n",
              "2                                            1.642442    \n",
              "3                                            2.124678    \n",
              "4                                            0.030418    \n",
              "..                                                ...    \n",
              "84                                          -0.137764    \n",
              "85                                           0.868242    \n",
              "86                                           0.282261    \n",
              "87                                          -0.207556    \n",
              "88                                           0.718995    \n",
              "\n",
              "    imaging.radiomics.Shape_orig_maxDiameter3D  \\\n",
              "0                                     7.842583   \n",
              "1                                     2.564109   \n",
              "2                                     6.075626   \n",
              "3                                     7.324626   \n",
              "4                                     5.648626   \n",
              "..                                         ...   \n",
              "84                                    4.513822   \n",
              "85                                    4.988984   \n",
              "86                                    5.895267   \n",
              "87                                    1.288968   \n",
              "88                                    3.580043   \n",
              "\n",
              "    imaging.radiomics.RLGL_shortRunLowGrayLevEmpha  \\\n",
              "0                                         0.080077   \n",
              "1                                         0.002784   \n",
              "2                                         0.002377   \n",
              "3                                         0.001282   \n",
              "4                                         0.006155   \n",
              "..                                             ...   \n",
              "84                                        0.007232   \n",
              "85                                        0.000717   \n",
              "86                                        0.003366   \n",
              "87                                        0.014564   \n",
              "88                                        0.002921   \n",
              "\n",
              "    imaging.radiomics.Wavelet_HHH_stats_max  \\\n",
              "0                                  5.033597   \n",
              "1                                 13.847492   \n",
              "2                                 11.277334   \n",
              "3                                 52.501097   \n",
              "4                                  9.908203   \n",
              "..                                      ...   \n",
              "84                                 5.520468   \n",
              "85                                27.172842   \n",
              "86                                 6.910753   \n",
              "87                                 5.812448   \n",
              "88                                22.075433   \n",
              "\n",
              "    imaging.radiomics.Shape_surfVolRatio  \\\n",
              "0                               2.161228   \n",
              "1                               4.650681   \n",
              "2                               1.821394   \n",
              "3                               1.629311   \n",
              "4                               4.356977   \n",
              "..                                   ...   \n",
              "84                              3.338417   \n",
              "85                              3.856767   \n",
              "86                              1.891779   \n",
              "87                              6.644209   \n",
              "88                              3.286687   \n",
              "\n",
              "    imaging.radiomics.Wavelet_LHL_rlgl_shortRunEmphasis  \\\n",
              "0                                            0.723857     \n",
              "1                                            0.846800     \n",
              "2                                            0.793560     \n",
              "3                                            0.665120     \n",
              "4                                            0.712406     \n",
              "..                                                ...     \n",
              "84                                           0.829930     \n",
              "85                                           0.802908     \n",
              "86                                           0.831347     \n",
              "87                                           0.914793     \n",
              "88                                           0.882458     \n",
              "\n",
              "    imaging.radiomics.Wavelet_LHL_stats_entropy  \\\n",
              "0                                      2.598868   \n",
              "1                                      3.574580   \n",
              "2                                      3.021563   \n",
              "3                                      1.557500   \n",
              "4                                      1.854317   \n",
              "..                                          ...   \n",
              "84                                     3.121531   \n",
              "85                                     2.899945   \n",
              "86                                     3.438240   \n",
              "87                                     4.048202   \n",
              "88                                     3.687701   \n",
              "\n",
              "    imaging.radiomics.LoG_sigma_2_mm_3D_stats_skewness  \n",
              "0                                            1.347760   \n",
              "1                                           -0.439092   \n",
              "2                                            1.305215   \n",
              "3                                            1.754174   \n",
              "4                                            0.576383   \n",
              "..                                                ...   \n",
              "84                                          -0.160139   \n",
              "85                                           0.799099   \n",
              "86                                           0.483899   \n",
              "87                                          -0.110029   \n",
              "88                                           0.425510   \n",
              "\n",
              "[89 rows x 20 columns]"
            ],
            "text/html": [
              "\n",
              "  <div id=\"df-24bdd3ea-04c3-4251-9f7a-504a76613953\">\n",
              "    <div class=\"colab-df-container\">\n",
              "      <div>\n",
              "<style scoped>\n",
              "    .dataframe tbody tr th:only-of-type {\n",
              "        vertical-align: middle;\n",
              "    }\n",
              "\n",
              "    .dataframe tbody tr th {\n",
              "        vertical-align: top;\n",
              "    }\n",
              "\n",
              "    .dataframe thead th {\n",
              "        text-align: right;\n",
              "    }\n",
              "</style>\n",
              "<table border=\"1\" class=\"dataframe\">\n",
              "  <thead>\n",
              "    <tr style=\"text-align: right;\">\n",
              "      <th></th>\n",
              "      <th>imaging.radiomics.Shape_spherDisprop</th>\n",
              "      <th>imaging.radiomics.Shape_compactness2</th>\n",
              "      <th>imaging.radiomics.LoG_sigma_3_5_mm_2D_stats_skewness</th>\n",
              "      <th>imaging.radiomics.Shape_orig_sphericity</th>\n",
              "      <th>imaging.radiomics.LoG_sigma_3_mm_2D_stats_skewness</th>\n",
              "      <th>imaging.radiomics.Shape_sphericity</th>\n",
              "      <th>imaging.radiomics.Shape_orig_spherDisprop</th>\n",
              "      <th>imaging.radiomics.Shape_orig_compactness2</th>\n",
              "      <th>imaging.radiomics.Wavelet_LLL_glcm_invDiffmomnor</th>\n",
              "      <th>imaging.radiomics.LoG_sigma_2_5_mm_2D_stats_skewness</th>\n",
              "      <th>imaging.radiomics.Shape_maxDiameter3D</th>\n",
              "      <th>imaging.radiomics.Wavelet_HHL_rlgl_highGrayLevelRunEmphasis</th>\n",
              "      <th>imaging.radiomics.LoG_sigma_2_mm_2D_stats_skewness</th>\n",
              "      <th>imaging.radiomics.Shape_orig_maxDiameter3D</th>\n",
              "      <th>imaging.radiomics.RLGL_shortRunLowGrayLevEmpha</th>\n",
              "      <th>imaging.radiomics.Wavelet_HHH_stats_max</th>\n",
              "      <th>imaging.radiomics.Shape_surfVolRatio</th>\n",
              "      <th>imaging.radiomics.Wavelet_LHL_rlgl_shortRunEmphasis</th>\n",
              "      <th>imaging.radiomics.Wavelet_LHL_stats_entropy</th>\n",
              "      <th>imaging.radiomics.LoG_sigma_2_mm_3D_stats_skewness</th>\n",
              "    </tr>\n",
              "  </thead>\n",
              "  <tbody>\n",
              "    <tr>\n",
              "      <th>0</th>\n",
              "      <td>1.712505</td>\n",
              "      <td>0.199115</td>\n",
              "      <td>1.058955</td>\n",
              "      <td>0.587595</td>\n",
              "      <td>1.154539</td>\n",
              "      <td>0.583940</td>\n",
              "      <td>1.701854</td>\n",
              "      <td>0.202877</td>\n",
              "      <td>0.993989</td>\n",
              "      <td>1.276214</td>\n",
              "      <td>8.117881</td>\n",
              "      <td>528.190668</td>\n",
              "      <td>1.377666</td>\n",
              "      <td>7.842583</td>\n",
              "      <td>0.080077</td>\n",
              "      <td>5.033597</td>\n",
              "      <td>2.161228</td>\n",
              "      <td>0.723857</td>\n",
              "      <td>2.598868</td>\n",
              "      <td>1.347760</td>\n",
              "    </tr>\n",
              "    <tr>\n",
              "      <th>1</th>\n",
              "      <td>1.467591</td>\n",
              "      <td>0.316363</td>\n",
              "      <td>0.171213</td>\n",
              "      <td>0.731635</td>\n",
              "      <td>-0.244770</td>\n",
              "      <td>0.681389</td>\n",
              "      <td>1.366801</td>\n",
              "      <td>0.391637</td>\n",
              "      <td>0.985001</td>\n",
              "      <td>-0.609303</td>\n",
              "      <td>2.692582</td>\n",
              "      <td>238.297025</td>\n",
              "      <td>-0.261814</td>\n",
              "      <td>2.564109</td>\n",
              "      <td>0.002784</td>\n",
              "      <td>13.847492</td>\n",
              "      <td>4.650681</td>\n",
              "      <td>0.846800</td>\n",
              "      <td>3.574580</td>\n",
              "      <td>-0.439092</td>\n",
              "    </tr>\n",
              "    <tr>\n",
              "      <th>2</th>\n",
              "      <td>1.325284</td>\n",
              "      <td>0.429609</td>\n",
              "      <td>0.809813</td>\n",
              "      <td>0.758821</td>\n",
              "      <td>1.048718</td>\n",
              "      <td>0.754555</td>\n",
              "      <td>1.317834</td>\n",
              "      <td>0.436937</td>\n",
              "      <td>0.996305</td>\n",
              "      <td>1.337320</td>\n",
              "      <td>6.101639</td>\n",
              "      <td>387.293931</td>\n",
              "      <td>1.642442</td>\n",
              "      <td>6.075626</td>\n",
              "      <td>0.002377</td>\n",
              "      <td>11.277334</td>\n",
              "      <td>1.821394</td>\n",
              "      <td>0.793560</td>\n",
              "      <td>3.021563</td>\n",
              "      <td>1.305215</td>\n",
              "    </tr>\n",
              "    <tr>\n",
              "      <th>3</th>\n",
              "      <td>1.479163</td>\n",
              "      <td>0.308995</td>\n",
              "      <td>1.004323</td>\n",
              "      <td>0.675702</td>\n",
              "      <td>1.237680</td>\n",
              "      <td>0.676058</td>\n",
              "      <td>1.479943</td>\n",
              "      <td>0.308507</td>\n",
              "      <td>0.998994</td>\n",
              "      <td>1.634422</td>\n",
              "      <td>7.301370</td>\n",
              "      <td>575.726922</td>\n",
              "      <td>2.124678</td>\n",
              "      <td>7.324626</td>\n",
              "      <td>0.001282</td>\n",
              "      <td>52.501097</td>\n",
              "      <td>1.629311</td>\n",
              "      <td>0.665120</td>\n",
              "      <td>1.557500</td>\n",
              "      <td>1.754174</td>\n",
              "    </tr>\n",
              "    <tr>\n",
              "      <th>4</th>\n",
              "      <td>2.479723</td>\n",
              "      <td>0.065583</td>\n",
              "      <td>-0.062707</td>\n",
              "      <td>0.405299</td>\n",
              "      <td>-0.075405</td>\n",
              "      <td>0.403271</td>\n",
              "      <td>2.467313</td>\n",
              "      <td>0.066577</td>\n",
              "      <td>0.998544</td>\n",
              "      <td>-0.027070</td>\n",
              "      <td>5.812917</td>\n",
              "      <td>141.535047</td>\n",
              "      <td>0.030418</td>\n",
              "      <td>5.648626</td>\n",
              "      <td>0.006155</td>\n",
              "      <td>9.908203</td>\n",
              "      <td>4.356977</td>\n",
              "      <td>0.712406</td>\n",
              "      <td>1.854317</td>\n",
              "      <td>0.576383</td>\n",
              "    </tr>\n",
              "    <tr>\n",
              "      <th>...</th>\n",
              "      <td>...</td>\n",
              "      <td>...</td>\n",
              "      <td>...</td>\n",
              "      <td>...</td>\n",
              "      <td>...</td>\n",
              "      <td>...</td>\n",
              "      <td>...</td>\n",
              "      <td>...</td>\n",
              "      <td>...</td>\n",
              "      <td>...</td>\n",
              "      <td>...</td>\n",
              "      <td>...</td>\n",
              "      <td>...</td>\n",
              "      <td>...</td>\n",
              "      <td>...</td>\n",
              "      <td>...</td>\n",
              "      <td>...</td>\n",
              "      <td>...</td>\n",
              "      <td>...</td>\n",
              "      <td>...</td>\n",
              "    </tr>\n",
              "    <tr>\n",
              "      <th>84</th>\n",
              "      <td>1.614029</td>\n",
              "      <td>0.237830</td>\n",
              "      <td>-0.186940</td>\n",
              "      <td>0.624043</td>\n",
              "      <td>-0.190842</td>\n",
              "      <td>0.619567</td>\n",
              "      <td>1.602454</td>\n",
              "      <td>0.243021</td>\n",
              "      <td>0.994801</td>\n",
              "      <td>-0.197691</td>\n",
              "      <td>4.652956</td>\n",
              "      <td>292.362321</td>\n",
              "      <td>-0.137764</td>\n",
              "      <td>4.513822</td>\n",
              "      <td>0.007232</td>\n",
              "      <td>5.520468</td>\n",
              "      <td>3.338417</td>\n",
              "      <td>0.829930</td>\n",
              "      <td>3.121531</td>\n",
              "      <td>-0.160139</td>\n",
              "    </tr>\n",
              "    <tr>\n",
              "      <th>85</th>\n",
              "      <td>1.868664</td>\n",
              "      <td>0.153252</td>\n",
              "      <td>0.512895</td>\n",
              "      <td>0.511419</td>\n",
              "      <td>0.630210</td>\n",
              "      <td>0.535142</td>\n",
              "      <td>1.955343</td>\n",
              "      <td>0.133762</td>\n",
              "      <td>0.997411</td>\n",
              "      <td>0.740019</td>\n",
              "      <td>4.884670</td>\n",
              "      <td>633.674954</td>\n",
              "      <td>0.868242</td>\n",
              "      <td>4.988984</td>\n",
              "      <td>0.000717</td>\n",
              "      <td>27.172842</td>\n",
              "      <td>3.856767</td>\n",
              "      <td>0.802908</td>\n",
              "      <td>2.899945</td>\n",
              "      <td>0.799099</td>\n",
              "    </tr>\n",
              "    <tr>\n",
              "      <th>86</th>\n",
              "      <td>1.433103</td>\n",
              "      <td>0.339756</td>\n",
              "      <td>0.280741</td>\n",
              "      <td>0.752705</td>\n",
              "      <td>0.307867</td>\n",
              "      <td>0.697786</td>\n",
              "      <td>1.328542</td>\n",
              "      <td>0.426456</td>\n",
              "      <td>0.997158</td>\n",
              "      <td>0.284997</td>\n",
              "      <td>6.148170</td>\n",
              "      <td>397.716278</td>\n",
              "      <td>0.282261</td>\n",
              "      <td>5.895267</td>\n",
              "      <td>0.003366</td>\n",
              "      <td>6.910753</td>\n",
              "      <td>1.891779</td>\n",
              "      <td>0.831347</td>\n",
              "      <td>3.438240</td>\n",
              "      <td>0.483899</td>\n",
              "    </tr>\n",
              "    <tr>\n",
              "      <th>87</th>\n",
              "      <td>1.190747</td>\n",
              "      <td>0.592300</td>\n",
              "      <td>-0.367213</td>\n",
              "      <td>0.835434</td>\n",
              "      <td>-0.360876</td>\n",
              "      <td>0.839809</td>\n",
              "      <td>1.196983</td>\n",
              "      <td>0.583091</td>\n",
              "      <td>0.975457</td>\n",
              "      <td>-0.333105</td>\n",
              "      <td>1.456022</td>\n",
              "      <td>209.463314</td>\n",
              "      <td>-0.207556</td>\n",
              "      <td>1.288968</td>\n",
              "      <td>0.014564</td>\n",
              "      <td>5.812448</td>\n",
              "      <td>6.644209</td>\n",
              "      <td>0.914793</td>\n",
              "      <td>4.048202</td>\n",
              "      <td>-0.110029</td>\n",
              "    </tr>\n",
              "    <tr>\n",
              "      <th>88</th>\n",
              "      <td>1.545615</td>\n",
              "      <td>0.270830</td>\n",
              "      <td>0.118159</td>\n",
              "      <td>0.638238</td>\n",
              "      <td>0.216279</td>\n",
              "      <td>0.646992</td>\n",
              "      <td>1.566814</td>\n",
              "      <td>0.259984</td>\n",
              "      <td>0.989540</td>\n",
              "      <td>0.413424</td>\n",
              "      <td>3.844477</td>\n",
              "      <td>391.403830</td>\n",
              "      <td>0.718995</td>\n",
              "      <td>3.580043</td>\n",
              "      <td>0.002921</td>\n",
              "      <td>22.075433</td>\n",
              "      <td>3.286687</td>\n",
              "      <td>0.882458</td>\n",
              "      <td>3.687701</td>\n",
              "      <td>0.425510</td>\n",
              "    </tr>\n",
              "  </tbody>\n",
              "</table>\n",
              "<p>89 rows × 20 columns</p>\n",
              "</div>\n",
              "      <button class=\"colab-df-convert\" onclick=\"convertToInteractive('df-24bdd3ea-04c3-4251-9f7a-504a76613953')\"\n",
              "              title=\"Convert this dataframe to an interactive table.\"\n",
              "              style=\"display:none;\">\n",
              "        \n",
              "  <svg xmlns=\"http://www.w3.org/2000/svg\" height=\"24px\"viewBox=\"0 0 24 24\"\n",
              "       width=\"24px\">\n",
              "    <path d=\"M0 0h24v24H0V0z\" fill=\"none\"/>\n",
              "    <path d=\"M18.56 5.44l.94 2.06.94-2.06 2.06-.94-2.06-.94-.94-2.06-.94 2.06-2.06.94zm-11 1L8.5 8.5l.94-2.06 2.06-.94-2.06-.94L8.5 2.5l-.94 2.06-2.06.94zm10 10l.94 2.06.94-2.06 2.06-.94-2.06-.94-.94-2.06-.94 2.06-2.06.94z\"/><path d=\"M17.41 7.96l-1.37-1.37c-.4-.4-.92-.59-1.43-.59-.52 0-1.04.2-1.43.59L10.3 9.45l-7.72 7.72c-.78.78-.78 2.05 0 2.83L4 21.41c.39.39.9.59 1.41.59.51 0 1.02-.2 1.41-.59l7.78-7.78 2.81-2.81c.8-.78.8-2.07 0-2.86zM5.41 20L4 18.59l7.72-7.72 1.47 1.35L5.41 20z\"/>\n",
              "  </svg>\n",
              "      </button>\n",
              "      \n",
              "  <style>\n",
              "    .colab-df-container {\n",
              "      display:flex;\n",
              "      flex-wrap:wrap;\n",
              "      gap: 12px;\n",
              "    }\n",
              "\n",
              "    .colab-df-convert {\n",
              "      background-color: #E8F0FE;\n",
              "      border: none;\n",
              "      border-radius: 50%;\n",
              "      cursor: pointer;\n",
              "      display: none;\n",
              "      fill: #1967D2;\n",
              "      height: 32px;\n",
              "      padding: 0 0 0 0;\n",
              "      width: 32px;\n",
              "    }\n",
              "\n",
              "    .colab-df-convert:hover {\n",
              "      background-color: #E2EBFA;\n",
              "      box-shadow: 0px 1px 2px rgba(60, 64, 67, 0.3), 0px 1px 3px 1px rgba(60, 64, 67, 0.15);\n",
              "      fill: #174EA6;\n",
              "    }\n",
              "\n",
              "    [theme=dark] .colab-df-convert {\n",
              "      background-color: #3B4455;\n",
              "      fill: #D2E3FC;\n",
              "    }\n",
              "\n",
              "    [theme=dark] .colab-df-convert:hover {\n",
              "      background-color: #434B5C;\n",
              "      box-shadow: 0px 1px 3px 1px rgba(0, 0, 0, 0.15);\n",
              "      filter: drop-shadow(0px 1px 2px rgba(0, 0, 0, 0.3));\n",
              "      fill: #FFFFFF;\n",
              "    }\n",
              "  </style>\n",
              "\n",
              "      <script>\n",
              "        const buttonEl =\n",
              "          document.querySelector('#df-24bdd3ea-04c3-4251-9f7a-504a76613953 button.colab-df-convert');\n",
              "        buttonEl.style.display =\n",
              "          google.colab.kernel.accessAllowed ? 'block' : 'none';\n",
              "\n",
              "        async function convertToInteractive(key) {\n",
              "          const element = document.querySelector('#df-24bdd3ea-04c3-4251-9f7a-504a76613953');\n",
              "          const dataTable =\n",
              "            await google.colab.kernel.invokeFunction('convertToInteractive',\n",
              "                                                     [key], {});\n",
              "          if (!dataTable) return;\n",
              "\n",
              "          const docLinkHtml = 'Like what you see? Visit the ' +\n",
              "            '<a target=\"_blank\" href=https://colab.research.google.com/notebooks/data_table.ipynb>data table notebook</a>'\n",
              "            + ' to learn more about interactive tables.';\n",
              "          element.innerHTML = '';\n",
              "          dataTable['output_type'] = 'display_data';\n",
              "          await google.colab.output.renderOutput(dataTable, element);\n",
              "          const docLink = document.createElement('div');\n",
              "          docLink.innerHTML = docLinkHtml;\n",
              "          element.appendChild(docLink);\n",
              "        }\n",
              "      </script>\n",
              "    </div>\n",
              "  </div>\n",
              "  "
            ]
          },
          "metadata": {},
          "execution_count": 209
        }
      ]
    },
    {
      "cell_type": "code",
      "source": [
        "from sklearn.model_selection import train_test_split\n",
        "X_train_10, X_test_10, y_train_10, y_test_10 = train_test_split(data_new_10features_X, data_y_trans, train_size = 0.8)"
      ],
      "metadata": {
        "id": "QucBOM6OWd9k"
      },
      "execution_count": 210,
      "outputs": []
    },
    {
      "cell_type": "code",
      "source": [
        "from sklearn.preprocessing import StandardScaler \n",
        "ss_10 = StandardScaler()\n",
        "X_train_std_10 = ss_10.fit_transform(X_train_10)\n",
        "X_test_std_10 = ss_10.fit_transform(X_test_10)"
      ],
      "metadata": {
        "id": "iUlTx0ZXWpeQ"
      },
      "execution_count": 211,
      "outputs": []
    },
    {
      "cell_type": "markdown",
      "source": [
        "Random forest"
      ],
      "metadata": {
        "id": "Vynz9IKtXsC6"
      }
    },
    {
      "cell_type": "code",
      "source": [
        "from sklearn.ensemble import RandomForestClassifier\n",
        "rf = RandomForestClassifier()\n",
        "rf.fit(X_train_std_10, y_train_10)"
      ],
      "metadata": {
        "colab": {
          "base_uri": "https://localhost:8080/"
        },
        "id": "2Pi0bqiIW7xY",
        "outputId": "7e0445b1-d16c-4663-c90f-c8486d379f96"
      },
      "execution_count": 212,
      "outputs": [
        {
          "output_type": "execute_result",
          "data": {
            "text/plain": [
              "RandomForestClassifier()"
            ]
          },
          "metadata": {},
          "execution_count": 212
        }
      ]
    },
    {
      "cell_type": "code",
      "source": [
        "rf_y_pred = rf.predict(X_test_std_10)"
      ],
      "metadata": {
        "id": "Ib7MG-cpXAfc"
      },
      "execution_count": 213,
      "outputs": []
    },
    {
      "cell_type": "code",
      "source": [
        "from sklearn.metrics import accuracy_score "
      ],
      "metadata": {
        "id": "T4LN617ZXGzI"
      },
      "execution_count": 214,
      "outputs": []
    },
    {
      "cell_type": "code",
      "source": [
        "acc_score = accuracy_score(y_test_10, rf_y_pred)\n",
        "print(\"Accuracy Score for Random_Forest: \\n\", acc_score*100)"
      ],
      "metadata": {
        "colab": {
          "base_uri": "https://localhost:8080/"
        },
        "id": "KskOgKH3XI4h",
        "outputId": "d5c0444b-cb77-47e7-aab2-11d8f42b4b90"
      },
      "execution_count": 215,
      "outputs": [
        {
          "output_type": "stream",
          "name": "stdout",
          "text": [
            "Accuracy Score for Random_Forest: \n",
            " 72.22222222222221\n"
          ]
        }
      ]
    },
    {
      "cell_type": "markdown",
      "source": [
        "Decision tree"
      ],
      "metadata": {
        "id": "r1otUpm9Xw5M"
      }
    },
    {
      "cell_type": "code",
      "source": [
        "from sklearn.tree import DecisionTreeClassifier\n",
        "ml_dec = DecisionTreeClassifier()"
      ],
      "metadata": {
        "id": "bT8LrISQX1Fi"
      },
      "execution_count": 216,
      "outputs": []
    },
    {
      "cell_type": "code",
      "source": [
        "ml_dec.fit(X_train_std_10, y_train_10)"
      ],
      "metadata": {
        "colab": {
          "base_uri": "https://localhost:8080/"
        },
        "id": "VGxqz2_AX35E",
        "outputId": "39f0b67a-fea7-455d-958f-dba81a014a9f"
      },
      "execution_count": 217,
      "outputs": [
        {
          "output_type": "execute_result",
          "data": {
            "text/plain": [
              "DecisionTreeClassifier()"
            ]
          },
          "metadata": {},
          "execution_count": 217
        }
      ]
    },
    {
      "cell_type": "code",
      "source": [
        "res_dec=ml_dec.predict(X_test_std_10)"
      ],
      "metadata": {
        "id": "vqyolgCTX7v8"
      },
      "execution_count": 218,
      "outputs": []
    },
    {
      "cell_type": "code",
      "source": [
        "accuracy_1=accuracy_score(y_test_10,res_dec)\n",
        "print(\"Decision tree :\",accuracy_1*100)"
      ],
      "metadata": {
        "colab": {
          "base_uri": "https://localhost:8080/"
        },
        "id": "QAJ_NZ2XX-SK",
        "outputId": "dfd722e0-54a2-4622-cc54-734333c3af03"
      },
      "execution_count": 219,
      "outputs": [
        {
          "output_type": "stream",
          "name": "stdout",
          "text": [
            "Decision tree : 61.111111111111114\n"
          ]
        }
      ]
    },
    {
      "cell_type": "markdown",
      "source": [
        "XG Boost"
      ],
      "metadata": {
        "id": "ZRpn4Z1KYB6D"
      }
    },
    {
      "cell_type": "code",
      "source": [
        "from sklearn.ensemble import GradientBoostingClassifier"
      ],
      "metadata": {
        "id": "zyd8Kkh7YEoL"
      },
      "execution_count": 220,
      "outputs": []
    },
    {
      "cell_type": "code",
      "source": [
        "gradient_boost = GradientBoostingClassifier()\n",
        "gradient_boost.fit(X_train_std_10, y_train_10)"
      ],
      "metadata": {
        "colab": {
          "base_uri": "https://localhost:8080/"
        },
        "id": "TDTYJM99YHH5",
        "outputId": "1e35084e-1693-48a5-d3b8-dfae2af50ffd"
      },
      "execution_count": 221,
      "outputs": [
        {
          "output_type": "execute_result",
          "data": {
            "text/plain": [
              "GradientBoostingClassifier()"
            ]
          },
          "metadata": {},
          "execution_count": 221
        }
      ]
    },
    {
      "cell_type": "code",
      "source": [
        "res_xg=gradient_boost.predict(X_test_std_10)"
      ],
      "metadata": {
        "id": "Vm6WlDmiYK8w"
      },
      "execution_count": 222,
      "outputs": []
    },
    {
      "cell_type": "code",
      "source": [
        "acc_score_xg = accuracy_score(y_test_10, res_xg)\n",
        "print(\"Accuracy Score for GradientBoosting: \\n\", acc_score_xg*100)"
      ],
      "metadata": {
        "colab": {
          "base_uri": "https://localhost:8080/"
        },
        "id": "DOlORhcgYN2G",
        "outputId": "96de1db5-ef94-4307-f23c-feccf0ef1c21"
      },
      "execution_count": 223,
      "outputs": [
        {
          "output_type": "stream",
          "name": "stdout",
          "text": [
            "Accuracy Score for GradientBoosting: \n",
            " 55.55555555555556\n"
          ]
        }
      ]
    },
    {
      "cell_type": "markdown",
      "source": [
        "Naive Bayes"
      ],
      "metadata": {
        "id": "kWxVBps4iStD"
      }
    },
    {
      "cell_type": "code",
      "source": [
        "from sklearn.naive_bayes import GaussianNB "
      ],
      "metadata": {
        "id": "tBIMYgzpiVo9"
      },
      "execution_count": 224,
      "outputs": []
    },
    {
      "cell_type": "code",
      "source": [
        "gnb = GaussianNB()\n",
        "gnb.fit(X_train_std_10, y_train_10)\n",
        "gnb_y_pred = gnb.predict(X_test_std_10)"
      ],
      "metadata": {
        "id": "kKiOkn2WiX6f"
      },
      "execution_count": 225,
      "outputs": []
    },
    {
      "cell_type": "code",
      "source": [
        "acc_score_gnb = accuracy_score(y_test_10, gnb_y_pred)\n",
        "print(\"Accuracy Score for Naive: \\n\", acc_score_gnb*100)"
      ],
      "metadata": {
        "colab": {
          "base_uri": "https://localhost:8080/"
        },
        "id": "d8g0Dxzkij_X",
        "outputId": "2ec6c442-f16d-4ba5-fd12-1c99e352798a"
      },
      "execution_count": 226,
      "outputs": [
        {
          "output_type": "stream",
          "name": "stdout",
          "text": [
            "Accuracy Score for Naive: \n",
            " 61.111111111111114\n"
          ]
        }
      ]
    },
    {
      "cell_type": "markdown",
      "source": [
        "SVM"
      ],
      "metadata": {
        "id": "6NpOM3JyiwGF"
      }
    },
    {
      "cell_type": "code",
      "source": [
        "from sklearn.svm import LinearSVC"
      ],
      "metadata": {
        "id": "Liuz66_lixLX"
      },
      "execution_count": 231,
      "outputs": []
    },
    {
      "cell_type": "code",
      "source": [
        "svm = LinearSVC()\n",
        "svm.fit(X_train_std_10, y_train_10)"
      ],
      "metadata": {
        "colab": {
          "base_uri": "https://localhost:8080/"
        },
        "id": "ZvoEpIejiyEm",
        "outputId": "cd86ce69-1486-4fcb-f4c9-ce9816e4ee63"
      },
      "execution_count": 233,
      "outputs": [
        {
          "output_type": "stream",
          "name": "stderr",
          "text": [
            "/usr/local/lib/python3.7/dist-packages/sklearn/svm/_base.py:1208: ConvergenceWarning: Liblinear failed to converge, increase the number of iterations.\n",
            "  ConvergenceWarning,\n"
          ]
        },
        {
          "output_type": "execute_result",
          "data": {
            "text/plain": [
              "LinearSVC()"
            ]
          },
          "metadata": {},
          "execution_count": 233
        }
      ]
    },
    {
      "cell_type": "code",
      "source": [
        "y_pred_svm = svm.predict(X_test_std_10) \n",
        "svm.score(X_test_std_10, y_test_10)"
      ],
      "metadata": {
        "colab": {
          "base_uri": "https://localhost:8080/"
        },
        "id": "dZMlNT5ai2vs",
        "outputId": "2f5c0c01-a28a-40ef-b6a1-290f00faa7dd"
      },
      "execution_count": 234,
      "outputs": [
        {
          "output_type": "execute_result",
          "data": {
            "text/plain": [
              "0.3888888888888889"
            ]
          },
          "metadata": {},
          "execution_count": 234
        }
      ]
    },
    {
      "cell_type": "code",
      "source": [
        "acc_score_svm = accuracy_score(y_test_10, y_pred_svm)\n",
        "print(\"Accuracy Score for SVM: \\n\", acc_score_svm*100)"
      ],
      "metadata": {
        "colab": {
          "base_uri": "https://localhost:8080/"
        },
        "id": "tnJOtAKgi_fM",
        "outputId": "7bf9188e-3d83-4b42-bea1-06760967cee1"
      },
      "execution_count": 235,
      "outputs": [
        {
          "output_type": "stream",
          "name": "stdout",
          "text": [
            "Accuracy Score for SVM: \n",
            " 38.88888888888889\n"
          ]
        }
      ]
    }
  ]
}