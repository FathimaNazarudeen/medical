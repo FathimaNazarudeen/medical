{
  "nbformat": 4,
  "nbformat_minor": 0,
  "metadata": {
    "colab": {
      "provenance": [],
      "include_colab_link": true
    },
    "kernelspec": {
      "name": "python3",
      "display_name": "Python 3"
    },
    "language_info": {
      "name": "python"
    }
  },
  "cells": [
    {
      "cell_type": "markdown",
      "metadata": {
        "id": "view-in-github",
        "colab_type": "text"
      },
      "source": [
        "<a href=\"https://colab.research.google.com/github/FathimaNazarudeen/medical/blob/main/6.ipynb\" target=\"_parent\"><img src=\"https://colab.research.google.com/assets/colab-badge.svg\" alt=\"Open In Colab\"/></a>"
      ]
    },
    {
      "cell_type": "code",
      "execution_count": 2624,
      "metadata": {
        "id": "nvSzPb7CQl_T"
      },
      "outputs": [],
      "source": [
        "import pandas as pd \n",
        "import numpy as np"
      ]
    },
    {
      "cell_type": "code",
      "source": [
        "data=pd.read_csv(\"/content/thirddatasetdata2.csv\")"
      ],
      "metadata": {
        "id": "xAxdXsuAQnjF"
      },
      "execution_count": 2625,
      "outputs": []
    },
    {
      "cell_type": "code",
      "source": [
        "data['Label'].value_counts()"
      ],
      "metadata": {
        "colab": {
          "base_uri": "https://localhost:8080/"
        },
        "id": "rLu6oK0zQ-xj",
        "outputId": "5be1595c-492a-426d-f897-99dc6c4a4901"
      },
      "execution_count": 2626,
      "outputs": [
        {
          "output_type": "execute_result",
          "data": {
            "text/plain": [
              "adeno       42\n",
              "squamous    35\n",
              "other       12\n",
              "Name: Label, dtype: int64"
            ]
          },
          "metadata": {},
          "execution_count": 2626
        }
      ]
    },
    {
      "cell_type": "code",
      "source": [
        "data.columns"
      ],
      "metadata": {
        "colab": {
          "base_uri": "https://localhost:8080/"
        },
        "id": "RChi7Z1iREq3",
        "outputId": "0e002701-8e0c-4ac8-91be-589ef2e4c9cc"
      },
      "execution_count": 2627,
      "outputs": [
        {
          "output_type": "execute_result",
          "data": {
            "text/plain": [
              "Index(['ID', 'imaging.radiomics.GLCM_autocorr',\n",
              "       'imaging.radiomics.GLCM_clusProm', 'imaging.radiomics.GLCM_clusShade',\n",
              "       'imaging.radiomics.GLCM_clusTend', 'imaging.radiomics.GLCM_contrast',\n",
              "       'imaging.radiomics.GLCM_correl1', 'imaging.radiomics.GLCM_diffEntro',\n",
              "       'imaging.radiomics.GLCM_dissimilar', 'imaging.radiomics.GLCM_energy',\n",
              "       ...\n",
              "       'imaging.radiomics.Wavelet_LLL_stats_median',\n",
              "       'imaging.radiomics.Wavelet_LLL_stats_min',\n",
              "       'imaging.radiomics.Wavelet_LLL_stats_range',\n",
              "       'imaging.radiomics.Wavelet_LLL_stats_rms',\n",
              "       'imaging.radiomics.Wavelet_LLL_stats_skewness',\n",
              "       'imaging.radiomics.Wavelet_LLL_stats_std',\n",
              "       'imaging.radiomics.Wavelet_LLL_stats_totalenergy',\n",
              "       'imaging.radiomics.Wavelet_LLL_stats_uniformity',\n",
              "       'imaging.radiomics.Wavelet_LLL_stats_var', 'Label'],\n",
              "      dtype='object', length=652)"
            ]
          },
          "metadata": {},
          "execution_count": 2627
        }
      ]
    },
    {
      "cell_type": "markdown",
      "source": [
        "**DATA PREPROCESSING**"
      ],
      "metadata": {
        "id": "sLqdVTM9dv9F"
      }
    },
    {
      "cell_type": "code",
      "source": [
        "data_real = data.replace(np.inf, np.nan)"
      ],
      "metadata": {
        "id": "g7ChMepFRHsr"
      },
      "execution_count": 2628,
      "outputs": []
    },
    {
      "cell_type": "code",
      "source": [
        "data_real.isnull().sum().sum()"
      ],
      "metadata": {
        "colab": {
          "base_uri": "https://localhost:8080/"
        },
        "id": "h4sEgrHtRBJ2",
        "outputId": "10bba813-26ab-42d9-b5f3-a23727b5c449"
      },
      "execution_count": 2629,
      "outputs": [
        {
          "output_type": "execute_result",
          "data": {
            "text/plain": [
              "0"
            ]
          },
          "metadata": {},
          "execution_count": 2629
        }
      ]
    },
    {
      "cell_type": "code",
      "source": [
        "data_df = data_real.dropna(axis=0)"
      ],
      "metadata": {
        "id": "xxMvZgRvRobm"
      },
      "execution_count": 2630,
      "outputs": []
    },
    {
      "cell_type": "code",
      "source": [
        "data_df.isnull().sum().sum()"
      ],
      "metadata": {
        "colab": {
          "base_uri": "https://localhost:8080/"
        },
        "id": "azORVdTuRtHX",
        "outputId": "7818ba8a-629e-43d4-ae77-5dc783f28823"
      },
      "execution_count": 2631,
      "outputs": [
        {
          "output_type": "execute_result",
          "data": {
            "text/plain": [
              "0"
            ]
          },
          "metadata": {},
          "execution_count": 2631
        }
      ]
    },
    {
      "cell_type": "code",
      "source": [
        "data_df"
      ],
      "metadata": {
        "colab": {
          "base_uri": "https://localhost:8080/",
          "height": 488
        },
        "id": "-kSZ5EHHRtJ1",
        "outputId": "b06ef8ab-f4d9-44aa-d542-bd5c7b49b1db"
      },
      "execution_count": 2632,
      "outputs": [
        {
          "output_type": "execute_result",
          "data": {
            "text/plain": [
              "    ID  imaging.radiomics.GLCM_autocorr  imaging.radiomics.GLCM_clusProm  \\\n",
              "0    1                      1015.604377                     1.728441e+06   \n",
              "1    2                       921.867862                     6.464357e+04   \n",
              "2    3                       632.293653                     2.927069e+04   \n",
              "3    4                       768.887796                     1.016742e+04   \n",
              "4    5                       131.834572                     3.611580e+01   \n",
              "..  ..                              ...                              ...   \n",
              "84  85                       603.054548                     3.314669e+05   \n",
              "85  86                      1726.367922                     4.040858e+04   \n",
              "86  87                       473.814975                     2.669862e+04   \n",
              "87  88                       404.275573                     2.867433e+04   \n",
              "88  89                       681.259465                     6.136644e+04   \n",
              "\n",
              "    imaging.radiomics.GLCM_clusShade  imaging.radiomics.GLCM_clusTend  \\\n",
              "0                      -16203.786420                       995.351478   \n",
              "1                       -1855.872326                       111.303433   \n",
              "2                       -1068.132061                        84.292617   \n",
              "3                        -348.622125                        29.055416   \n",
              "4                          -2.013109                         2.503468   \n",
              "..                               ...                              ...   \n",
              "84                       1834.022542                       488.061895   \n",
              "85                       -874.026124                        31.988221   \n",
              "86                       -868.125572                        98.751127   \n",
              "87                       -707.032249                        93.849341   \n",
              "88                      -1530.954192                       134.468888   \n",
              "\n",
              "    imaging.radiomics.GLCM_contrast  imaging.radiomics.GLCM_correl1  \\\n",
              "0                         22.221434                        0.957409   \n",
              "1                         24.812007                        0.630987   \n",
              "2                          7.278293                        0.839872   \n",
              "3                          6.021883                        0.658310   \n",
              "4                          1.033765                        0.411724   \n",
              "..                              ...                             ...   \n",
              "84                         9.442247                        0.967033   \n",
              "85                         7.225593                        0.632259   \n",
              "86                         5.111226                        0.902248   \n",
              "87                        22.308018                        0.618446   \n",
              "88                        21.364108                        0.725157   \n",
              "\n",
              "    imaging.radiomics.GLCM_diffEntro  imaging.radiomics.GLCM_dissimilar  \\\n",
              "0                           2.037688                           3.085783   \n",
              "1                           2.203000                           3.070020   \n",
              "2                           1.714220                           1.639064   \n",
              "3                           1.641467                           1.628996   \n",
              "4                           1.005289                           0.695758   \n",
              "..                               ...                                ...   \n",
              "84                          1.807970                           1.934324   \n",
              "85                          1.551758                           1.450927   \n",
              "86                          1.633828                           1.522530   \n",
              "87                          2.266238                           3.473518   \n",
              "88                          2.253468                           3.234712   \n",
              "\n",
              "    imaging.radiomics.GLCM_energy  ...  \\\n",
              "0                        0.017533  ...   \n",
              "1                        0.026890  ...   \n",
              "2                        0.054382  ...   \n",
              "3                        0.029925  ...   \n",
              "4                        0.118367  ...   \n",
              "..                            ...  ...   \n",
              "84                       0.024847  ...   \n",
              "85                       0.053324  ...   \n",
              "86                       0.027358  ...   \n",
              "87                       0.008502  ...   \n",
              "88                       0.007381  ...   \n",
              "\n",
              "    imaging.radiomics.Wavelet_LLL_stats_median  \\\n",
              "0                                  1415.663637   \n",
              "1                                  2761.175191   \n",
              "2                                  2860.668702   \n",
              "3                                  2931.331097   \n",
              "4                                  3033.154546   \n",
              "..                                         ...   \n",
              "84                                 4460.909095   \n",
              "85                                 5894.908307   \n",
              "86                                 2636.621869   \n",
              "87                                 2825.492940   \n",
              "88                                 2771.040671   \n",
              "\n",
              "    imaging.radiomics.Wavelet_LLL_stats_min  \\\n",
              "0                               -363.889654   \n",
              "1                                627.327497   \n",
              "2                               1064.846734   \n",
              "3                               1090.306774   \n",
              "4                               2305.169603   \n",
              "..                                      ...   \n",
              "84                              3251.188474   \n",
              "85                              3004.315216   \n",
              "86                              1108.310171   \n",
              "87                              1492.839890   \n",
              "88                               988.253227   \n",
              "\n",
              "    imaging.radiomics.Wavelet_LLL_stats_range  \\\n",
              "0                                 3646.793034   \n",
              "1                                 2591.028927   \n",
              "2                                 2858.450410   \n",
              "3                                 4341.408441   \n",
              "4                                 1481.835287   \n",
              "..                                        ...   \n",
              "84                                2664.350676   \n",
              "85                                3444.537968   \n",
              "86                                2736.174517   \n",
              "87                                1983.158830   \n",
              "88                                2592.351205   \n",
              "\n",
              "    imaging.radiomics.Wavelet_LLL_stats_rms  \\\n",
              "0                               1928.917633   \n",
              "1                               2583.771232   \n",
              "2                               2695.236066   \n",
              "3                               2900.917177   \n",
              "4                               3025.285718   \n",
              "..                                      ...   \n",
              "84                              4833.234698   \n",
              "85                              5846.312571   \n",
              "86                              2525.870412   \n",
              "87                              2777.899166   \n",
              "88                              2666.177912   \n",
              "\n",
              "    imaging.radiomics.Wavelet_LLL_stats_skewness  \\\n",
              "0                                       0.031798   \n",
              "1                                      -1.232774   \n",
              "2                                      -1.243821   \n",
              "3                                      -2.325833   \n",
              "4                                      -1.020618   \n",
              "..                                           ...   \n",
              "84                                      0.147291   \n",
              "85                                     -4.068370   \n",
              "86                                     -0.821885   \n",
              "87                                     -0.622212   \n",
              "88                                     -0.904100   \n",
              "\n",
              "    imaging.radiomics.Wavelet_LLL_stats_std  \\\n",
              "0                               1304.624058   \n",
              "1                                497.655023   \n",
              "2                                359.149777   \n",
              "3                                218.932372   \n",
              "4                                 69.813296   \n",
              "..                                      ...   \n",
              "84                               792.489235   \n",
              "85                               267.867124   \n",
              "86                               373.004255   \n",
              "87                               429.690726   \n",
              "88                               465.168673   \n",
              "\n",
              "    imaging.radiomics.Wavelet_LLL_stats_totalenergy  \\\n",
              "0                                      2.093502e+08   \n",
              "1                                      2.372606e+07   \n",
              "2                                      3.164909e+08   \n",
              "3                                      7.121297e+08   \n",
              "4                                      1.908266e+08   \n",
              "..                                              ...   \n",
              "84                                     2.985662e+08   \n",
              "85                                     4.396834e+08   \n",
              "86                                     3.136865e+08   \n",
              "87                                     5.023587e+09   \n",
              "88                                     8.361023e+07   \n",
              "\n",
              "    imaging.radiomics.Wavelet_LLL_stats_uniformity  \\\n",
              "0                                         0.047220   \n",
              "1                                         0.091541   \n",
              "2                                         0.144030   \n",
              "3                                         0.240815   \n",
              "4                                         0.360381   \n",
              "..                                             ...   \n",
              "84                                        0.091199   \n",
              "85                                        0.189860   \n",
              "86                                        0.095700   \n",
              "87                                        0.049898   \n",
              "88                                        0.056554   \n",
              "\n",
              "    imaging.radiomics.Wavelet_LLL_stats_var     Label  \n",
              "0                              1.702044e+09  squamous  \n",
              "1                              2.476605e+08  squamous  \n",
              "2                              1.289886e+05     adeno  \n",
              "3                              4.793138e+04  squamous  \n",
              "4                              4.873896e+03     adeno  \n",
              "..                                      ...       ...  \n",
              "84                             6.280392e+05  squamous  \n",
              "85                             7.175280e+04  squamous  \n",
              "86                             1.391322e+05  squamous  \n",
              "87                             1.846341e+05     other  \n",
              "88                             2.163819e+05     adeno  \n",
              "\n",
              "[89 rows x 652 columns]"
            ],
            "text/html": [
              "\n",
              "  <div id=\"df-3a499060-8a3b-4b69-8bba-19b7fbd6d4c8\">\n",
              "    <div class=\"colab-df-container\">\n",
              "      <div>\n",
              "<style scoped>\n",
              "    .dataframe tbody tr th:only-of-type {\n",
              "        vertical-align: middle;\n",
              "    }\n",
              "\n",
              "    .dataframe tbody tr th {\n",
              "        vertical-align: top;\n",
              "    }\n",
              "\n",
              "    .dataframe thead th {\n",
              "        text-align: right;\n",
              "    }\n",
              "</style>\n",
              "<table border=\"1\" class=\"dataframe\">\n",
              "  <thead>\n",
              "    <tr style=\"text-align: right;\">\n",
              "      <th></th>\n",
              "      <th>ID</th>\n",
              "      <th>imaging.radiomics.GLCM_autocorr</th>\n",
              "      <th>imaging.radiomics.GLCM_clusProm</th>\n",
              "      <th>imaging.radiomics.GLCM_clusShade</th>\n",
              "      <th>imaging.radiomics.GLCM_clusTend</th>\n",
              "      <th>imaging.radiomics.GLCM_contrast</th>\n",
              "      <th>imaging.radiomics.GLCM_correl1</th>\n",
              "      <th>imaging.radiomics.GLCM_diffEntro</th>\n",
              "      <th>imaging.radiomics.GLCM_dissimilar</th>\n",
              "      <th>imaging.radiomics.GLCM_energy</th>\n",
              "      <th>...</th>\n",
              "      <th>imaging.radiomics.Wavelet_LLL_stats_median</th>\n",
              "      <th>imaging.radiomics.Wavelet_LLL_stats_min</th>\n",
              "      <th>imaging.radiomics.Wavelet_LLL_stats_range</th>\n",
              "      <th>imaging.radiomics.Wavelet_LLL_stats_rms</th>\n",
              "      <th>imaging.radiomics.Wavelet_LLL_stats_skewness</th>\n",
              "      <th>imaging.radiomics.Wavelet_LLL_stats_std</th>\n",
              "      <th>imaging.radiomics.Wavelet_LLL_stats_totalenergy</th>\n",
              "      <th>imaging.radiomics.Wavelet_LLL_stats_uniformity</th>\n",
              "      <th>imaging.radiomics.Wavelet_LLL_stats_var</th>\n",
              "      <th>Label</th>\n",
              "    </tr>\n",
              "  </thead>\n",
              "  <tbody>\n",
              "    <tr>\n",
              "      <th>0</th>\n",
              "      <td>1</td>\n",
              "      <td>1015.604377</td>\n",
              "      <td>1.728441e+06</td>\n",
              "      <td>-16203.786420</td>\n",
              "      <td>995.351478</td>\n",
              "      <td>22.221434</td>\n",
              "      <td>0.957409</td>\n",
              "      <td>2.037688</td>\n",
              "      <td>3.085783</td>\n",
              "      <td>0.017533</td>\n",
              "      <td>...</td>\n",
              "      <td>1415.663637</td>\n",
              "      <td>-363.889654</td>\n",
              "      <td>3646.793034</td>\n",
              "      <td>1928.917633</td>\n",
              "      <td>0.031798</td>\n",
              "      <td>1304.624058</td>\n",
              "      <td>2.093502e+08</td>\n",
              "      <td>0.047220</td>\n",
              "      <td>1.702044e+09</td>\n",
              "      <td>squamous</td>\n",
              "    </tr>\n",
              "    <tr>\n",
              "      <th>1</th>\n",
              "      <td>2</td>\n",
              "      <td>921.867862</td>\n",
              "      <td>6.464357e+04</td>\n",
              "      <td>-1855.872326</td>\n",
              "      <td>111.303433</td>\n",
              "      <td>24.812007</td>\n",
              "      <td>0.630987</td>\n",
              "      <td>2.203000</td>\n",
              "      <td>3.070020</td>\n",
              "      <td>0.026890</td>\n",
              "      <td>...</td>\n",
              "      <td>2761.175191</td>\n",
              "      <td>627.327497</td>\n",
              "      <td>2591.028927</td>\n",
              "      <td>2583.771232</td>\n",
              "      <td>-1.232774</td>\n",
              "      <td>497.655023</td>\n",
              "      <td>2.372606e+07</td>\n",
              "      <td>0.091541</td>\n",
              "      <td>2.476605e+08</td>\n",
              "      <td>squamous</td>\n",
              "    </tr>\n",
              "    <tr>\n",
              "      <th>2</th>\n",
              "      <td>3</td>\n",
              "      <td>632.293653</td>\n",
              "      <td>2.927069e+04</td>\n",
              "      <td>-1068.132061</td>\n",
              "      <td>84.292617</td>\n",
              "      <td>7.278293</td>\n",
              "      <td>0.839872</td>\n",
              "      <td>1.714220</td>\n",
              "      <td>1.639064</td>\n",
              "      <td>0.054382</td>\n",
              "      <td>...</td>\n",
              "      <td>2860.668702</td>\n",
              "      <td>1064.846734</td>\n",
              "      <td>2858.450410</td>\n",
              "      <td>2695.236066</td>\n",
              "      <td>-1.243821</td>\n",
              "      <td>359.149777</td>\n",
              "      <td>3.164909e+08</td>\n",
              "      <td>0.144030</td>\n",
              "      <td>1.289886e+05</td>\n",
              "      <td>adeno</td>\n",
              "    </tr>\n",
              "    <tr>\n",
              "      <th>3</th>\n",
              "      <td>4</td>\n",
              "      <td>768.887796</td>\n",
              "      <td>1.016742e+04</td>\n",
              "      <td>-348.622125</td>\n",
              "      <td>29.055416</td>\n",
              "      <td>6.021883</td>\n",
              "      <td>0.658310</td>\n",
              "      <td>1.641467</td>\n",
              "      <td>1.628996</td>\n",
              "      <td>0.029925</td>\n",
              "      <td>...</td>\n",
              "      <td>2931.331097</td>\n",
              "      <td>1090.306774</td>\n",
              "      <td>4341.408441</td>\n",
              "      <td>2900.917177</td>\n",
              "      <td>-2.325833</td>\n",
              "      <td>218.932372</td>\n",
              "      <td>7.121297e+08</td>\n",
              "      <td>0.240815</td>\n",
              "      <td>4.793138e+04</td>\n",
              "      <td>squamous</td>\n",
              "    </tr>\n",
              "    <tr>\n",
              "      <th>4</th>\n",
              "      <td>5</td>\n",
              "      <td>131.834572</td>\n",
              "      <td>3.611580e+01</td>\n",
              "      <td>-2.013109</td>\n",
              "      <td>2.503468</td>\n",
              "      <td>1.033765</td>\n",
              "      <td>0.411724</td>\n",
              "      <td>1.005289</td>\n",
              "      <td>0.695758</td>\n",
              "      <td>0.118367</td>\n",
              "      <td>...</td>\n",
              "      <td>3033.154546</td>\n",
              "      <td>2305.169603</td>\n",
              "      <td>1481.835287</td>\n",
              "      <td>3025.285718</td>\n",
              "      <td>-1.020618</td>\n",
              "      <td>69.813296</td>\n",
              "      <td>1.908266e+08</td>\n",
              "      <td>0.360381</td>\n",
              "      <td>4.873896e+03</td>\n",
              "      <td>adeno</td>\n",
              "    </tr>\n",
              "    <tr>\n",
              "      <th>...</th>\n",
              "      <td>...</td>\n",
              "      <td>...</td>\n",
              "      <td>...</td>\n",
              "      <td>...</td>\n",
              "      <td>...</td>\n",
              "      <td>...</td>\n",
              "      <td>...</td>\n",
              "      <td>...</td>\n",
              "      <td>...</td>\n",
              "      <td>...</td>\n",
              "      <td>...</td>\n",
              "      <td>...</td>\n",
              "      <td>...</td>\n",
              "      <td>...</td>\n",
              "      <td>...</td>\n",
              "      <td>...</td>\n",
              "      <td>...</td>\n",
              "      <td>...</td>\n",
              "      <td>...</td>\n",
              "      <td>...</td>\n",
              "      <td>...</td>\n",
              "    </tr>\n",
              "    <tr>\n",
              "      <th>84</th>\n",
              "      <td>85</td>\n",
              "      <td>603.054548</td>\n",
              "      <td>3.314669e+05</td>\n",
              "      <td>1834.022542</td>\n",
              "      <td>488.061895</td>\n",
              "      <td>9.442247</td>\n",
              "      <td>0.967033</td>\n",
              "      <td>1.807970</td>\n",
              "      <td>1.934324</td>\n",
              "      <td>0.024847</td>\n",
              "      <td>...</td>\n",
              "      <td>4460.909095</td>\n",
              "      <td>3251.188474</td>\n",
              "      <td>2664.350676</td>\n",
              "      <td>4833.234698</td>\n",
              "      <td>0.147291</td>\n",
              "      <td>792.489235</td>\n",
              "      <td>2.985662e+08</td>\n",
              "      <td>0.091199</td>\n",
              "      <td>6.280392e+05</td>\n",
              "      <td>squamous</td>\n",
              "    </tr>\n",
              "    <tr>\n",
              "      <th>85</th>\n",
              "      <td>86</td>\n",
              "      <td>1726.367922</td>\n",
              "      <td>4.040858e+04</td>\n",
              "      <td>-874.026124</td>\n",
              "      <td>31.988221</td>\n",
              "      <td>7.225593</td>\n",
              "      <td>0.632259</td>\n",
              "      <td>1.551758</td>\n",
              "      <td>1.450927</td>\n",
              "      <td>0.053324</td>\n",
              "      <td>...</td>\n",
              "      <td>5894.908307</td>\n",
              "      <td>3004.315216</td>\n",
              "      <td>3444.537968</td>\n",
              "      <td>5846.312571</td>\n",
              "      <td>-4.068370</td>\n",
              "      <td>267.867124</td>\n",
              "      <td>4.396834e+08</td>\n",
              "      <td>0.189860</td>\n",
              "      <td>7.175280e+04</td>\n",
              "      <td>squamous</td>\n",
              "    </tr>\n",
              "    <tr>\n",
              "      <th>86</th>\n",
              "      <td>87</td>\n",
              "      <td>473.814975</td>\n",
              "      <td>2.669862e+04</td>\n",
              "      <td>-868.125572</td>\n",
              "      <td>98.751127</td>\n",
              "      <td>5.111226</td>\n",
              "      <td>0.902248</td>\n",
              "      <td>1.633828</td>\n",
              "      <td>1.522530</td>\n",
              "      <td>0.027358</td>\n",
              "      <td>...</td>\n",
              "      <td>2636.621869</td>\n",
              "      <td>1108.310171</td>\n",
              "      <td>2736.174517</td>\n",
              "      <td>2525.870412</td>\n",
              "      <td>-0.821885</td>\n",
              "      <td>373.004255</td>\n",
              "      <td>3.136865e+08</td>\n",
              "      <td>0.095700</td>\n",
              "      <td>1.391322e+05</td>\n",
              "      <td>squamous</td>\n",
              "    </tr>\n",
              "    <tr>\n",
              "      <th>87</th>\n",
              "      <td>88</td>\n",
              "      <td>404.275573</td>\n",
              "      <td>2.867433e+04</td>\n",
              "      <td>-707.032249</td>\n",
              "      <td>93.849341</td>\n",
              "      <td>22.308018</td>\n",
              "      <td>0.618446</td>\n",
              "      <td>2.266238</td>\n",
              "      <td>3.473518</td>\n",
              "      <td>0.008502</td>\n",
              "      <td>...</td>\n",
              "      <td>2825.492940</td>\n",
              "      <td>1492.839890</td>\n",
              "      <td>1983.158830</td>\n",
              "      <td>2777.899166</td>\n",
              "      <td>-0.622212</td>\n",
              "      <td>429.690726</td>\n",
              "      <td>5.023587e+09</td>\n",
              "      <td>0.049898</td>\n",
              "      <td>1.846341e+05</td>\n",
              "      <td>other</td>\n",
              "    </tr>\n",
              "    <tr>\n",
              "      <th>88</th>\n",
              "      <td>89</td>\n",
              "      <td>681.259465</td>\n",
              "      <td>6.136644e+04</td>\n",
              "      <td>-1530.954192</td>\n",
              "      <td>134.468888</td>\n",
              "      <td>21.364108</td>\n",
              "      <td>0.725157</td>\n",
              "      <td>2.253468</td>\n",
              "      <td>3.234712</td>\n",
              "      <td>0.007381</td>\n",
              "      <td>...</td>\n",
              "      <td>2771.040671</td>\n",
              "      <td>988.253227</td>\n",
              "      <td>2592.351205</td>\n",
              "      <td>2666.177912</td>\n",
              "      <td>-0.904100</td>\n",
              "      <td>465.168673</td>\n",
              "      <td>8.361023e+07</td>\n",
              "      <td>0.056554</td>\n",
              "      <td>2.163819e+05</td>\n",
              "      <td>adeno</td>\n",
              "    </tr>\n",
              "  </tbody>\n",
              "</table>\n",
              "<p>89 rows × 652 columns</p>\n",
              "</div>\n",
              "      <button class=\"colab-df-convert\" onclick=\"convertToInteractive('df-3a499060-8a3b-4b69-8bba-19b7fbd6d4c8')\"\n",
              "              title=\"Convert this dataframe to an interactive table.\"\n",
              "              style=\"display:none;\">\n",
              "        \n",
              "  <svg xmlns=\"http://www.w3.org/2000/svg\" height=\"24px\"viewBox=\"0 0 24 24\"\n",
              "       width=\"24px\">\n",
              "    <path d=\"M0 0h24v24H0V0z\" fill=\"none\"/>\n",
              "    <path d=\"M18.56 5.44l.94 2.06.94-2.06 2.06-.94-2.06-.94-.94-2.06-.94 2.06-2.06.94zm-11 1L8.5 8.5l.94-2.06 2.06-.94-2.06-.94L8.5 2.5l-.94 2.06-2.06.94zm10 10l.94 2.06.94-2.06 2.06-.94-2.06-.94-.94-2.06-.94 2.06-2.06.94z\"/><path d=\"M17.41 7.96l-1.37-1.37c-.4-.4-.92-.59-1.43-.59-.52 0-1.04.2-1.43.59L10.3 9.45l-7.72 7.72c-.78.78-.78 2.05 0 2.83L4 21.41c.39.39.9.59 1.41.59.51 0 1.02-.2 1.41-.59l7.78-7.78 2.81-2.81c.8-.78.8-2.07 0-2.86zM5.41 20L4 18.59l7.72-7.72 1.47 1.35L5.41 20z\"/>\n",
              "  </svg>\n",
              "      </button>\n",
              "      \n",
              "  <style>\n",
              "    .colab-df-container {\n",
              "      display:flex;\n",
              "      flex-wrap:wrap;\n",
              "      gap: 12px;\n",
              "    }\n",
              "\n",
              "    .colab-df-convert {\n",
              "      background-color: #E8F0FE;\n",
              "      border: none;\n",
              "      border-radius: 50%;\n",
              "      cursor: pointer;\n",
              "      display: none;\n",
              "      fill: #1967D2;\n",
              "      height: 32px;\n",
              "      padding: 0 0 0 0;\n",
              "      width: 32px;\n",
              "    }\n",
              "\n",
              "    .colab-df-convert:hover {\n",
              "      background-color: #E2EBFA;\n",
              "      box-shadow: 0px 1px 2px rgba(60, 64, 67, 0.3), 0px 1px 3px 1px rgba(60, 64, 67, 0.15);\n",
              "      fill: #174EA6;\n",
              "    }\n",
              "\n",
              "    [theme=dark] .colab-df-convert {\n",
              "      background-color: #3B4455;\n",
              "      fill: #D2E3FC;\n",
              "    }\n",
              "\n",
              "    [theme=dark] .colab-df-convert:hover {\n",
              "      background-color: #434B5C;\n",
              "      box-shadow: 0px 1px 3px 1px rgba(0, 0, 0, 0.15);\n",
              "      filter: drop-shadow(0px 1px 2px rgba(0, 0, 0, 0.3));\n",
              "      fill: #FFFFFF;\n",
              "    }\n",
              "  </style>\n",
              "\n",
              "      <script>\n",
              "        const buttonEl =\n",
              "          document.querySelector('#df-3a499060-8a3b-4b69-8bba-19b7fbd6d4c8 button.colab-df-convert');\n",
              "        buttonEl.style.display =\n",
              "          google.colab.kernel.accessAllowed ? 'block' : 'none';\n",
              "\n",
              "        async function convertToInteractive(key) {\n",
              "          const element = document.querySelector('#df-3a499060-8a3b-4b69-8bba-19b7fbd6d4c8');\n",
              "          const dataTable =\n",
              "            await google.colab.kernel.invokeFunction('convertToInteractive',\n",
              "                                                     [key], {});\n",
              "          if (!dataTable) return;\n",
              "\n",
              "          const docLinkHtml = 'Like what you see? Visit the ' +\n",
              "            '<a target=\"_blank\" href=https://colab.research.google.com/notebooks/data_table.ipynb>data table notebook</a>'\n",
              "            + ' to learn more about interactive tables.';\n",
              "          element.innerHTML = '';\n",
              "          dataTable['output_type'] = 'display_data';\n",
              "          await google.colab.output.renderOutput(dataTable, element);\n",
              "          const docLink = document.createElement('div');\n",
              "          docLink.innerHTML = docLinkHtml;\n",
              "          element.appendChild(docLink);\n",
              "        }\n",
              "      </script>\n",
              "    </div>\n",
              "  </div>\n",
              "  "
            ]
          },
          "metadata": {},
          "execution_count": 2632
        }
      ]
    },
    {
      "cell_type": "code",
      "source": [
        "data_X = data_df.drop(['Label'], axis = 1)"
      ],
      "metadata": {
        "id": "lXIrC3tQR_LL"
      },
      "execution_count": 2633,
      "outputs": []
    },
    {
      "cell_type": "code",
      "source": [
        "data_X.columns "
      ],
      "metadata": {
        "colab": {
          "base_uri": "https://localhost:8080/"
        },
        "id": "gOC53qh3SdXN",
        "outputId": "541f60cf-4156-433c-b307-550e5217e606"
      },
      "execution_count": 2634,
      "outputs": [
        {
          "output_type": "execute_result",
          "data": {
            "text/plain": [
              "Index(['ID', 'imaging.radiomics.GLCM_autocorr',\n",
              "       'imaging.radiomics.GLCM_clusProm', 'imaging.radiomics.GLCM_clusShade',\n",
              "       'imaging.radiomics.GLCM_clusTend', 'imaging.radiomics.GLCM_contrast',\n",
              "       'imaging.radiomics.GLCM_correl1', 'imaging.radiomics.GLCM_diffEntro',\n",
              "       'imaging.radiomics.GLCM_dissimilar', 'imaging.radiomics.GLCM_energy',\n",
              "       ...\n",
              "       'imaging.radiomics.Wavelet_LLL_stats_mean',\n",
              "       'imaging.radiomics.Wavelet_LLL_stats_median',\n",
              "       'imaging.radiomics.Wavelet_LLL_stats_min',\n",
              "       'imaging.radiomics.Wavelet_LLL_stats_range',\n",
              "       'imaging.radiomics.Wavelet_LLL_stats_rms',\n",
              "       'imaging.radiomics.Wavelet_LLL_stats_skewness',\n",
              "       'imaging.radiomics.Wavelet_LLL_stats_std',\n",
              "       'imaging.radiomics.Wavelet_LLL_stats_totalenergy',\n",
              "       'imaging.radiomics.Wavelet_LLL_stats_uniformity',\n",
              "       'imaging.radiomics.Wavelet_LLL_stats_var'],\n",
              "      dtype='object', length=651)"
            ]
          },
          "metadata": {},
          "execution_count": 2634
        }
      ]
    },
    {
      "cell_type": "code",
      "source": [
        "data_df.isnull().sum().sum()"
      ],
      "metadata": {
        "colab": {
          "base_uri": "https://localhost:8080/"
        },
        "id": "nC2McO9GSf5c",
        "outputId": "83cf3810-85a1-44ab-93dc-03a5b112a35a"
      },
      "execution_count": 2635,
      "outputs": [
        {
          "output_type": "execute_result",
          "data": {
            "text/plain": [
              "0"
            ]
          },
          "metadata": {},
          "execution_count": 2635
        }
      ]
    },
    {
      "cell_type": "code",
      "source": [
        "data_y = data_df['Label']"
      ],
      "metadata": {
        "id": "1Uafw9VQS94z"
      },
      "execution_count": 2636,
      "outputs": []
    },
    {
      "cell_type": "markdown",
      "source": [
        "**Label Encoding**"
      ],
      "metadata": {
        "id": "pcXMVMMNS-r_"
      }
    },
    {
      "cell_type": "code",
      "source": [
        "from sklearn.preprocessing import LabelEncoder "
      ],
      "metadata": {
        "id": "k9e4KR8RTBWW"
      },
      "execution_count": 2637,
      "outputs": []
    },
    {
      "cell_type": "code",
      "source": [
        "le = LabelEncoder()"
      ],
      "metadata": {
        "id": "CP3oH25bTC5L"
      },
      "execution_count": 2638,
      "outputs": []
    },
    {
      "cell_type": "code",
      "source": [
        "data_y_trans = le.fit_transform(data_y)\n",
        "le_fid = LabelEncoder()"
      ],
      "metadata": {
        "id": "r58uwHAeTE8t"
      },
      "execution_count": 2639,
      "outputs": []
    },
    {
      "cell_type": "markdown",
      "source": [
        "**Train Test Split**"
      ],
      "metadata": {
        "id": "LwuG-Rr4d-2L"
      }
    },
    {
      "cell_type": "code",
      "source": [
        "from sklearn.model_selection import train_test_split\n",
        "X_train, X_test,y_train, y_test = train_test_split(data_X, data_y, train_size = 0.7)"
      ],
      "metadata": {
        "id": "o_3Qnz6QSuA1"
      },
      "execution_count": 2640,
      "outputs": []
    },
    {
      "cell_type": "markdown",
      "source": [
        "**Standardization**"
      ],
      "metadata": {
        "id": "Hh4qOmI7eDhC"
      }
    },
    {
      "cell_type": "code",
      "source": [
        "from sklearn.preprocessing import StandardScaler \n",
        "ss = StandardScaler()\n",
        "X_train_std = ss.fit_transform(X_train)\n",
        "X_test_std = ss.fit_transform(X_test)"
      ],
      "metadata": {
        "id": "scFoZhCmTP7z"
      },
      "execution_count": 2641,
      "outputs": []
    },
    {
      "cell_type": "markdown",
      "source": [
        "**Feature Selection**"
      ],
      "metadata": {
        "id": "p00W2_XReMSp"
      }
    },
    {
      "cell_type": "code",
      "source": [
        "from sklearn.ensemble import ExtraTreesClassifier"
      ],
      "metadata": {
        "id": "PgNYDI6tTUIX"
      },
      "execution_count": 2642,
      "outputs": []
    },
    {
      "cell_type": "code",
      "source": [
        "model = ExtraTreesClassifier(bootstrap=False, ccp_alpha=0.0, class_weight=None,\n",
        "                     criterion='gini', max_depth=None, max_features='auto',\n",
        "                     max_leaf_nodes=None, max_samples=None,\n",
        "                     min_impurity_decrease=0.0, \n",
        "                     min_samples_leaf=1, min_samples_split=2,\n",
        "                     min_weight_fraction_leaf=0.0, n_estimators=20,\n",
        "                     n_jobs=None, oob_score=False, random_state=42, verbose=0,\n",
        "                     warm_start=False)\n",
        "\n",
        "model.fit(data_X, data_y_trans)"
      ],
      "metadata": {
        "colab": {
          "base_uri": "https://localhost:8080/"
        },
        "id": "UVehTngSTb9K",
        "outputId": "122e218b-8f59-4ea6-c190-99deb1a6e137"
      },
      "execution_count": 2643,
      "outputs": [
        {
          "output_type": "execute_result",
          "data": {
            "text/plain": [
              "ExtraTreesClassifier(n_estimators=20, random_state=42)"
            ]
          },
          "metadata": {},
          "execution_count": 2643
        }
      ]
    },
    {
      "cell_type": "code",
      "source": [
        "model.feature_importances_"
      ],
      "metadata": {
        "colab": {
          "base_uri": "https://localhost:8080/"
        },
        "id": "gqIIlAc8TUPk",
        "outputId": "1062613c-9e91-4cbd-87ab-4bc95b55b87f"
      },
      "execution_count": 2644,
      "outputs": [
        {
          "output_type": "execute_result",
          "data": {
            "text/plain": [
              "array([0.        , 0.00597606, 0.00112119, 0.        , 0.        ,\n",
              "       0.002216  , 0.00286658, 0.        , 0.00225649, 0.00096813,\n",
              "       0.00185881, 0.00287834, 0.        , 0.        , 0.        ,\n",
              "       0.00139411, 0.00123921, 0.        , 0.        , 0.0015707 ,\n",
              "       0.        , 0.00138673, 0.        , 0.00287351, 0.00111197,\n",
              "       0.00247842, 0.00575255, 0.        , 0.00123921, 0.00087966,\n",
              "       0.00413269, 0.        , 0.00319539, 0.0029741 , 0.        ,\n",
              "       0.        , 0.        , 0.00023899, 0.        , 0.        ,\n",
              "       0.00139411, 0.00223743, 0.        , 0.        , 0.00092941,\n",
              "       0.        , 0.00123921, 0.        , 0.        , 0.        ,\n",
              "       0.        , 0.00517909, 0.00144195, 0.00165228, 0.00400192,\n",
              "       0.        , 0.00189781, 0.00148705, 0.00092941, 0.        ,\n",
              "       0.00121561, 0.00468956, 0.00108431, 0.0089882 , 0.00438207,\n",
              "       0.00048683, 0.0031121 , 0.        , 0.00498896, 0.00520443,\n",
              "       0.00123921, 0.00283589, 0.00247842, 0.        , 0.00123921,\n",
              "       0.        , 0.00123921, 0.00173489, 0.        , 0.        ,\n",
              "       0.00159327, 0.        , 0.00266725, 0.00123921, 0.00405841,\n",
              "       0.        , 0.        , 0.00848739, 0.0008452 , 0.00372795,\n",
              "       0.00154901, 0.00144177, 0.        , 0.00125986, 0.        ,\n",
              "       0.00313088, 0.00346979, 0.00135836, 0.00122661, 0.00123921,\n",
              "       0.00320019, 0.        , 0.00105899, 0.00130117, 0.00148705,\n",
              "       0.        , 0.00092941, 0.00162646, 0.00244744, 0.        ,\n",
              "       0.00349551, 0.00839416, 0.        , 0.00187947, 0.        ,\n",
              "       0.0017194 , 0.        , 0.00117725, 0.        , 0.00092941,\n",
              "       0.00088496, 0.        , 0.        , 0.00092941, 0.00085055,\n",
              "       0.00074353, 0.        , 0.00092941, 0.00264874, 0.01038115,\n",
              "       0.0046404 , 0.00066386, 0.        , 0.        , 0.0018732 ,\n",
              "       0.00246957, 0.        , 0.00323633, 0.00218337, 0.        ,\n",
              "       0.00441436, 0.        , 0.00215313, 0.        , 0.        ,\n",
              "       0.00223058, 0.00092941, 0.0032839 , 0.        , 0.00168842,\n",
              "       0.00338802, 0.        , 0.00078155, 0.        , 0.00337562,\n",
              "       0.        , 0.        , 0.        , 0.        , 0.        ,\n",
              "       0.00303011, 0.        , 0.00348072, 0.0046597 , 0.00057535,\n",
              "       0.00133215, 0.00412225, 0.        , 0.        , 0.00108431,\n",
              "       0.00278822, 0.00601313, 0.        , 0.        , 0.        ,\n",
              "       0.00078726, 0.        , 0.00156028, 0.        , 0.        ,\n",
              "       0.        , 0.        , 0.00099579, 0.00230043, 0.        ,\n",
              "       0.00268305, 0.        , 0.00188858, 0.00398573, 0.00257637,\n",
              "       0.00052666, 0.        , 0.00123921, 0.        , 0.00304639,\n",
              "       0.00092941, 0.00339938, 0.        , 0.        , 0.        ,\n",
              "       0.        , 0.        , 0.0037245 , 0.00249305, 0.00123921,\n",
              "       0.00092941, 0.        , 0.        , 0.00152995, 0.        ,\n",
              "       0.00447664, 0.00122574, 0.00348876, 0.00519105, 0.00339374,\n",
              "       0.        , 0.00471378, 0.        , 0.00223058, 0.00234848,\n",
              "       0.00216862, 0.00111529, 0.00116828, 0.00214608, 0.00232107,\n",
              "       0.        , 0.01466512, 0.        , 0.00685744, 0.        ,\n",
              "       0.00109184, 0.        , 0.009992  , 0.00624437, 0.00411729,\n",
              "       0.00385224, 0.00657383, 0.        , 0.        , 0.00386707,\n",
              "       0.00179243, 0.        , 0.00378501, 0.00286567, 0.00351545,\n",
              "       0.00228984, 0.00462936, 0.        , 0.        , 0.        ,\n",
              "       0.        , 0.00297397, 0.00051634, 0.        , 0.00206535,\n",
              "       0.0051419 , 0.00108431, 0.00486125, 0.00425538, 0.00172683,\n",
              "       0.        , 0.00400758, 0.00180718, 0.        , 0.        ,\n",
              "       0.        , 0.        , 0.00490622, 0.        , 0.00491962,\n",
              "       0.00123921, 0.        , 0.00545988, 0.        , 0.        ,\n",
              "       0.00173489, 0.        , 0.00176958, 0.00148705, 0.0010308 ,\n",
              "       0.        , 0.00357748, 0.        , 0.00214452, 0.00171442,\n",
              "       0.        , 0.        , 0.00139411, 0.        , 0.        ,\n",
              "       0.00167293, 0.        , 0.00368196, 0.00099137, 0.00296433,\n",
              "       0.        , 0.        , 0.00173489, 0.00216521, 0.00119949,\n",
              "       0.00127231, 0.00209737, 0.00256103, 0.00289149, 0.        ,\n",
              "       0.        , 0.00275724, 0.        , 0.        , 0.        ,\n",
              "       0.00429013, 0.        , 0.00334887, 0.        , 0.        ,\n",
              "       0.00475461, 0.00239017, 0.        , 0.00240097, 0.00139411,\n",
              "       0.00029572, 0.        , 0.00732028, 0.00314966, 0.        ,\n",
              "       0.        , 0.00160802, 0.        , 0.        , 0.        ,\n",
              "       0.00461562, 0.00439919, 0.00148705, 0.        , 0.00437652,\n",
              "       0.00250521, 0.00175001, 0.00323003, 0.00583192, 0.        ,\n",
              "       0.00123921, 0.00082802, 0.00117725, 0.        , 0.00065403,\n",
              "       0.00154901, 0.00278259, 0.0016867 , 0.        , 0.00376993,\n",
              "       0.00114121, 0.00057671, 0.        , 0.00153292, 0.0014959 ,\n",
              "       0.00179243, 0.00147156, 0.00174077, 0.        , 0.        ,\n",
              "       0.00178446, 0.        , 0.        , 0.00322194, 0.        ,\n",
              "       0.00092941, 0.00267439, 0.        , 0.00223058, 0.00130117,\n",
              "       0.00139411, 0.00159327, 0.        , 0.00377959, 0.00458507,\n",
              "       0.        , 0.00268348, 0.00162646, 0.00452828, 0.        ,\n",
              "       0.        , 0.00127019, 0.        , 0.        , 0.00139411,\n",
              "       0.00148705, 0.        , 0.00148705, 0.        , 0.00139411,\n",
              "       0.        , 0.        , 0.        , 0.00139411, 0.00562929,\n",
              "       0.        , 0.00119495, 0.        , 0.00288116, 0.0004647 ,\n",
              "       0.00092941, 0.00134985, 0.00123921, 0.        , 0.00232352,\n",
              "       0.        , 0.0027786 , 0.        , 0.00130117, 0.00092941,\n",
              "       0.00151029, 0.00167293, 0.00256511, 0.00245983, 0.        ,\n",
              "       0.        , 0.        , 0.        , 0.00232352, 0.        ,\n",
              "       0.        , 0.00022828, 0.        , 0.00143483, 0.00117249,\n",
              "       0.00389398, 0.00569289, 0.        , 0.        , 0.00123921,\n",
              "       0.00162646, 0.        , 0.00441468, 0.0048757 , 0.00041307,\n",
              "       0.00092941, 0.00148705, 0.        , 0.00123921, 0.        ,\n",
              "       0.00223058, 0.        , 0.00144903, 0.00120823, 0.00531811,\n",
              "       0.        , 0.00082553, 0.00263332, 0.        , 0.00346897,\n",
              "       0.00580188, 0.        , 0.00099137, 0.00169576, 0.00597489,\n",
              "       0.        , 0.        , 0.00309834, 0.00123921, 0.00150135,\n",
              "       0.        , 0.        , 0.00072287, 0.        , 0.        ,\n",
              "       0.00130987, 0.00123921, 0.        , 0.        , 0.00123921,\n",
              "       0.        , 0.        , 0.        , 0.00123921, 0.00350428,\n",
              "       0.        , 0.00353117, 0.00174192, 0.00152085, 0.00183607,\n",
              "       0.00382827, 0.00139411, 0.        , 0.0014482 , 0.        ,\n",
              "       0.00190086, 0.        , 0.00118129, 0.00274873, 0.00185881,\n",
              "       0.00092941, 0.00185881, 0.00325292, 0.00099137, 0.00140417,\n",
              "       0.00120203, 0.00110644, 0.        , 0.00505355, 0.        ,\n",
              "       0.        , 0.00014786, 0.00116981, 0.        , 0.00371247,\n",
              "       0.00141758, 0.00160802, 0.00124954, 0.00092941, 0.00318654,\n",
              "       0.        , 0.        , 0.00096846, 0.00092941, 0.        ,\n",
              "       0.00458507, 0.        , 0.        , 0.00398977, 0.001178  ,\n",
              "       0.00122827, 0.0028397 , 0.        , 0.00280904, 0.        ,\n",
              "       0.        , 0.00180202, 0.00167293, 0.00278846, 0.00136476,\n",
              "       0.        , 0.00160192, 0.        , 0.00169083, 0.00150874,\n",
              "       0.00148705, 0.        , 0.00601238, 0.00108431, 0.00117725,\n",
              "       0.        , 0.00538785, 0.        , 0.00309802, 0.00128173,\n",
              "       0.00289149, 0.        , 0.        , 0.00355464, 0.0006196 ,\n",
              "       0.00595727, 0.00247842, 0.00148705, 0.        , 0.00269528,\n",
              "       0.        , 0.        , 0.00381818, 0.00367538, 0.00132116,\n",
              "       0.00216862, 0.00254038, 0.00317487, 0.00495996, 0.00159327,\n",
              "       0.        , 0.        , 0.00174947, 0.00148705, 0.00143837,\n",
              "       0.        , 0.00154901, 0.00241497, 0.00062899, 0.00117467,\n",
              "       0.00092941, 0.00026554, 0.        , 0.00258906, 0.00558227,\n",
              "       0.00263332, 0.00150163, 0.00328907, 0.00630223, 0.00136771,\n",
              "       0.00123921, 0.00092941, 0.00260488, 0.        , 0.00123921,\n",
              "       0.00498447, 0.00278822, 0.00216862, 0.        , 0.        ,\n",
              "       0.        , 0.        , 0.        , 0.00503351, 0.00137198,\n",
              "       0.        , 0.00449841, 0.        , 0.004218  , 0.        ,\n",
              "       0.        , 0.00168983, 0.0011566 , 0.        , 0.        ,\n",
              "       0.        , 0.00141624, 0.        , 0.00072287, 0.00613205,\n",
              "       0.00115807, 0.        , 0.        , 0.00450612, 0.000343  ,\n",
              "       0.        , 0.        , 0.00327165, 0.00082983, 0.        ,\n",
              "       0.00505494, 0.0021708 , 0.        , 0.00248844, 0.        ,\n",
              "       0.0005665 , 0.        , 0.        , 0.00100046, 0.        ,\n",
              "       0.        , 0.00610429, 0.        , 0.00265054, 0.00139411,\n",
              "       0.        , 0.00346979, 0.0025994 , 0.        , 0.        ,\n",
              "       0.00346341, 0.00179243, 0.        , 0.00154901, 0.        ,\n",
              "       0.00223058])"
            ]
          },
          "metadata": {},
          "execution_count": 2644
        }
      ]
    },
    {
      "cell_type": "code",
      "source": [
        "feature_importance_std = pd.Series(model.feature_importances_, index=data_X.columns)\n",
        "feature_importance_std.nlargest(10).plot(kind='bar', title='Standardised Dataset Feature Selection using ExtraTreesClassifier')"
      ],
      "metadata": {
        "colab": {
          "base_uri": "https://localhost:8080/",
          "height": 597
        },
        "id": "_YfFwVLeTl6A",
        "outputId": "6e5ef172-fc12-4b5b-e23b-759ad0aa62b9"
      },
      "execution_count": 2645,
      "outputs": [
        {
          "output_type": "execute_result",
          "data": {
            "text/plain": [
              "<matplotlib.axes._subplots.AxesSubplot at 0x7f1f3259a610>"
            ]
          },
          "metadata": {},
          "execution_count": 2645
        },
        {
          "output_type": "display_data",
          "data": {
            "text/plain": [
              "<Figure size 432x288 with 1 Axes>"
            ],
            "image/png": "[encoded data removed]"
          },
          "metadata": {
            "needs_background": "light"
          }
        }
      ]
    },
    {
      "cell_type": "code",
      "source": [
        "feature_importance_std.nlargest(10)"
      ],
      "metadata": {
        "id": "qg2NwXrrMUdu",
        "outputId": "51230198-835d-4734-8e47-e373bdb02dde",
        "colab": {
          "base_uri": "https://localhost:8080/"
        }
      },
      "execution_count": 2646,
      "outputs": [
        {
          "output_type": "execute_result",
          "data": {
            "text/plain": [
              "imaging.radiomics.Shape_compactness2                         0.014665\n",
              "imaging.radiomics.LoG_sigma_3_5_mm_2D_stats_skewness         0.010381\n",
              "imaging.radiomics.Shape_spherDisprop                         0.009992\n",
              "imaging.radiomics.LoG_sigma_1_5_mm_3D_stats_kurtosis         0.008988\n",
              "imaging.radiomics.LoG_sigma_1_mm_3D_stats_uniformityPos      0.008487\n",
              "imaging.radiomics.LoG_sigma_2_mm_2D_stats_skewness           0.008394\n",
              "imaging.radiomics.Wavelet_HHL_glcm_dissimilar                0.007320\n",
              "imaging.radiomics.Shape_maxDiameter2Dy                       0.006857\n",
              "imaging.radiomics.Shape_volume                               0.006574\n",
              "imaging.radiomics.Wavelet_LLH_rlgl_runLengthNonuniformity    0.006302\n",
              "dtype: float64"
            ]
          },
          "metadata": {},
          "execution_count": 2646
        }
      ]
    },
    {
      "cell_type": "code",
      "source": [
        "data_new_20features_X = data_X[['imaging.radiomics.Shape_compactness2','imaging.radiomics.LoG_sigma_3_5_mm_2D_stats_skewness','imaging.radiomics.Shape_spherDisprop','imaging.radiomics.LoG_sigma_1_5_mm_3D_stats_kurtosis','imaging.radiomics.LoG_sigma_1_mm_3D_stats_uniformityPos','imaging.radiomics.LoG_sigma_2_mm_2D_stats_skewness','imaging.radiomics.Wavelet_HHL_glcm_dissimilar','imaging.radiomics.Shape_maxDiameter2Dy','imaging.radiomics.Shape_volume','imaging.radiomics.Wavelet_LLH_rlgl_runLengthNonuniformity']]"
      ],
      "metadata": {
        "id": "FB66tnrIT-oM"
      },
      "execution_count": 2647,
      "outputs": []
    },
    {
      "cell_type": "code",
      "source": [
        "data_new_20features_X"
      ],
      "metadata": {
        "colab": {
          "base_uri": "https://localhost:8080/",
          "height": 488
        },
        "id": "6f65KMdNWbLX",
        "outputId": "1445d99b-dc10-4204-d84e-918cd6ed33b0"
      },
      "execution_count": 2648,
      "outputs": [
        {
          "output_type": "execute_result",
          "data": {
            "text/plain": [
              "    imaging.radiomics.Shape_compactness2  \\\n",
              "0                               0.199115   \n",
              "1                               0.316363   \n",
              "2                               0.429609   \n",
              "3                               0.308995   \n",
              "4                               0.065583   \n",
              "..                                   ...   \n",
              "84                              0.237830   \n",
              "85                              0.153252   \n",
              "86                              0.339756   \n",
              "87                              0.592300   \n",
              "88                              0.270830   \n",
              "\n",
              "    imaging.radiomics.LoG_sigma_3_5_mm_2D_stats_skewness  \\\n",
              "0                                            1.058955      \n",
              "1                                            0.171213      \n",
              "2                                            0.809813      \n",
              "3                                            1.004323      \n",
              "4                                           -0.062707      \n",
              "..                                                ...      \n",
              "84                                          -0.186940      \n",
              "85                                           0.512895      \n",
              "86                                           0.280741      \n",
              "87                                          -0.367213      \n",
              "88                                           0.118159      \n",
              "\n",
              "    imaging.radiomics.Shape_spherDisprop  \\\n",
              "0                               1.712505   \n",
              "1                               1.467591   \n",
              "2                               1.325284   \n",
              "3                               1.479163   \n",
              "4                               2.479723   \n",
              "..                                   ...   \n",
              "84                              1.614029   \n",
              "85                              1.868664   \n",
              "86                              1.433103   \n",
              "87                              1.190747   \n",
              "88                              1.545615   \n",
              "\n",
              "    imaging.radiomics.LoG_sigma_1_5_mm_3D_stats_kurtosis  \\\n",
              "0                                            5.042135      \n",
              "1                                            1.895906      \n",
              "2                                            6.521193      \n",
              "3                                           11.072607      \n",
              "4                                            6.620334      \n",
              "..                                                ...      \n",
              "84                                           3.428319      \n",
              "85                                           4.681027      \n",
              "86                                           4.764661      \n",
              "87                                           2.129584      \n",
              "88                                           4.074833      \n",
              "\n",
              "    imaging.radiomics.LoG_sigma_1_mm_3D_stats_uniformityPos  \\\n",
              "0                                            0.257781         \n",
              "1                                            0.127106         \n",
              "2                                            0.386352         \n",
              "3                                            0.441040         \n",
              "4                                            0.496051         \n",
              "..                                                ...         \n",
              "84                                           0.337140         \n",
              "85                                           0.230988         \n",
              "86                                           0.488377         \n",
              "87                                           0.105743         \n",
              "88                                           0.174140         \n",
              "\n",
              "    imaging.radiomics.LoG_sigma_2_mm_2D_stats_skewness  \\\n",
              "0                                            1.377666    \n",
              "1                                           -0.261814    \n",
              "2                                            1.642442    \n",
              "3                                            2.124678    \n",
              "4                                            0.030418    \n",
              "..                                                ...    \n",
              "84                                          -0.137764    \n",
              "85                                           0.868242    \n",
              "86                                           0.282261    \n",
              "87                                          -0.207556    \n",
              "88                                           0.718995    \n",
              "\n",
              "    imaging.radiomics.Wavelet_HHL_glcm_dissimilar  \\\n",
              "0                                        1.384639   \n",
              "1                                        1.872684   \n",
              "2                                        2.181419   \n",
              "3                                        1.346130   \n",
              "4                                        0.643167   \n",
              "..                                            ...   \n",
              "84                                       1.866907   \n",
              "85                                       2.297871   \n",
              "86                                       1.666586   \n",
              "87                                       3.143208   \n",
              "88                                       2.168275   \n",
              "\n",
              "    imaging.radiomics.Shape_maxDiameter2Dy  imaging.radiomics.Shape_volume  \\\n",
              "0                                 6.453681                        56266.00   \n",
              "1                                 2.500000                         3554.00   \n",
              "2                                 5.590170                        43568.00   \n",
              "3                                 6.000833                        84623.00   \n",
              "4                                 4.925444                           20.85   \n",
              "..                                     ...                             ...   \n",
              "84                                3.080584                        12781.00   \n",
              "85                                4.294182                        12864.00   \n",
              "86                                6.053924                        49167.00   \n",
              "87                                1.200925                          651.00   \n",
              "88                                3.544009                        11762.00   \n",
              "\n",
              "    imaging.radiomics.Wavelet_LLH_rlgl_runLengthNonuniformity  \n",
              "0                                        19692.602580          \n",
              "1                                         2154.879918          \n",
              "2                                        19376.896140          \n",
              "3                                        52045.845280          \n",
              "4                                         7602.755533          \n",
              "..                                                ...          \n",
              "84                                        7557.487777          \n",
              "85                                        6715.319155          \n",
              "86                                       24368.103360          \n",
              "87                                         468.468870          \n",
              "88                                        8091.096165          \n",
              "\n",
              "[89 rows x 10 columns]"
            ],
            "text/html": [
              "\n",
              "  <div id=\"df-10e0c32d-4de9-45e2-bc30-e531fbe77b7c\">\n",
              "    <div class=\"colab-df-container\">\n",
              "      <div>\n",
              "<style scoped>\n",
              "    .dataframe tbody tr th:only-of-type {\n",
              "        vertical-align: middle;\n",
              "    }\n",
              "\n",
              "    .dataframe tbody tr th {\n",
              "        vertical-align: top;\n",
              "    }\n",
              "\n",
              "    .dataframe thead th {\n",
              "        text-align: right;\n",
              "    }\n",
              "</style>\n",
              "<table border=\"1\" class=\"dataframe\">\n",
              "  <thead>\n",
              "    <tr style=\"text-align: right;\">\n",
              "      <th></th>\n",
              "      <th>imaging.radiomics.Shape_compactness2</th>\n",
              "      <th>imaging.radiomics.LoG_sigma_3_5_mm_2D_stats_skewness</th>\n",
              "      <th>imaging.radiomics.Shape_spherDisprop</th>\n",
              "      <th>imaging.radiomics.LoG_sigma_1_5_mm_3D_stats_kurtosis</th>\n",
              "      <th>imaging.radiomics.LoG_sigma_1_mm_3D_stats_uniformityPos</th>\n",
              "      <th>imaging.radiomics.LoG_sigma_2_mm_2D_stats_skewness</th>\n",
              "      <th>imaging.radiomics.Wavelet_HHL_glcm_dissimilar</th>\n",
              "      <th>imaging.radiomics.Shape_maxDiameter2Dy</th>\n",
              "      <th>imaging.radiomics.Shape_volume</th>\n",
              "      <th>imaging.radiomics.Wavelet_LLH_rlgl_runLengthNonuniformity</th>\n",
              "    </tr>\n",
              "  </thead>\n",
              "  <tbody>\n",
              "    <tr>\n",
              "      <th>0</th>\n",
              "      <td>0.199115</td>\n",
              "      <td>1.058955</td>\n",
              "      <td>1.712505</td>\n",
              "      <td>5.042135</td>\n",
              "      <td>0.257781</td>\n",
              "      <td>1.377666</td>\n",
              "      <td>1.384639</td>\n",
              "      <td>6.453681</td>\n",
              "      <td>56266.00</td>\n",
              "      <td>19692.602580</td>\n",
              "    </tr>\n",
              "    <tr>\n",
              "      <th>1</th>\n",
              "      <td>0.316363</td>\n",
              "      <td>0.171213</td>\n",
              "      <td>1.467591</td>\n",
              "      <td>1.895906</td>\n",
              "      <td>0.127106</td>\n",
              "      <td>-0.261814</td>\n",
              "      <td>1.872684</td>\n",
              "      <td>2.500000</td>\n",
              "      <td>3554.00</td>\n",
              "      <td>2154.879918</td>\n",
              "    </tr>\n",
              "    <tr>\n",
              "      <th>2</th>\n",
              "      <td>0.429609</td>\n",
              "      <td>0.809813</td>\n",
              "      <td>1.325284</td>\n",
              "      <td>6.521193</td>\n",
              "      <td>0.386352</td>\n",
              "      <td>1.642442</td>\n",
              "      <td>2.181419</td>\n",
              "      <td>5.590170</td>\n",
              "      <td>43568.00</td>\n",
              "      <td>19376.896140</td>\n",
              "    </tr>\n",
              "    <tr>\n",
              "      <th>3</th>\n",
              "      <td>0.308995</td>\n",
              "      <td>1.004323</td>\n",
              "      <td>1.479163</td>\n",
              "      <td>11.072607</td>\n",
              "      <td>0.441040</td>\n",
              "      <td>2.124678</td>\n",
              "      <td>1.346130</td>\n",
              "      <td>6.000833</td>\n",
              "      <td>84623.00</td>\n",
              "      <td>52045.845280</td>\n",
              "    </tr>\n",
              "    <tr>\n",
              "      <th>4</th>\n",
              "      <td>0.065583</td>\n",
              "      <td>-0.062707</td>\n",
              "      <td>2.479723</td>\n",
              "      <td>6.620334</td>\n",
              "      <td>0.496051</td>\n",
              "      <td>0.030418</td>\n",
              "      <td>0.643167</td>\n",
              "      <td>4.925444</td>\n",
              "      <td>20.85</td>\n",
              "      <td>7602.755533</td>\n",
              "    </tr>\n",
              "    <tr>\n",
              "      <th>...</th>\n",
              "      <td>...</td>\n",
              "      <td>...</td>\n",
              "      <td>...</td>\n",
              "      <td>...</td>\n",
              "      <td>...</td>\n",
              "      <td>...</td>\n",
              "      <td>...</td>\n",
              "      <td>...</td>\n",
              "      <td>...</td>\n",
              "      <td>...</td>\n",
              "    </tr>\n",
              "    <tr>\n",
              "      <th>84</th>\n",
              "      <td>0.237830</td>\n",
              "      <td>-0.186940</td>\n",
              "      <td>1.614029</td>\n",
              "      <td>3.428319</td>\n",
              "      <td>0.337140</td>\n",
              "      <td>-0.137764</td>\n",
              "      <td>1.866907</td>\n",
              "      <td>3.080584</td>\n",
              "      <td>12781.00</td>\n",
              "      <td>7557.487777</td>\n",
              "    </tr>\n",
              "    <tr>\n",
              "      <th>85</th>\n",
              "      <td>0.153252</td>\n",
              "      <td>0.512895</td>\n",
              "      <td>1.868664</td>\n",
              "      <td>4.681027</td>\n",
              "      <td>0.230988</td>\n",
              "      <td>0.868242</td>\n",
              "      <td>2.297871</td>\n",
              "      <td>4.294182</td>\n",
              "      <td>12864.00</td>\n",
              "      <td>6715.319155</td>\n",
              "    </tr>\n",
              "    <tr>\n",
              "      <th>86</th>\n",
              "      <td>0.339756</td>\n",
              "      <td>0.280741</td>\n",
              "      <td>1.433103</td>\n",
              "      <td>4.764661</td>\n",
              "      <td>0.488377</td>\n",
              "      <td>0.282261</td>\n",
              "      <td>1.666586</td>\n",
              "      <td>6.053924</td>\n",
              "      <td>49167.00</td>\n",
              "      <td>24368.103360</td>\n",
              "    </tr>\n",
              "    <tr>\n",
              "      <th>87</th>\n",
              "      <td>0.592300</td>\n",
              "      <td>-0.367213</td>\n",
              "      <td>1.190747</td>\n",
              "      <td>2.129584</td>\n",
              "      <td>0.105743</td>\n",
              "      <td>-0.207556</td>\n",
              "      <td>3.143208</td>\n",
              "      <td>1.200925</td>\n",
              "      <td>651.00</td>\n",
              "      <td>468.468870</td>\n",
              "    </tr>\n",
              "    <tr>\n",
              "      <th>88</th>\n",
              "      <td>0.270830</td>\n",
              "      <td>0.118159</td>\n",
              "      <td>1.545615</td>\n",
              "      <td>4.074833</td>\n",
              "      <td>0.174140</td>\n",
              "      <td>0.718995</td>\n",
              "      <td>2.168275</td>\n",
              "      <td>3.544009</td>\n",
              "      <td>11762.00</td>\n",
              "      <td>8091.096165</td>\n",
              "    </tr>\n",
              "  </tbody>\n",
              "</table>\n",
              "<p>89 rows × 10 columns</p>\n",
              "</div>\n",
              "      <button class=\"colab-df-convert\" onclick=\"convertToInteractive('df-10e0c32d-4de9-45e2-bc30-e531fbe77b7c')\"\n",
              "              title=\"Convert this dataframe to an interactive table.\"\n",
              "              style=\"display:none;\">\n",
              "        \n",
              "  <svg xmlns=\"http://www.w3.org/2000/svg\" height=\"24px\"viewBox=\"0 0 24 24\"\n",
              "       width=\"24px\">\n",
              "    <path d=\"M0 0h24v24H0V0z\" fill=\"none\"/>\n",
              "    <path d=\"M18.56 5.44l.94 2.06.94-2.06 2.06-.94-2.06-.94-.94-2.06-.94 2.06-2.06.94zm-11 1L8.5 8.5l.94-2.06 2.06-.94-2.06-.94L8.5 2.5l-.94 2.06-2.06.94zm10 10l.94 2.06.94-2.06 2.06-.94-2.06-.94-.94-2.06-.94 2.06-2.06.94z\"/><path d=\"M17.41 7.96l-1.37-1.37c-.4-.4-.92-.59-1.43-.59-.52 0-1.04.2-1.43.59L10.3 9.45l-7.72 7.72c-.78.78-.78 2.05 0 2.83L4 21.41c.39.39.9.59 1.41.59.51 0 1.02-.2 1.41-.59l7.78-7.78 2.81-2.81c.8-.78.8-2.07 0-2.86zM5.41 20L4 18.59l7.72-7.72 1.47 1.35L5.41 20z\"/>\n",
              "  </svg>\n",
              "      </button>\n",
              "      \n",
              "  <style>\n",
              "    .colab-df-container {\n",
              "      display:flex;\n",
              "      flex-wrap:wrap;\n",
              "      gap: 12px;\n",
              "    }\n",
              "\n",
              "    .colab-df-convert {\n",
              "      background-color: #E8F0FE;\n",
              "      border: none;\n",
              "      border-radius: 50%;\n",
              "      cursor: pointer;\n",
              "      display: none;\n",
              "      fill: #1967D2;\n",
              "      height: 32px;\n",
              "      padding: 0 0 0 0;\n",
              "      width: 32px;\n",
              "    }\n",
              "\n",
              "    .colab-df-convert:hover {\n",
              "      background-color: #E2EBFA;\n",
              "      box-shadow: 0px 1px 2px rgba(60, 64, 67, 0.3), 0px 1px 3px 1px rgba(60, 64, 67, 0.15);\n",
              "      fill: #174EA6;\n",
              "    }\n",
              "\n",
              "    [theme=dark] .colab-df-convert {\n",
              "      background-color: #3B4455;\n",
              "      fill: #D2E3FC;\n",
              "    }\n",
              "\n",
              "    [theme=dark] .colab-df-convert:hover {\n",
              "      background-color: #434B5C;\n",
              "      box-shadow: 0px 1px 3px 1px rgba(0, 0, 0, 0.15);\n",
              "      filter: drop-shadow(0px 1px 2px rgba(0, 0, 0, 0.3));\n",
              "      fill: #FFFFFF;\n",
              "    }\n",
              "  </style>\n",
              "\n",
              "      <script>\n",
              "        const buttonEl =\n",
              "          document.querySelector('#df-10e0c32d-4de9-45e2-bc30-e531fbe77b7c button.colab-df-convert');\n",
              "        buttonEl.style.display =\n",
              "          google.colab.kernel.accessAllowed ? 'block' : 'none';\n",
              "\n",
              "        async function convertToInteractive(key) {\n",
              "          const element = document.querySelector('#df-10e0c32d-4de9-45e2-bc30-e531fbe77b7c');\n",
              "          const dataTable =\n",
              "            await google.colab.kernel.invokeFunction('convertToInteractive',\n",
              "                                                     [key], {});\n",
              "          if (!dataTable) return;\n",
              "\n",
              "          const docLinkHtml = 'Like what you see? Visit the ' +\n",
              "            '<a target=\"_blank\" href=https://colab.research.google.com/notebooks/data_table.ipynb>data table notebook</a>'\n",
              "            + ' to learn more about interactive tables.';\n",
              "          element.innerHTML = '';\n",
              "          dataTable['output_type'] = 'display_data';\n",
              "          await google.colab.output.renderOutput(dataTable, element);\n",
              "          const docLink = document.createElement('div');\n",
              "          docLink.innerHTML = docLinkHtml;\n",
              "          element.appendChild(docLink);\n",
              "        }\n",
              "      </script>\n",
              "    </div>\n",
              "  </div>\n",
              "  "
            ]
          },
          "metadata": {},
          "execution_count": 2648
        }
      ]
    },
    {
      "cell_type": "markdown",
      "source": [
        "**Train Test Split 20 Feature Dataset**"
      ],
      "metadata": {
        "id": "pPo9R0M4eXbZ"
      }
    },
    {
      "cell_type": "code",
      "source": [
        "from sklearn.model_selection import train_test_split\n",
        "X_train_20, X_test_20, y_train_20, y_test_20 = train_test_split(data_new_20features_X, data_y_trans, train_size = 0.85,random_state=42)"
      ],
      "metadata": {
        "id": "QucBOM6OWd9k"
      },
      "execution_count": 2673,
      "outputs": []
    },
    {
      "cell_type": "markdown",
      "source": [
        "**Standardization of the 20 Feature Dataset**"
      ],
      "metadata": {
        "id": "IDQpWUGeeiUJ"
      }
    },
    {
      "cell_type": "code",
      "source": [
        "from sklearn.preprocessing import StandardScaler \n",
        "ss_20 = StandardScaler()\n",
        "X_train_std_20 = ss_20.fit_transform(X_train_20)\n",
        "X_test_std_20 = ss_20.fit_transform(X_test_20)"
      ],
      "metadata": {
        "id": "iUlTx0ZXWpeQ"
      },
      "execution_count": 2674,
      "outputs": []
    },
    {
      "cell_type": "markdown",
      "source": [
        "**CLASSIFICATION**"
      ],
      "metadata": {
        "id": "r0lYHceferiF"
      }
    },
    {
      "cell_type": "markdown",
      "source": [
        "**Random forest**"
      ],
      "metadata": {
        "id": "Vynz9IKtXsC6"
      }
    },
    {
      "cell_type": "code",
      "source": [
        "from sklearn.ensemble import RandomForestClassifier\n",
        "rf = RandomForestClassifier(random_state=42, n_estimators=20, max_depth=90)\n",
        "rf.fit(X_train_std_20, y_train_20)"
      ],
      "metadata": {
        "colab": {
          "base_uri": "https://localhost:8080/"
        },
        "id": "2Pi0bqiIW7xY",
        "outputId": "a5e0626c-8a8f-4808-fc9a-b0e6f268fb26"
      },
      "execution_count": 2675,
      "outputs": [
        {
          "output_type": "execute_result",
          "data": {
            "text/plain": [
              "RandomForestClassifier(max_depth=90, n_estimators=20, random_state=42)"
            ]
          },
          "metadata": {},
          "execution_count": 2675
        }
      ]
    },
    {
      "cell_type": "code",
      "source": [
        "rf_y_pred = rf.predict(X_test_std_20)"
      ],
      "metadata": {
        "id": "Ib7MG-cpXAfc"
      },
      "execution_count": 2676,
      "outputs": []
    },
    {
      "cell_type": "code",
      "source": [
        "from sklearn.metrics import accuracy_score "
      ],
      "metadata": {
        "id": "T4LN617ZXGzI"
      },
      "execution_count": 2677,
      "outputs": []
    },
    {
      "cell_type": "code",
      "source": [
        "acc_score = accuracy_score(y_test_20, rf_y_pred)\n",
        "print(\"Accuracy Score for Random_Forest: \\n\", acc_score*100)"
      ],
      "metadata": {
        "colab": {
          "base_uri": "https://localhost:8080/"
        },
        "id": "KskOgKH3XI4h",
        "outputId": "15260942-51e8-4a77-e475-287f6803430a"
      },
      "execution_count": 2678,
      "outputs": [
        {
          "output_type": "stream",
          "name": "stdout",
          "text": [
            "Accuracy Score for Random_Forest: \n",
            " 71.42857142857143\n"
          ]
        }
      ]
    },
    {
      "cell_type": "code",
      "source": [
        "from sklearn.metrics import classification_report \n",
        "from sklearn.metrics import confusion_matrix "
      ],
      "metadata": {
        "id": "HfautD51Vp-R"
      },
      "execution_count": 2679,
      "outputs": []
    },
    {
      "cell_type": "code",
      "source": [
        "print(\"Classification Report for Random Forest: \\n\", classification_report(y_test_20,rf_y_pred))"
      ],
      "metadata": {
        "colab": {
          "base_uri": "https://localhost:8080/"
        },
        "id": "zupRbm-7VvHS",
        "outputId": "f0a8521e-a64c-49c7-962c-ce014bd7d7fc"
      },
      "execution_count": 2680,
      "outputs": [
        {
          "output_type": "stream",
          "name": "stdout",
          "text": [
            "Classification Report for Random Forest: \n",
            "               precision    recall  f1-score   support\n",
            "\n",
            "           0       0.62      0.83      0.71         6\n",
            "           1       1.00      0.33      0.50         3\n",
            "           2       0.80      0.80      0.80         5\n",
            "\n",
            "    accuracy                           0.71        14\n",
            "   macro avg       0.81      0.66      0.67        14\n",
            "weighted avg       0.77      0.71      0.70        14\n",
            "\n"
          ]
        }
      ]
    },
    {
      "cell_type": "code",
      "source": [
        "rf_conf_mat = confusion_matrix(y_test_20, rf_y_pred)\n",
        "print(\"Random Forest Confusion: \\n\", rf_conf_mat)"
      ],
      "metadata": {
        "colab": {
          "base_uri": "https://localhost:8080/"
        },
        "id": "vP9QnYqYV0ec",
        "outputId": "f62f908d-ce04-4cd0-9e48-f3e6d48181b3"
      },
      "execution_count": 2681,
      "outputs": [
        {
          "output_type": "stream",
          "name": "stdout",
          "text": [
            "Random Forest Confusion: \n",
            " [[5 0 1]\n",
            " [2 1 0]\n",
            " [1 0 4]]\n"
          ]
        }
      ]
    },
    {
      "cell_type": "markdown",
      "source": [
        "cross validation"
      ],
      "metadata": {
        "id": "TaPFUbTDHMwa"
      }
    },
    {
      "cell_type": "code",
      "source": [
        "from sklearn.model_selection import KFold\n",
        "kfold_validation=KFold(5)\n",
        "import numpy as np\n",
        "from sklearn.model_selection import cross_val_score\n",
        "results=cross_val_score(rf,data_new_20features_X, data_y_trans,cv=kfold_validation)\n",
        "print(results)\n",
        "print(np.mean(results))"
      ],
      "metadata": {
        "colab": {
          "base_uri": "https://localhost:8080/"
        },
        "id": "uRX0pBAcHR6T",
        "outputId": "94f71e28-6595-4646-bda6-4f1be429b3f6"
      },
      "execution_count": 2683,
      "outputs": [
        {
          "output_type": "stream",
          "name": "stdout",
          "text": [
            "[0.5        0.38888889 0.61111111 0.83333333 0.64705882]\n",
            "0.596078431372549\n"
          ]
        }
      ]
    },
    {
      "cell_type": "markdown",
      "source": [
        "RoC curve Function"
      ],
      "metadata": {
        "id": "e_MTwSMiV6l_"
      }
    },
    {
      "cell_type": "code",
      "source": [
        "def RoC_Curve(classifier, X_val, y_val, title): \n",
        "        \"\"\" RoC Curve for Classifier \n",
        "        Parameters: \n",
        "        ------------\n",
        "        classifier: Machine Learning Classifier to be Evaluated\n",
        "        X_val: Validation Dataset\n",
        "        y_val: Label/Target of Validation Dataset\n",
        "\n",
        "        Attributes:\n",
        "        Plots the Graph    \n",
        "        \n",
        "        Note: Some part of this Method code is taken \n",
        "            from Sklearn Website\n",
        "        \"\"\"\n",
        "\n",
        "        lw = 2\n",
        "        n_classes = 3\n",
        "        y_test1 = to_categorical(y_val)\n",
        "        pred_RFC_proba = classifier.predict_proba(X_val)\n",
        "        y_score = pred_RFC_proba\n",
        "\n",
        "        # Compute ROC curve and ROC area for each class\n",
        "        fpr = dict()\n",
        "        tpr = dict()\n",
        "        roc_auc = dict()\n",
        "        for i in range(n_classes):\n",
        "            fpr[i], tpr[i], _ = roc_curve(y_test1[:, i], y_score[:, i])\n",
        "            roc_auc[i] = auc(fpr[i], tpr[i])\n",
        "\n",
        "        # Compute micro-average ROC curve and ROC area\n",
        "        fpr[\"micro\"], tpr[\"micro\"], _ = roc_curve(y_test1.ravel(), y_score.ravel())\n",
        "        roc_auc[\"micro\"] = auc(fpr[\"micro\"], tpr[\"micro\"])\n",
        "\n",
        "        # First aggregate all false positive rates\n",
        "        all_fpr = np.unique(np.concatenate([fpr[i] for i in range(n_classes)]))\n",
        "\n",
        "        # Then interpolate all ROC curves at this points\n",
        "        mean_tpr = np.zeros_like(all_fpr)\n",
        "        for i in range(n_classes):\n",
        "            mean_tpr += interp(all_fpr, fpr[i], tpr[i])\n",
        "\n",
        "        # Finally average it and compute AUC\n",
        "        mean_tpr /= n_classes\n",
        "\n",
        "        fpr[\"macro\"] = all_fpr\n",
        "        tpr[\"macro\"] = mean_tpr\n",
        "        roc_auc[\"macro\"] = auc(fpr[\"macro\"], tpr[\"macro\"])\n",
        "\n",
        "        # Plot all ROC curves\n",
        "        plt.figure(figsize=(20,10))\n",
        "        plt.plot(fpr[\"micro\"], tpr[\"micro\"],\n",
        "                label='micro-average ROC curve (area = {0:0.2f})'\n",
        "                    ''.format(roc_auc[\"micro\"]),\n",
        "                color='deeppink', linestyle=':', linewidth=4)\n",
        "\n",
        "        plt.plot(fpr[\"macro\"], tpr[\"macro\"],\n",
        "                label='macro-average ROC curve (area = {0:0.2f})'\n",
        "                    ''.format(roc_auc[\"macro\"]),\n",
        "                color='navy', linestyle=':', linewidth=4)\n",
        "\n",
        "        list_class = ['adeno','squamous','other']\n",
        "        for i in range(n_classes):\n",
        "            plt.plot(fpr[i], tpr[i], lw=lw,\n",
        "                    label='ROC curve of class {0} (area = {1:0.2f})'\n",
        "                    ''.format(list_class[i], roc_auc[i]))\n",
        "\n",
        "        plt.plot([0, 1], [0, 1], 'k--', lw=lw)\n",
        "        plt.xlim([0.0, 1.0])\n",
        "        plt.ylim([0.0, 1.05])\n",
        "        plt.xlabel('False Positive Rate')\n",
        "        plt.ylabel('True Positive Rate')\n",
        "        plt.title(title) \n",
        "        plt.legend(loc=\"lower right\")\n",
        "        plt.show()"
      ],
      "metadata": {
        "id": "aym3FOW5V8bY"
      },
      "execution_count": 2659,
      "outputs": []
    },
    {
      "cell_type": "code",
      "source": [
        "from keras.utils.np_utils import to_categorical\n",
        "from sklearn.metrics import roc_curve, auc\n",
        "from scipy import interp\n",
        "from sklearn.metrics import roc_auc_score\n",
        "import matplotlib.pyplot as plt"
      ],
      "metadata": {
        "id": "kqfhjcUaWDEL"
      },
      "execution_count": 2660,
      "outputs": []
    },
    {
      "cell_type": "code",
      "source": [
        "title = 'Receiver operating characteristic of Random Forest'\n",
        "RoC_Curve(rf, X_test_std_20, y_test_20, title)"
      ],
      "metadata": {
        "colab": {
          "base_uri": "https://localhost:8080/",
          "height": 603
        },
        "id": "vr2FcYYZWFfB",
        "outputId": "1672a7e0-a490-4048-f736-55d84cf4f621"
      },
      "execution_count": 2661,
      "outputs": [
        {
          "output_type": "stream",
          "name": "stderr",
          "text": [
            "/usr/local/lib/python3.7/dist-packages/ipykernel_launcher.py:40: DeprecationWarning: scipy.interp is deprecated and will be removed in SciPy 2.0.0, use numpy.interp instead\n"
          ]
        },
        {
          "output_type": "display_data",
          "data": {
            "text/plain": [
              "<Figure size 1440x720 with 1 Axes>"
            ],
            "image/png": "[encoded data removed]"
          },
          "metadata": {
            "needs_background": "light"
          }
        }
      ]
    },
    {
      "cell_type": "markdown",
      "source": [
        "**Decision tree**"
      ],
      "metadata": {
        "id": "r1otUpm9Xw5M"
      }
    },
    {
      "cell_type": "code",
      "source": [
        "from sklearn.tree import DecisionTreeClassifier\n",
        "ml_dec = DecisionTreeClassifier()"
      ],
      "metadata": {
        "id": "bT8LrISQX1Fi"
      },
      "execution_count": 2662,
      "outputs": []
    },
    {
      "cell_type": "code",
      "source": [
        "ml_dec.fit(X_train_std_20, y_train_20)"
      ],
      "metadata": {
        "colab": {
          "base_uri": "https://localhost:8080/"
        },
        "id": "VGxqz2_AX35E",
        "outputId": "66e6c9ac-e57c-4c5d-8c3d-c9aa78b38aa1"
      },
      "execution_count": 2663,
      "outputs": [
        {
          "output_type": "execute_result",
          "data": {
            "text/plain": [
              "DecisionTreeClassifier()"
            ]
          },
          "metadata": {},
          "execution_count": 2663
        }
      ]
    },
    {
      "cell_type": "code",
      "source": [
        "res_dec=ml_dec.predict(X_test_std_20)"
      ],
      "metadata": {
        "id": "vqyolgCTX7v8"
      },
      "execution_count": 2664,
      "outputs": []
    },
    {
      "cell_type": "code",
      "source": [
        "accuracy_1=accuracy_score(y_test_20,res_dec)\n",
        "print(\"Decision tree :\",accuracy_1*100)"
      ],
      "metadata": {
        "colab": {
          "base_uri": "https://localhost:8080/"
        },
        "id": "QAJ_NZ2XX-SK",
        "outputId": "0cbb5dc5-7516-4c20-ac8f-57e1accb3def"
      },
      "execution_count": 2665,
      "outputs": [
        {
          "output_type": "stream",
          "name": "stdout",
          "text": [
            "Decision tree : 66.66666666666666\n"
          ]
        }
      ]
    },
    {
      "cell_type": "markdown",
      "source": [
        "**XG Boost**"
      ],
      "metadata": {
        "id": "ZRpn4Z1KYB6D"
      }
    },
    {
      "cell_type": "code",
      "source": [
        "from sklearn.ensemble import GradientBoostingClassifier"
      ],
      "metadata": {
        "id": "zyd8Kkh7YEoL"
      },
      "execution_count": 2666,
      "outputs": []
    },
    {
      "cell_type": "code",
      "source": [
        "gradient_boost = GradientBoostingClassifier()\n",
        "gradient_boost.fit(X_train_std_20, y_train_20)"
      ],
      "metadata": {
        "colab": {
          "base_uri": "https://localhost:8080/"
        },
        "id": "TDTYJM99YHH5",
        "outputId": "8e0c4f71-535e-4f9d-e303-47c64174746d"
      },
      "execution_count": 2667,
      "outputs": [
        {
          "output_type": "execute_result",
          "data": {
            "text/plain": [
              "GradientBoostingClassifier()"
            ]
          },
          "metadata": {},
          "execution_count": 2667
        }
      ]
    },
    {
      "cell_type": "code",
      "source": [
        "res_xg=gradient_boost.predict(X_test_std_20)"
      ],
      "metadata": {
        "id": "Vm6WlDmiYK8w"
      },
      "execution_count": 2668,
      "outputs": []
    },
    {
      "cell_type": "code",
      "source": [
        "acc_score_xg = accuracy_score(y_test_20, res_xg)\n",
        "print(\"Accuracy Score for GradientBoosting: \\n\", acc_score_xg*100)"
      ],
      "metadata": {
        "colab": {
          "base_uri": "https://localhost:8080/"
        },
        "id": "DOlORhcgYN2G",
        "outputId": "a4e0c1af-08b7-477c-ab63-b164fea11700"
      },
      "execution_count": 2669,
      "outputs": [
        {
          "output_type": "stream",
          "name": "stdout",
          "text": [
            "Accuracy Score for GradientBoosting: \n",
            " 66.66666666666666\n"
          ]
        }
      ]
    },
    {
      "cell_type": "markdown",
      "source": [
        "**Naive Bayes**"
      ],
      "metadata": {
        "id": "kWxVBps4iStD"
      }
    },
    {
      "cell_type": "code",
      "source": [
        "from sklearn.naive_bayes import GaussianNB "
      ],
      "metadata": {
        "id": "tBIMYgzpiVo9"
      },
      "execution_count": 2670,
      "outputs": []
    },
    {
      "cell_type": "code",
      "source": [
        "gnb = GaussianNB()\n",
        "gnb.fit(X_train_std_20, y_train_20)\n",
        "gnb_y_pred = gnb.predict(X_test_std_20)"
      ],
      "metadata": {
        "id": "kKiOkn2WiX6f"
      },
      "execution_count": 2671,
      "outputs": []
    },
    {
      "cell_type": "code",
      "source": [
        "acc_score_gnb = accuracy_score(y_test_20, gnb_y_pred)\n",
        "print(\"Accuracy Score for Naive: \\n\", acc_score_gnb*100)"
      ],
      "metadata": {
        "colab": {
          "base_uri": "https://localhost:8080/"
        },
        "id": "d8g0Dxzkij_X",
        "outputId": "3245c6a5-28de-489a-9b26-5b48f4789d50"
      },
      "execution_count": 2672,
      "outputs": [
        {
          "output_type": "stream",
          "name": "stdout",
          "text": [
            "Accuracy Score for Naive: \n",
            " 66.66666666666666\n"
          ]
        }
      ]
    }
  ]
}